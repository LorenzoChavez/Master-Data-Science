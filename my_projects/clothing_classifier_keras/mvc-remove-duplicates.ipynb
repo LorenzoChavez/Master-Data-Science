{
 "cells": [
  {
   "cell_type": "markdown",
   "metadata": {},
   "source": [
    "# Find and remove duplicate images\n",
    "\n",
    "On the following link https://github.com/MVC-Datasets/MVC/issues/4 it was raised that 261 images from the dataset have the same 'hash' number although they have different filenames. <br>\n",
    "\n",
    "This means that there are duplicate images in our dataset that we need to delete before creating our model.\n",
    "\n",
    "The following steps have been followed:\n",
    "\n",
    "   1. Explore duplicates files and make the transformations needed\n",
    "   - Identify the actual filename for each duplicate\n",
    "   - Copy all duplicates into a new folder for visual exploration\n",
    "   - Select and remove only the duplicate files"
   ]
  },
  {
   "cell_type": "code",
   "execution_count": 1,
   "metadata": {
    "collapsed": true
   },
   "outputs": [],
   "source": [
    "import os\n",
    "from os import listdir\n",
    "from shutil import copy2\n",
    "\n",
    "import pandas as pd\n",
    "import numpy as np"
   ]
  },
  {
   "cell_type": "code",
   "execution_count": 2,
   "metadata": {
    "collapsed": true
   },
   "outputs": [],
   "source": [
    "attribute_labels = \"attribute_labels.json\"  #~590Mb\n",
    "mvc_info = \"mvc_info.json\"                  #~140Mb\n",
    "duplicates = \"duplicates.csv\"\n",
    "\n",
    "img_mvc = \"./images/mvc/\" #path to all images\n",
    "img_selected = \"./images/images_selected/\""
   ]
  },
  {
   "cell_type": "code",
   "execution_count": 3,
   "metadata": {
    "collapsed": true
   },
   "outputs": [],
   "source": [
    "df_dup = pd.read_csv(duplicates)\n",
    "df_info = pd.read_json(mvc_info)\n",
    "df_labels = pd.read_json(attribute_labels)"
   ]
  },
  {
   "cell_type": "code",
   "execution_count": 4,
   "metadata": {},
   "outputs": [
    {
     "data": {
      "text/html": [
       "<div>\n",
       "<style>\n",
       "    .dataframe thead tr:only-child th {\n",
       "        text-align: right;\n",
       "    }\n",
       "\n",
       "    .dataframe thead th {\n",
       "        text-align: left;\n",
       "    }\n",
       "\n",
       "    .dataframe tbody tr th {\n",
       "        vertical-align: top;\n",
       "    }\n",
       "</style>\n",
       "<table border=\"1\" class=\"dataframe\">\n",
       "  <thead>\n",
       "    <tr style=\"text-align: right;\">\n",
       "      <th></th>\n",
       "      <th>hash</th>\n",
       "      <th>link</th>\n",
       "    </tr>\n",
       "  </thead>\n",
       "  <tbody>\n",
       "    <tr>\n",
       "      <th>count</th>\n",
       "      <td>261</td>\n",
       "      <td>261</td>\n",
       "    </tr>\n",
       "    <tr>\n",
       "      <th>unique</th>\n",
       "      <td>125</td>\n",
       "      <td>261</td>\n",
       "    </tr>\n",
       "    <tr>\n",
       "      <th>top</th>\n",
       "      <td>99d9d6ecfd4f4895696c29fb5cd103cd</td>\n",
       "      <td>z/2/5/1/6/8/4/2516846-3-4x.jpg</td>\n",
       "    </tr>\n",
       "    <tr>\n",
       "      <th>freq</th>\n",
       "      <td>3</td>\n",
       "      <td>1</td>\n",
       "    </tr>\n",
       "  </tbody>\n",
       "</table>\n",
       "</div>"
      ],
      "text/plain": [
       "                                    hash                            link\n",
       "count                                261                             261\n",
       "unique                               125                             261\n",
       "top     99d9d6ecfd4f4895696c29fb5cd103cd  z/2/5/1/6/8/4/2516846-3-4x.jpg\n",
       "freq                                   3                               1"
      ]
     },
     "execution_count": 4,
     "metadata": {},
     "output_type": "execute_result"
    }
   ],
   "source": [
    "df_dup.describe()"
   ]
  },
  {
   "cell_type": "markdown",
   "metadata": {},
   "source": [
    "It seems there are 125 unique images and 136 suspected duplicates"
   ]
  },
  {
   "cell_type": "code",
   "execution_count": 5,
   "metadata": {},
   "outputs": [
    {
     "data": {
      "text/html": [
       "<div>\n",
       "<style>\n",
       "    .dataframe thead tr:only-child th {\n",
       "        text-align: right;\n",
       "    }\n",
       "\n",
       "    .dataframe thead th {\n",
       "        text-align: left;\n",
       "    }\n",
       "\n",
       "    .dataframe tbody tr th {\n",
       "        vertical-align: top;\n",
       "    }\n",
       "</style>\n",
       "<table border=\"1\" class=\"dataframe\">\n",
       "  <thead>\n",
       "    <tr style=\"text-align: right;\">\n",
       "      <th></th>\n",
       "      <th>hash</th>\n",
       "      <th>link</th>\n",
       "    </tr>\n",
       "  </thead>\n",
       "  <tbody>\n",
       "    <tr>\n",
       "      <th>0</th>\n",
       "      <td>0168b5eced9b063bb3a0b96940b21512</td>\n",
       "      <td>z/2/5/1/6/8/4/2516846-2-4x.jpg</td>\n",
       "    </tr>\n",
       "    <tr>\n",
       "      <th>1</th>\n",
       "      <td>0168b5eced9b063bb3a0b96940b21512</td>\n",
       "      <td>z/2/5/1/6/8/4/2516849-2-4x.jpg</td>\n",
       "    </tr>\n",
       "    <tr>\n",
       "      <th>2</th>\n",
       "      <td>0168b5eced9b063bb3a0b96940b21512</td>\n",
       "      <td>z/2/5/1/6/8/5/2516853-2-4x.jpg</td>\n",
       "    </tr>\n",
       "  </tbody>\n",
       "</table>\n",
       "</div>"
      ],
      "text/plain": [
       "                               hash                            link\n",
       "0  0168b5eced9b063bb3a0b96940b21512  z/2/5/1/6/8/4/2516846-2-4x.jpg\n",
       "1  0168b5eced9b063bb3a0b96940b21512  z/2/5/1/6/8/4/2516849-2-4x.jpg\n",
       "2  0168b5eced9b063bb3a0b96940b21512  z/2/5/1/6/8/5/2516853-2-4x.jpg"
      ]
     },
     "execution_count": 5,
     "metadata": {},
     "output_type": "execute_result"
    }
   ],
   "source": [
    "df_dup.head(3)"
   ]
  },
  {
   "cell_type": "code",
   "execution_count": 6,
   "metadata": {
    "scrolled": true
   },
   "outputs": [
    {
     "data": {
      "text/html": [
       "<div>\n",
       "<style>\n",
       "    .dataframe thead tr:only-child th {\n",
       "        text-align: right;\n",
       "    }\n",
       "\n",
       "    .dataframe thead th {\n",
       "        text-align: left;\n",
       "    }\n",
       "\n",
       "    .dataframe tbody tr th {\n",
       "        vertical-align: top;\n",
       "    }\n",
       "</style>\n",
       "<table border=\"1\" class=\"dataframe\">\n",
       "  <thead>\n",
       "    <tr style=\"text-align: right;\">\n",
       "      <th></th>\n",
       "      <th>hash</th>\n",
       "      <th>link</th>\n",
       "      <th>filename</th>\n",
       "    </tr>\n",
       "  </thead>\n",
       "  <tbody>\n",
       "    <tr>\n",
       "      <th>0</th>\n",
       "      <td>0168b5eced9b063bb3a0b96940b21512</td>\n",
       "      <td>z/2/5/1/6/8/4/2516846-2-4x.jpg</td>\n",
       "      <td>2516846_v2</td>\n",
       "    </tr>\n",
       "    <tr>\n",
       "      <th>1</th>\n",
       "      <td>0168b5eced9b063bb3a0b96940b21512</td>\n",
       "      <td>z/2/5/1/6/8/4/2516849-2-4x.jpg</td>\n",
       "      <td>2516849_v2</td>\n",
       "    </tr>\n",
       "    <tr>\n",
       "      <th>2</th>\n",
       "      <td>0168b5eced9b063bb3a0b96940b21512</td>\n",
       "      <td>z/2/5/1/6/8/5/2516853-2-4x.jpg</td>\n",
       "      <td>2516853_v2</td>\n",
       "    </tr>\n",
       "  </tbody>\n",
       "</table>\n",
       "</div>"
      ],
      "text/plain": [
       "                               hash                            link  \\\n",
       "0  0168b5eced9b063bb3a0b96940b21512  z/2/5/1/6/8/4/2516846-2-4x.jpg   \n",
       "1  0168b5eced9b063bb3a0b96940b21512  z/2/5/1/6/8/4/2516849-2-4x.jpg   \n",
       "2  0168b5eced9b063bb3a0b96940b21512  z/2/5/1/6/8/5/2516853-2-4x.jpg   \n",
       "\n",
       "     filename  \n",
       "0  2516846_v2  \n",
       "1  2516849_v2  \n",
       "2  2516853_v2  "
      ]
     },
     "execution_count": 6,
     "metadata": {},
     "output_type": "execute_result"
    }
   ],
   "source": [
    "# create a new column with the pattern we need\n",
    "# also when the MVC was created the images with '_vp' were replaced by '_v0' so we need to do the same\n",
    "\n",
    "df_dup['filename'] = df_dup['link'].str[14:-7].str.replace('-', '_v')\n",
    "df_dup['filename'] = df_dup['filename'].str.replace('_vp', '_v0')\n",
    "\n",
    "# this dataset has 4 views for each product (name_v0, name_v1, name_v2 etc)\n",
    "# after formating the filename column we need to sort it to ensure we always keep the '_v0' view at the top\n",
    "df_dup.sort_values(by=['hash', 'filename'], inplace=True)\n",
    "df_dup.reset_index(drop=True, inplace=True)\n",
    "df_dup.head(3)"
   ]
  },
  {
   "cell_type": "markdown",
   "metadata": {},
   "source": [
    "The 'filename' column from **df_labels** is the one we need to find the duplicate images.<br>"
   ]
  },
  {
   "cell_type": "code",
   "execution_count": 7,
   "metadata": {},
   "outputs": [
    {
     "data": {
      "text/html": [
       "<div>\n",
       "<style>\n",
       "    .dataframe thead tr:only-child th {\n",
       "        text-align: right;\n",
       "    }\n",
       "\n",
       "    .dataframe thead th {\n",
       "        text-align: left;\n",
       "    }\n",
       "\n",
       "    .dataframe tbody tr th {\n",
       "        vertical-align: top;\n",
       "    }\n",
       "</style>\n",
       "<table border=\"1\" class=\"dataframe\">\n",
       "  <thead>\n",
       "    <tr style=\"text-align: right;\">\n",
       "      <th></th>\n",
       "      <th>filename</th>\n",
       "    </tr>\n",
       "  </thead>\n",
       "  <tbody>\n",
       "    <tr>\n",
       "      <th>0</th>\n",
       "      <td>p7258521_s3163710_v0</td>\n",
       "    </tr>\n",
       "    <tr>\n",
       "      <th>1</th>\n",
       "      <td>p7258521_s3163710_v1</td>\n",
       "    </tr>\n",
       "    <tr>\n",
       "      <th>2</th>\n",
       "      <td>p7258521_s3163710_v2</td>\n",
       "    </tr>\n",
       "  </tbody>\n",
       "</table>\n",
       "</div>"
      ],
      "text/plain": [
       "               filename\n",
       "0  p7258521_s3163710_v0\n",
       "1  p7258521_s3163710_v1\n",
       "2  p7258521_s3163710_v2"
      ]
     },
     "execution_count": 7,
     "metadata": {},
     "output_type": "execute_result"
    }
   ],
   "source": [
    "df_labels[['filename']].head(3)"
   ]
  },
  {
   "cell_type": "markdown",
   "metadata": {},
   "source": [
    "### Extract all duplicates into a folder"
   ]
  },
  {
   "cell_type": "markdown",
   "metadata": {},
   "source": [
    "The code below copies all possible duplicate images in the *'./image/image-duplicates'* folder for a visual check"
   ]
  },
  {
   "cell_type": "code",
   "execution_count": 8,
   "metadata": {
    "collapsed": true
   },
   "outputs": [],
   "source": [
    "os.makedirs(\"./images/image-duplicates\", exist_ok=True)\n",
    "img_dup = \"./images/image-duplicates/\" #new folder that will contain all duplicate images"
   ]
  },
  {
   "cell_type": "code",
   "execution_count": 9,
   "metadata": {
    "collapsed": true
   },
   "outputs": [],
   "source": [
    "for i in df_dup['filename']:\n",
    "    if i in df_labels['filename'].tolist():\n",
    "        copy2(img_mvc + k + '.jpg', img_dup)"
   ]
  },
  {
   "cell_type": "markdown",
   "metadata": {},
   "source": [
    "### Remove all duplicates"
   ]
  },
  {
   "cell_type": "markdown",
   "metadata": {},
   "source": [
    "Now we need to split our dataframe to get name of the images we will delete"
   ]
  },
  {
   "cell_type": "code",
   "execution_count": 8,
   "metadata": {},
   "outputs": [
    {
     "data": {
      "text/html": [
       "<div>\n",
       "<style>\n",
       "    .dataframe thead tr:only-child th {\n",
       "        text-align: right;\n",
       "    }\n",
       "\n",
       "    .dataframe thead th {\n",
       "        text-align: left;\n",
       "    }\n",
       "\n",
       "    .dataframe tbody tr th {\n",
       "        vertical-align: top;\n",
       "    }\n",
       "</style>\n",
       "<table border=\"1\" class=\"dataframe\">\n",
       "  <thead>\n",
       "    <tr style=\"text-align: right;\">\n",
       "      <th></th>\n",
       "      <th>hash</th>\n",
       "      <th>link</th>\n",
       "      <th>filename</th>\n",
       "    </tr>\n",
       "  </thead>\n",
       "  <tbody>\n",
       "    <tr>\n",
       "      <th>0</th>\n",
       "      <td>0168b5eced9b063bb3a0b96940b21512</td>\n",
       "      <td>z/2/5/1/6/8/4/2516846-2-4x.jpg</td>\n",
       "      <td>2516846_v2</td>\n",
       "    </tr>\n",
       "    <tr>\n",
       "      <th>3</th>\n",
       "      <td>02138c173e87f49b963ccc6d1f603fb0</td>\n",
       "      <td>z/2/5/2/4/8/0/2524801-2-4x.jpg</td>\n",
       "      <td>2524801_v2</td>\n",
       "    </tr>\n",
       "    <tr>\n",
       "      <th>5</th>\n",
       "      <td>057cddb955e4b288d32aad576011b9fa</td>\n",
       "      <td>z/2/5/1/9/2/3/2519235-2-4x.jpg</td>\n",
       "      <td>2519235_v2</td>\n",
       "    </tr>\n",
       "    <tr>\n",
       "      <th>7</th>\n",
       "      <td>0609a47a7ce0a3399503dd30228a4dc2</td>\n",
       "      <td>z/2/5/2/4/8/3/2524835-3-4x.jpg</td>\n",
       "      <td>2524835_v3</td>\n",
       "    </tr>\n",
       "    <tr>\n",
       "      <th>9</th>\n",
       "      <td>090d4f54346a2191f79f553165813766</td>\n",
       "      <td>z/2/5/2/4/4/8/2524482-3-4x.jpg</td>\n",
       "      <td>2524482_v3</td>\n",
       "    </tr>\n",
       "  </tbody>\n",
       "</table>\n",
       "</div>"
      ],
      "text/plain": [
       "                               hash                            link  \\\n",
       "0  0168b5eced9b063bb3a0b96940b21512  z/2/5/1/6/8/4/2516846-2-4x.jpg   \n",
       "3  02138c173e87f49b963ccc6d1f603fb0  z/2/5/2/4/8/0/2524801-2-4x.jpg   \n",
       "5  057cddb955e4b288d32aad576011b9fa  z/2/5/1/9/2/3/2519235-2-4x.jpg   \n",
       "7  0609a47a7ce0a3399503dd30228a4dc2  z/2/5/2/4/8/3/2524835-3-4x.jpg   \n",
       "9  090d4f54346a2191f79f553165813766  z/2/5/2/4/4/8/2524482-3-4x.jpg   \n",
       "\n",
       "     filename  \n",
       "0  2516846_v2  \n",
       "3  2524801_v2  \n",
       "5  2519235_v2  \n",
       "7  2524835_v3  \n",
       "9  2524482_v3  "
      ]
     },
     "execution_count": 8,
     "metadata": {},
     "output_type": "execute_result"
    }
   ],
   "source": [
    "df_keep = df_dup.drop_duplicates(subset=['hash'], keep='first')\n",
    "df_keep.head()"
   ]
  },
  {
   "cell_type": "code",
   "execution_count": 9,
   "metadata": {},
   "outputs": [
    {
     "data": {
      "text/html": [
       "<div>\n",
       "<style>\n",
       "    .dataframe thead tr:only-child th {\n",
       "        text-align: right;\n",
       "    }\n",
       "\n",
       "    .dataframe thead th {\n",
       "        text-align: left;\n",
       "    }\n",
       "\n",
       "    .dataframe tbody tr th {\n",
       "        vertical-align: top;\n",
       "    }\n",
       "</style>\n",
       "<table border=\"1\" class=\"dataframe\">\n",
       "  <thead>\n",
       "    <tr style=\"text-align: right;\">\n",
       "      <th></th>\n",
       "      <th>hash</th>\n",
       "      <th>link</th>\n",
       "      <th>filename</th>\n",
       "    </tr>\n",
       "  </thead>\n",
       "  <tbody>\n",
       "    <tr>\n",
       "      <th>1</th>\n",
       "      <td>0168b5eced9b063bb3a0b96940b21512</td>\n",
       "      <td>z/2/5/1/6/8/4/2516849-2-4x.jpg</td>\n",
       "      <td>2516849_v2</td>\n",
       "    </tr>\n",
       "    <tr>\n",
       "      <th>2</th>\n",
       "      <td>0168b5eced9b063bb3a0b96940b21512</td>\n",
       "      <td>z/2/5/1/6/8/5/2516853-2-4x.jpg</td>\n",
       "      <td>2516853_v2</td>\n",
       "    </tr>\n",
       "    <tr>\n",
       "      <th>4</th>\n",
       "      <td>02138c173e87f49b963ccc6d1f603fb0</td>\n",
       "      <td>z/2/5/2/4/8/1/2524817-2-4x.jpg</td>\n",
       "      <td>2524817_v2</td>\n",
       "    </tr>\n",
       "    <tr>\n",
       "      <th>6</th>\n",
       "      <td>057cddb955e4b288d32aad576011b9fa</td>\n",
       "      <td>z/2/5/1/9/2/7/2519271-2-4x.jpg</td>\n",
       "      <td>2519271_v2</td>\n",
       "    </tr>\n",
       "    <tr>\n",
       "      <th>8</th>\n",
       "      <td>0609a47a7ce0a3399503dd30228a4dc2</td>\n",
       "      <td>z/2/5/2/4/8/6/2524865-3-4x.jpg</td>\n",
       "      <td>2524865_v3</td>\n",
       "    </tr>\n",
       "  </tbody>\n",
       "</table>\n",
       "</div>"
      ],
      "text/plain": [
       "                               hash                            link  \\\n",
       "1  0168b5eced9b063bb3a0b96940b21512  z/2/5/1/6/8/4/2516849-2-4x.jpg   \n",
       "2  0168b5eced9b063bb3a0b96940b21512  z/2/5/1/6/8/5/2516853-2-4x.jpg   \n",
       "4  02138c173e87f49b963ccc6d1f603fb0  z/2/5/2/4/8/1/2524817-2-4x.jpg   \n",
       "6  057cddb955e4b288d32aad576011b9fa  z/2/5/1/9/2/7/2519271-2-4x.jpg   \n",
       "8  0609a47a7ce0a3399503dd30228a4dc2  z/2/5/2/4/8/6/2524865-3-4x.jpg   \n",
       "\n",
       "     filename  \n",
       "1  2516849_v2  \n",
       "2  2516853_v2  \n",
       "4  2524817_v2  \n",
       "6  2519271_v2  \n",
       "8  2524865_v3  "
      ]
     },
     "execution_count": 9,
     "metadata": {},
     "output_type": "execute_result"
    }
   ],
   "source": [
    "df_delete = df_dup[df_keep.reindex(df_dup.index)['hash'].isnull()]\n",
    "df_delete.head()"
   ]
  },
  {
   "cell_type": "code",
   "execution_count": 11,
   "metadata": {},
   "outputs": [
    {
     "name": "stdout",
     "output_type": "stream",
     "text": [
      "Number of images to keep: 125\n",
      "Number of images to delete: 136\n"
     ]
    }
   ],
   "source": [
    "print('Number of images to keep:', len(df_keep))\n",
    "print('Number of images to delete:', len(df_delete))"
   ]
  },
  {
   "cell_type": "markdown",
   "metadata": {
    "collapsed": true
   },
   "source": [
    "To remove the images from *\"./images/img_selected/\"* just replace img_mvc with img_selected in the function below"
   ]
  },
  {
   "cell_type": "code",
   "execution_count": 32,
   "metadata": {},
   "outputs": [
    {
     "name": "stdout",
     "output_type": "stream",
     "text": [
      "Wall time: 4.55 s\n"
     ]
    }
   ],
   "source": [
    "%%time\n",
    "for i in df_delete['filename']:\n",
    "    for k in listdir(img_mvc):\n",
    "        if i in k:\n",
    "            #copy2(img_mvc + k , img_dup) # you can see that 136 images will be deleted\n",
    "            os.remove(img_mvc + k)       # remove the hash of the action you wish to perform"
   ]
  },
  {
   "cell_type": "code",
   "execution_count": 10,
   "metadata": {
    "collapsed": true
   },
   "outputs": [],
   "source": [
    "# we save this dataframe so we can use to delete duplicates in any other notebook\n",
    "df_delete.to_csv('duplicates_delete.csv')"
   ]
  },
  {
   "cell_type": "code",
   "execution_count": null,
   "metadata": {
    "collapsed": true
   },
   "outputs": [],
   "source": []
  }
 ],
 "metadata": {
  "kernelspec": {
   "display_name": "Python 3",
   "language": "python",
   "name": "python3"
  },
  "language_info": {
   "codemirror_mode": {
    "name": "ipython",
    "version": 3
   },
   "file_extension": ".py",
   "mimetype": "text/x-python",
   "name": "python",
   "nbconvert_exporter": "python",
   "pygments_lexer": "ipython3",
   "version": "3.6.5"
  }
 },
 "nbformat": 4,
 "nbformat_minor": 2
}
