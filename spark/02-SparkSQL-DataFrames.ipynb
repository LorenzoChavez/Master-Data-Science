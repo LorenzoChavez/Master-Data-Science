{
 "cells": [
  {
   "cell_type": "markdown",
   "metadata": {},
   "source": [
    "# SparkSQL and DataFrames "
   ]
  },
  {
   "cell_type": "code",
   "execution_count": 5,
   "metadata": {},
   "outputs": [
    {
     "data": {
      "text/html": [
       "\n",
       "            <div>\n",
       "                <p><b>SparkSession - hive</b></p>\n",
       "                \n",
       "        <div>\n",
       "            <p><b>SparkContext</b></p>\n",
       "\n",
       "            <p><a href=\"http://10.0.2.15:4040\">Spark UI</a></p>\n",
       "\n",
       "            <dl>\n",
       "              <dt>Version</dt>\n",
       "                <dd><code>v2.2.0</code></dd>\n",
       "              <dt>Master</dt>\n",
       "                <dd><code>local[*]</code></dd>\n",
       "              <dt>AppName</dt>\n",
       "                <dd><code>PySparkShell</code></dd>\n",
       "            </dl>\n",
       "        </div>\n",
       "        \n",
       "            </div>\n",
       "        "
      ],
      "text/plain": [
       "<pyspark.sql.session.SparkSession at 0x7f28995542e8>"
      ]
     },
     "execution_count": 5,
     "metadata": {},
     "output_type": "execute_result"
    }
   ],
   "source": [
    "from pyspark.sql import SparkSession\n",
    "\n",
    "session = SparkSession.builder.getOrCreate()\n",
    "session"
   ]
  },
  {
   "cell_type": "markdown",
   "metadata": {},
   "source": [
    "## Creating DataFrames"
   ]
  },
  {
   "cell_type": "code",
   "execution_count": 161,
   "metadata": {},
   "outputs": [
    {
     "data": {
      "text/plain": [
       "['manager',\n",
       " 'mechanic',\n",
       " 'mechanic',\n",
       " 'manager',\n",
       " 'sales',\n",
       " 'mechanic',\n",
       " 'mechanic',\n",
       " 'mechanic',\n",
       " 'manager',\n",
       " 'mechanic',\n",
       " 'manager',\n",
       " 'manager']"
      ]
     },
     "execution_count": 161,
     "metadata": {},
     "output_type": "execute_result"
    }
   ],
   "source": [
    "import random\n",
    "\n",
    "random.seed(42)\n",
    "\n",
    "ids = range(12)\n",
    "\n",
    "positions = [random.choice(['mechanic', 'sales', 'manager']) for id_ in ids]\n",
    "positions"
   ]
  },
  {
   "cell_type": "code",
   "execution_count": 190,
   "metadata": {},
   "outputs": [
    {
     "name": "stdout",
     "output_type": "stream",
     "text": [
      "+---+--------+\n",
      "| id|position|\n",
      "+---+--------+\n",
      "|  0| manager|\n",
      "|  1|mechanic|\n",
      "|  2|mechanic|\n",
      "|  3| manager|\n",
      "|  4|   sales|\n",
      "+---+--------+\n",
      "only showing top 5 rows\n",
      "\n"
     ]
    }
   ],
   "source": [
    "df = session.createDataFrame(zip(ids, positions), schema=['id', 'position'])\n",
    "df.show(5)"
   ]
  },
  {
   "cell_type": "markdown",
   "metadata": {},
   "source": [
    "### From RDDs"
   ]
  },
  {
   "cell_type": "code",
   "execution_count": 13,
   "metadata": {},
   "outputs": [
    {
     "data": {
      "text/plain": [
       "coupon150720.csv MapPartitionsRDD[12] at textFile at NativeMethodAccessorImpl.java:0"
      ]
     },
     "execution_count": 13,
     "metadata": {},
     "output_type": "execute_result"
    }
   ],
   "source": [
    "rdd = session.sparkContext.textFile('coupon150720.csv')\n",
    "rdd"
   ]
  },
  {
   "cell_type": "code",
   "execution_count": 14,
   "metadata": {},
   "outputs": [
    {
     "data": {
      "text/plain": [
       "['79062005698500,1,MAA,AUH,9W,9W,56.79,USD,1,H,H,0526,150904,OK,IAF0',\n",
       " '79062005698500,2,AUH,CDG,9W,9W,84.34,USD,1,H,H,6120,150905,OK,IAF0',\n",
       " '79062005924069,1,CJB,MAA,9W,9W,60.0,USD,1,H,H,2768,150721,OK,IAA0',\n",
       " '79065668570385,1,DEL,DXB,9W,9W,160.63,USD,2,S,S,0546,150804,OK,INA0',\n",
       " '79065668737021,1,AUH,IXE,9W,9W,152.46,USD,1,V,V,0501,150803,OK,INA0']"
      ]
     },
     "execution_count": 14,
     "metadata": {},
     "output_type": "execute_result"
    }
   ],
   "source": [
    "rdd.take(5)"
   ]
  },
  {
   "cell_type": "code",
   "execution_count": 15,
   "metadata": {},
   "outputs": [
    {
     "data": {
      "text/plain": [
       "[['79062005698500',\n",
       "  '1',\n",
       "  'MAA',\n",
       "  'AUH',\n",
       "  '9W',\n",
       "  '9W',\n",
       "  '56.79',\n",
       "  'USD',\n",
       "  '1',\n",
       "  'H',\n",
       "  'H',\n",
       "  '0526',\n",
       "  '150904',\n",
       "  'OK',\n",
       "  'IAF0']]"
      ]
     },
     "execution_count": 15,
     "metadata": {},
     "output_type": "execute_result"
    }
   ],
   "source": [
    "split_rdd = rdd.map(lambda line: line.split(','))\n",
    "split_rdd.take(1)"
   ]
  },
  {
   "cell_type": "code",
   "execution_count": 17,
   "metadata": {},
   "outputs": [
    {
     "name": "stdout",
     "output_type": "stream",
     "text": [
      "+--------------+---+---+---+---+---+-----+---+---+---+---+----+------+---+----+\n",
      "|            _1| _2| _3| _4| _5| _6|   _7| _8| _9|_10|_11| _12|   _13|_14| _15|\n",
      "+--------------+---+---+---+---+---+-----+---+---+---+---+----+------+---+----+\n",
      "|79062005698500|  1|MAA|AUH| 9W| 9W|56.79|USD|  1|  H|  H|0526|150904| OK|IAF0|\n",
      "|79062005698500|  2|AUH|CDG| 9W| 9W|84.34|USD|  1|  H|  H|6120|150905| OK|IAF0|\n",
      "|79062005924069|  1|CJB|MAA| 9W| 9W| 60.0|USD|  1|  H|  H|2768|150721| OK|IAA0|\n",
      "+--------------+---+---+---+---+---+-----+---+---+---+---+----+------+---+----+\n",
      "only showing top 3 rows\n",
      "\n"
     ]
    }
   ],
   "source": [
    "new_df = session.createDataFrame(split_rdd)\n",
    "new_df.show(3)"
   ]
  },
  {
   "cell_type": "markdown",
   "metadata": {},
   "source": [
    "### From csv files"
   ]
  },
  {
   "cell_type": "code",
   "execution_count": 21,
   "metadata": {},
   "outputs": [
    {
     "name": "stdout",
     "output_type": "stream",
     "text": [
      "+--------------+---+---+---+---+---+-----+---+---+---+----+----+------+----+----+\n",
      "|           _c0|_c1|_c2|_c3|_c4|_c5|  _c6|_c7|_c8|_c9|_c10|_c11|  _c12|_c13|_c14|\n",
      "+--------------+---+---+---+---+---+-----+---+---+---+----+----+------+----+----+\n",
      "|79062005698500|  1|MAA|AUH| 9W| 9W|56.79|USD|  1|  H|   H|0526|150904|  OK|IAF0|\n",
      "|79062005698500|  2|AUH|CDG| 9W| 9W|84.34|USD|  1|  H|   H|6120|150905|  OK|IAF0|\n",
      "|79062005924069|  1|CJB|MAA| 9W| 9W| 60.0|USD|  1|  H|   H|2768|150721|  OK|IAA0|\n",
      "+--------------+---+---+---+---+---+-----+---+---+---+----+----+------+----+----+\n",
      "only showing top 3 rows\n",
      "\n"
     ]
    }
   ],
   "source": [
    "# We can either read them directly into dataframes or read them as RDDs and transform that into a DataFrame\n",
    "# RDDs are usfeul when working with unstructured data\n",
    "df_from_csv = session.read.csv('coupon150720.csv')\n",
    "df_from_csv.show(3)"
   ]
  },
  {
   "cell_type": "markdown",
   "metadata": {},
   "source": [
    "### SQL + csv"
   ]
  },
  {
   "cell_type": "code",
   "execution_count": 23,
   "metadata": {},
   "outputs": [
    {
     "name": "stdout",
     "output_type": "stream",
     "text": [
      "+--------------+---+---+---+---+---+-----+---+---+---+----+----+------+----+----+\n",
      "|           _c0|_c1|_c2|_c3|_c4|_c5|  _c6|_c7|_c8|_c9|_c10|_c11|  _c12|_c13|_c14|\n",
      "+--------------+---+---+---+---+---+-----+---+---+---+----+----+------+----+----+\n",
      "|79062005698500|  1|MAA|AUH| 9W| 9W|56.79|USD|  1|  H|   H|0526|150904|  OK|IAF0|\n",
      "|79062005305018|  1|MAA|BOM| 9W| 9W| 48.5|USD|  1|  O|   O|0460|150821|  OK|IAE0|\n",
      "|79062005348349|  1|MAA|BOM| 9W| 9W| 56.0|USD|  1|  V|   V|0466|150808|  OK|IAE0|\n",
      "+--------------+---+---+---+---+---+-----+---+---+---+----+----+------+----+----+\n",
      "only showing top 3 rows\n",
      "\n"
     ]
    }
   ],
   "source": [
    "df_with_sql = session.sql('SELECT * FROM csv.`coupon150720.csv` where _c2=\"MAA\"')\n",
    "df_with_sql.show(3)"
   ]
  },
  {
   "cell_type": "markdown",
   "metadata": {},
   "source": [
    "## Basic operations with DataFrames"
   ]
  },
  {
   "cell_type": "code",
   "execution_count": 28,
   "metadata": {},
   "outputs": [
    {
     "name": "stdout",
     "output_type": "stream",
     "text": [
      "+---+--------+\n",
      "| id|position|\n",
      "+---+--------+\n",
      "|  0| manager|\n",
      "|  1|mechanic|\n",
      "+---+--------+\n",
      "only showing top 2 rows\n",
      "\n"
     ]
    }
   ],
   "source": [
    "df.show(2)"
   ]
  },
  {
   "cell_type": "markdown",
   "metadata": {},
   "source": [
    "### Filtering and selecting"
   ]
  },
  {
   "cell_type": "code",
   "execution_count": 27,
   "metadata": {},
   "outputs": [
    {
     "name": "stdout",
     "output_type": "stream",
     "text": [
      "+---+--------+\n",
      "| id|position|\n",
      "+---+--------+\n",
      "|  6|mechanic|\n",
      "|  7|mechanic|\n",
      "|  8| manager|\n",
      "|  9|mechanic|\n",
      "| 10| manager|\n",
      "| 11| manager|\n",
      "+---+--------+\n",
      "\n"
     ]
    }
   ],
   "source": [
    "# where can also be used instead of filter\n",
    "filtered = df.filter(df['id'] > 5)\n",
    "filtered.show()"
   ]
  },
  {
   "cell_type": "markdown",
   "metadata": {},
   "source": [
    "### Exercise\n",
    "\n",
    "Extract all employee ids which correspond to managers"
   ]
  },
  {
   "cell_type": "code",
   "execution_count": 33,
   "metadata": {},
   "outputs": [],
   "source": [
    "col = df['id']"
   ]
  },
  {
   "cell_type": "code",
   "execution_count": 36,
   "metadata": {},
   "outputs": [
    {
     "name": "stdout",
     "output_type": "stream",
     "text": [
      "+---+--------+\n",
      "| id|position|\n",
      "+---+--------+\n",
      "|  0| manager|\n",
      "|  3| manager|\n",
      "|  8| manager|\n",
      "| 10| manager|\n",
      "| 11| manager|\n",
      "+---+--------+\n",
      "\n"
     ]
    }
   ],
   "source": [
    "df.where(df['position'] == 'manager').show()"
   ]
  },
  {
   "cell_type": "code",
   "execution_count": 37,
   "metadata": {},
   "outputs": [
    {
     "name": "stdout",
     "output_type": "stream",
     "text": [
      "+---+\n",
      "| id|\n",
      "+---+\n",
      "|  0|\n",
      "|  3|\n",
      "|  8|\n",
      "| 10|\n",
      "| 11|\n",
      "+---+\n",
      "\n"
     ]
    }
   ],
   "source": [
    "df.where(df['position'] == 'manager').select(col).show()"
   ]
  },
  {
   "cell_type": "markdown",
   "metadata": {},
   "source": [
    "### Adding columns"
   ]
  },
  {
   "cell_type": "code",
   "execution_count": 38,
   "metadata": {},
   "outputs": [
    {
     "name": "stdout",
     "output_type": "stream",
     "text": [
      "+------------------+\n",
      "|          SQRT(id)|\n",
      "+------------------+\n",
      "|               0.0|\n",
      "|               1.0|\n",
      "|1.4142135623730951|\n",
      "+------------------+\n",
      "only showing top 3 rows\n",
      "\n"
     ]
    }
   ],
   "source": [
    "from pyspark.sql import functions\n",
    "\n",
    "df.select(functions.sqrt('id')).show(3)"
   ]
  },
  {
   "cell_type": "code",
   "execution_count": 39,
   "metadata": {},
   "outputs": [
    {
     "name": "stdout",
     "output_type": "stream",
     "text": [
      "+---+--------+------------------+\n",
      "| id|position|          SQRT(id)|\n",
      "+---+--------+------------------+\n",
      "|  0| manager|               0.0|\n",
      "|  1|mechanic|               1.0|\n",
      "|  2|mechanic|1.4142135623730951|\n",
      "+---+--------+------------------+\n",
      "only showing top 3 rows\n",
      "\n"
     ]
    }
   ],
   "source": [
    "# a new df needs to be creating when adding new columns\n",
    "df2 = df.select('id',\n",
    "                'position',\n",
    "                functions.sqrt('id'))\n",
    "\n",
    "df2.show(3)"
   ]
  },
  {
   "cell_type": "code",
   "execution_count": 40,
   "metadata": {},
   "outputs": [
    {
     "data": {
      "text/plain": [
       "'mngr'"
      ]
     },
     "execution_count": 40,
     "metadata": {},
     "output_type": "execute_result"
    }
   ],
   "source": [
    "def odd_letters(word):\n",
    "    return word[::2]\n",
    "    \n",
    "odd_letters('manager')"
   ]
  },
  {
   "cell_type": "code",
   "execution_count": 43,
   "metadata": {},
   "outputs": [
    {
     "name": "stdout",
     "output_type": "stream",
     "text": [
      "+---------------------+\n",
      "|odd_letters(position)|\n",
      "+---------------------+\n",
      "|                 mngr|\n",
      "|                 mcai|\n",
      "|                 mcai|\n",
      "+---------------------+\n",
      "only showing top 3 rows\n",
      "\n"
     ]
    }
   ],
   "source": [
    "# to use a function we need to create an object first\n",
    "odd_udf = functions.udf(odd_letters)\n",
    "df.select(odd_udf('position')).show(3)"
   ]
  },
  {
   "cell_type": "markdown",
   "metadata": {},
   "source": [
    "### Exercise\n",
    "\n",
    "Create a 'salary' field in our df. make it 30000 for mechanics, 40000 for salespeople and 70000 for managers."
   ]
  },
  {
   "cell_type": "code",
   "execution_count": 44,
   "metadata": {},
   "outputs": [
    {
     "data": {
      "text/plain": [
       "70000"
      ]
     },
     "execution_count": 44,
     "metadata": {},
     "output_type": "execute_result"
    }
   ],
   "source": [
    "def salary_from(position): \n",
    "    salaries = {'manager': 70000, 'sales' : 40000, 'mechanic' : 30000}\n",
    "    return salaries.get(position)\n",
    "\n",
    "salary_from('manager')"
   ]
  },
  {
   "cell_type": "markdown",
   "metadata": {},
   "source": [
    "If we have a column that is not the desired type, we can convert it with `cast`."
   ]
  },
  {
   "cell_type": "code",
   "execution_count": 58,
   "metadata": {},
   "outputs": [
    {
     "name": "stdout",
     "output_type": "stream",
     "text": [
      "+---+--------+------+\n",
      "| id|position|salary|\n",
      "+---+--------+------+\n",
      "|  0| manager| 70000|\n",
      "|  1|mechanic| 30000|\n",
      "|  2|mechanic| 30000|\n",
      "+---+--------+------+\n",
      "only showing top 3 rows\n",
      "\n"
     ]
    }
   ],
   "source": [
    "salary_udf = functions.udf(salary_from)\n",
    "\n",
    "exercise_result = df.select('id',\n",
    "                            'position',\n",
    "                            salary_udf('position').alias('salary').cast(\"integer\"))\n",
    "\n",
    "exercise_result.show(3)"
   ]
  },
  {
   "cell_type": "markdown",
   "metadata": {},
   "source": [
    "### Summary statistics"
   ]
  },
  {
   "cell_type": "code",
   "execution_count": 62,
   "metadata": {},
   "outputs": [
    {
     "data": {
      "text/plain": [
       "0.20742413513940736"
      ]
     },
     "execution_count": 62,
     "metadata": {},
     "output_type": "execute_result"
    }
   ],
   "source": [
    "exercise_result.stat.corr('id', 'salary')"
   ]
  },
  {
   "cell_type": "code",
   "execution_count": 63,
   "metadata": {},
   "outputs": [
    {
     "data": {
      "text/plain": [
       "14999.999999999995"
      ]
     },
     "execution_count": 63,
     "metadata": {},
     "output_type": "execute_result"
    }
   ],
   "source": [
    "exercise_result.stat.cov('id', 'salary')"
   ]
  },
  {
   "cell_type": "markdown",
   "metadata": {},
   "source": [
    "### .crosstab()"
   ]
  },
  {
   "cell_type": "code",
   "execution_count": 211,
   "metadata": {},
   "outputs": [],
   "source": [
    "location_udf = functions.udf(lambda : random.choice(['Madrid', 'Barcelona']))\n",
    "df4 = exercise_result.withColumn('location', location_udf()).cache() #cache() saves df up to this point"
   ]
  },
  {
   "cell_type": "code",
   "execution_count": 214,
   "metadata": {},
   "outputs": [
    {
     "name": "stdout",
     "output_type": "stream",
     "text": [
      "+---+--------+------+---------+\n",
      "| id|position|salary| location|\n",
      "+---+--------+------+---------+\n",
      "|  0| manager| 70000|   Madrid|\n",
      "|  1|mechanic| 30000|   Madrid|\n",
      "|  2|mechanic| 30000|Barcelona|\n",
      "|  3| manager| 70000|   Madrid|\n",
      "|  4|   sales| 40000|Barcelona|\n",
      "+---+--------+------+---------+\n",
      "only showing top 5 rows\n",
      "\n"
     ]
    }
   ],
   "source": [
    "df4.show(5)"
   ]
  },
  {
   "cell_type": "code",
   "execution_count": 216,
   "metadata": {},
   "outputs": [
    {
     "name": "stdout",
     "output_type": "stream",
     "text": [
      "+-----------------+---------+------+\n",
      "|position_location|Barcelona|Madrid|\n",
      "+-----------------+---------+------+\n",
      "|            sales|        1|     0|\n",
      "|          manager|        2|     3|\n",
      "|         mechanic|        3|     3|\n",
      "+-----------------+---------+------+\n",
      "\n"
     ]
    }
   ],
   "source": [
    "df4.crosstab('position', 'location').show()"
   ]
  },
  {
   "cell_type": "markdown",
   "metadata": {},
   "source": [
    "### Grouping"
   ]
  },
  {
   "cell_type": "code",
   "execution_count": 217,
   "metadata": {},
   "outputs": [
    {
     "name": "stdout",
     "output_type": "stream",
     "text": [
      "+---------+-----------+\n",
      "| location|avg(salary)|\n",
      "+---------+-----------+\n",
      "|   Madrid|    50000.0|\n",
      "|Barcelona|    45000.0|\n",
      "+---------+-----------+\n",
      "\n"
     ]
    }
   ],
   "source": [
    "df4.groupby('location').mean('salary').show()"
   ]
  },
  {
   "cell_type": "code",
   "execution_count": 218,
   "metadata": {},
   "outputs": [
    {
     "name": "stdout",
     "output_type": "stream",
     "text": [
      "+---------+-------+------------------+\n",
      "| location|average|            stddev|\n",
      "+---------+-------+------------------+\n",
      "|   Madrid|50000.0|           20000.0|\n",
      "|Barcelona|45000.0|18027.756377319947|\n",
      "+---------+-------+------------------+\n",
      "\n"
     ]
    }
   ],
   "source": [
    "stats = df4.groupby('location').agg(functions.mean('salary').alias('average'), \n",
    "                                    functions.stddev_pop('salary').alias('stddev')\n",
    "                                   )\n",
    "stats.show()"
   ]
  },
  {
   "cell_type": "markdown",
   "metadata": {},
   "source": [
    "### Intersections"
   ]
  },
  {
   "cell_type": "code",
   "execution_count": 219,
   "metadata": {},
   "outputs": [
    {
     "name": "stdout",
     "output_type": "stream",
     "text": [
      "+---+-----+---------+\n",
      "| id|bonus| location|\n",
      "+---+-----+---------+\n",
      "| 10| 5000|  Sevilla|\n",
      "| 11|10000|   Madrid|\n",
      "|  9| 2000|   Madrid|\n",
      "| 10|    0|  Sevilla|\n",
      "|  9| 1000|Barcelona|\n",
      "+---+-----+---------+\n",
      "\n"
     ]
    }
   ],
   "source": [
    "random.seed(42)\n",
    "\n",
    "data = list(zip([10, 11, 9, 10, 9],\n",
    "                [5000, 10000, 2000, 0, 1000],\n",
    "                [random.choice(['Madrid', 'Barcelona', 'Sevilla']) for _ in range(5)]))\n",
    "\n",
    "new_df = session.createDataFrame(data, schema=['id', 'bonus', 'location'])\n",
    "new_df.show()"
   ]
  },
  {
   "cell_type": "code",
   "execution_count": 220,
   "metadata": {},
   "outputs": [
    {
     "name": "stdout",
     "output_type": "stream",
     "text": [
      "+---+---------+--------+------+-----+\n",
      "| id| location|position|salary|bonus|\n",
      "+---+---------+--------+------+-----+\n",
      "|  9|   Madrid|mechanic| 30000| 2000|\n",
      "|  5|Barcelona|mechanic| 30000| null|\n",
      "|  0|   Madrid| manager| 70000| null|\n",
      "|  8|   Madrid| manager| 70000| null|\n",
      "|  7|   Madrid|mechanic| 30000| null|\n",
      "+---+---------+--------+------+-----+\n",
      "only showing top 5 rows\n",
      "\n"
     ]
    }
   ],
   "source": [
    "with_bonuses = df4.join(new_df, on=['id', 'location'], how='left')\n",
    "with_bonuses.show(5)"
   ]
  },
  {
   "cell_type": "markdown",
   "metadata": {},
   "source": [
    "### Exercise\n",
    "\n",
    "Calculate the [z-score](http://www.statisticshowto.com/probability-and-statistics/z-score/) of each employee's salary for their location"
   ]
  },
  {
   "cell_type": "code",
   "execution_count": 174,
   "metadata": {},
   "outputs": [
    {
     "name": "stdout",
     "output_type": "stream",
     "text": [
      "+---+--------+------+---------+\n",
      "| id|position|salary| location|\n",
      "+---+--------+------+---------+\n",
      "|  0| manager| 70000|Barcelona|\n",
      "|  1|mechanic| 30000|   Madrid|\n",
      "|  2|mechanic| 30000|Barcelona|\n",
      "+---+--------+------+---------+\n",
      "only showing top 3 rows\n",
      "\n"
     ]
    }
   ],
   "source": [
    "from pyspark.sql.functions import round\n",
    "\n",
    "df4.show(3)"
   ]
  },
  {
   "cell_type": "code",
   "execution_count": 221,
   "metadata": {},
   "outputs": [
    {
     "name": "stdout",
     "output_type": "stream",
     "text": [
      "+---------+----------+----------+\n",
      "| location|avg_salary|std_salary|\n",
      "+---------+----------+----------+\n",
      "|   Madrid|   50000.0|   20000.0|\n",
      "|Barcelona|   45000.0|  18027.76|\n",
      "+---------+----------+----------+\n",
      "\n"
     ]
    }
   ],
   "source": [
    "# calculate the mean and std of salary for each location \n",
    "stats = df4.groupby('location').agg(\n",
    "    round(functions.mean('salary'), 2).alias('avg_salary'),\n",
    "    round(functions.stddev_pop('salary'), 2).alias('std_salary')\n",
    "    )\n",
    "\n",
    "stats.show()"
   ]
  },
  {
   "cell_type": "code",
   "execution_count": 223,
   "metadata": {},
   "outputs": [
    {
     "name": "stdout",
     "output_type": "stream",
     "text": [
      "+---------+---+--------+------+----------+----------+\n",
      "| location| id|position|salary|avg_salary|std_salary|\n",
      "+---------+---+--------+------+----------+----------+\n",
      "|   Madrid|  0| manager| 70000|   50000.0|   20000.0|\n",
      "|   Madrid|  1|mechanic| 30000|   50000.0|   20000.0|\n",
      "|Barcelona|  2|mechanic| 30000|   45000.0|  18027.76|\n",
      "+---------+---+--------+------+----------+----------+\n",
      "only showing top 3 rows\n",
      "\n"
     ]
    }
   ],
   "source": [
    "# annotate each employee with the stats corresponding to their location\n",
    "df5 = df4.join(stats, on='location', how='left')\n",
    "df5.show(3)"
   ]
  },
  {
   "cell_type": "code",
   "execution_count": 226,
   "metadata": {},
   "outputs": [
    {
     "name": "stdout",
     "output_type": "stream",
     "text": [
      "+---+--------+---------+------+-------+\n",
      "| id|position| location|salary|z-score|\n",
      "+---+--------+---------+------+-------+\n",
      "|  0| manager|   Madrid| 70000|    1.0|\n",
      "|  1|mechanic|   Madrid| 30000|   -1.0|\n",
      "|  2|mechanic|Barcelona| 30000| -0.832|\n",
      "|  3| manager|   Madrid| 70000|    1.0|\n",
      "|  4|   sales|Barcelona| 40000| -0.277|\n",
      "+---+--------+---------+------+-------+\n",
      "only showing top 5 rows\n",
      "\n"
     ]
    }
   ],
   "source": [
    "result = df5.select('id',\n",
    "                    'position',\n",
    "                    'location',\n",
    "                    'salary',\n",
    "                    round(((df5['salary'] - df5['avg_salary']) / df5['std_salary']), 3).alias('z-score'))\n",
    "\n",
    "result.show(5)"
   ]
  },
  {
   "cell_type": "markdown",
   "metadata": {},
   "source": [
    "## SQL querying"
   ]
  },
  {
   "cell_type": "code",
   "execution_count": 237,
   "metadata": {},
   "outputs": [
    {
     "name": "stdout",
     "output_type": "stream",
     "text": [
      "+---+--------+------+---------+\n",
      "| id|position|salary| location|\n",
      "+---+--------+------+---------+\n",
      "|  0| manager| 70000|   Madrid|\n",
      "|  3| manager| 70000|   Madrid|\n",
      "|  8| manager| 70000|   Madrid|\n",
      "| 10| manager| 70000|Barcelona|\n",
      "| 11| manager| 70000|Barcelona|\n",
      "+---+--------+------+---------+\n",
      "\n"
     ]
    }
   ],
   "source": [
    "df6.registerTempTable('df6_table')\n",
    "\n",
    "session.sql('SELECT * FROM df6_table WHERE location IS NOT NULL AND position=\"manager\"').show()"
   ]
  },
  {
   "cell_type": "code",
   "execution_count": 238,
   "metadata": {},
   "outputs": [
    {
     "name": "stdout",
     "output_type": "stream",
     "text": [
      "+---------+----------+------------------+\n",
      "| location|avg_salary|        std_salary|\n",
      "+---------+----------+------------------+\n",
      "|   Madrid|   50000.0|           20000.0|\n",
      "|     null| 1200000.0|               0.0|\n",
      "|Barcelona|   45000.0|18027.756377319947|\n",
      "|    Haiti| 1500000.0|               0.0|\n",
      "+---------+----------+------------------+\n",
      "\n"
     ]
    }
   ],
   "source": [
    "session.sql(\"\"\"SELECT location, \n",
    "                      avg(salary) as avg_salary, \n",
    "                      stddev_pop(salary) AS std_salary \n",
    "               FROM df6_table \n",
    "               GROUP BY location\"\"\").show()"
   ]
  },
  {
   "cell_type": "markdown",
   "metadata": {},
   "source": [
    "## Interoperation with Pandas"
   ]
  },
  {
   "cell_type": "code",
   "execution_count": 246,
   "metadata": {},
   "outputs": [
    {
     "name": "stdout",
     "output_type": "stream",
     "text": [
      "+---------+---+--------+------+----------+----------+\n",
      "| location| id|position|salary|avg_salary|std_salary|\n",
      "+---------+---+--------+------+----------+----------+\n",
      "|   Madrid|  0| manager| 70000|   50000.0|   20000.0|\n",
      "|   Madrid|  1|mechanic| 30000|   50000.0|   20000.0|\n",
      "|Barcelona|  2|mechanic| 30000|   45000.0|  18027.76|\n",
      "+---------+---+--------+------+----------+----------+\n",
      "only showing top 3 rows\n",
      "\n"
     ]
    }
   ],
   "source": [
    "df5.show(3)"
   ]
  },
  {
   "cell_type": "code",
   "execution_count": 241,
   "metadata": {},
   "outputs": [
    {
     "data": {
      "text/html": [
       "<div>\n",
       "<style scoped>\n",
       "    .dataframe tbody tr th:only-of-type {\n",
       "        vertical-align: middle;\n",
       "    }\n",
       "\n",
       "    .dataframe tbody tr th {\n",
       "        vertical-align: top;\n",
       "    }\n",
       "\n",
       "    .dataframe thead th {\n",
       "        text-align: right;\n",
       "    }\n",
       "</style>\n",
       "<table border=\"1\" class=\"dataframe\">\n",
       "  <thead>\n",
       "    <tr style=\"text-align: right;\">\n",
       "      <th></th>\n",
       "      <th>location</th>\n",
       "      <th>id</th>\n",
       "      <th>position</th>\n",
       "      <th>salary</th>\n",
       "      <th>avg_salary</th>\n",
       "      <th>std_salary</th>\n",
       "    </tr>\n",
       "  </thead>\n",
       "  <tbody>\n",
       "    <tr>\n",
       "      <th>0</th>\n",
       "      <td>Madrid</td>\n",
       "      <td>0</td>\n",
       "      <td>manager</td>\n",
       "      <td>70000</td>\n",
       "      <td>50000.0</td>\n",
       "      <td>20000.00</td>\n",
       "    </tr>\n",
       "    <tr>\n",
       "      <th>1</th>\n",
       "      <td>Madrid</td>\n",
       "      <td>1</td>\n",
       "      <td>mechanic</td>\n",
       "      <td>30000</td>\n",
       "      <td>50000.0</td>\n",
       "      <td>20000.00</td>\n",
       "    </tr>\n",
       "    <tr>\n",
       "      <th>2</th>\n",
       "      <td>Barcelona</td>\n",
       "      <td>2</td>\n",
       "      <td>mechanic</td>\n",
       "      <td>30000</td>\n",
       "      <td>45000.0</td>\n",
       "      <td>18027.76</td>\n",
       "    </tr>\n",
       "    <tr>\n",
       "      <th>3</th>\n",
       "      <td>Madrid</td>\n",
       "      <td>3</td>\n",
       "      <td>manager</td>\n",
       "      <td>70000</td>\n",
       "      <td>50000.0</td>\n",
       "      <td>20000.00</td>\n",
       "    </tr>\n",
       "    <tr>\n",
       "      <th>4</th>\n",
       "      <td>Barcelona</td>\n",
       "      <td>4</td>\n",
       "      <td>sales</td>\n",
       "      <td>40000</td>\n",
       "      <td>45000.0</td>\n",
       "      <td>18027.76</td>\n",
       "    </tr>\n",
       "  </tbody>\n",
       "</table>\n",
       "</div>"
      ],
      "text/plain": [
       "    location  id  position  salary  avg_salary  std_salary\n",
       "0     Madrid   0   manager   70000     50000.0    20000.00\n",
       "1     Madrid   1  mechanic   30000     50000.0    20000.00\n",
       "2  Barcelona   2  mechanic   30000     45000.0    18027.76\n",
       "3     Madrid   3   manager   70000     50000.0    20000.00\n",
       "4  Barcelona   4     sales   40000     45000.0    18027.76"
      ]
     },
     "execution_count": 241,
     "metadata": {},
     "output_type": "execute_result"
    }
   ],
   "source": [
    "pd_df = df5.toPandas()\n",
    "pd_df.head(5)"
   ]
  },
  {
   "cell_type": "markdown",
   "metadata": {},
   "source": [
    "### Writing out\n"
   ]
  },
  {
   "cell_type": "code",
   "execution_count": 248,
   "metadata": {},
   "outputs": [],
   "source": [
    "# we can write out our PySpark dataframe as a distributed file\n",
    "df5.write.csv('df5')"
   ]
  },
  {
   "cell_type": "markdown",
   "metadata": {},
   "source": [
    "## Exercise\n",
    "\n",
    "Repeat the exercise from the previous notebook, but this time with DataFrames.\n",
    "\n",
    "Get stats for all tickets with destination MAD from `coupons150720.csv`.\n",
    "\n",
    "You will need to extract ticket amounts with destination MAD, and then calculate:\n",
    "\n",
    "1. Total ticket amounts per origin\n",
    "2. Top 10 airlines by average amount"
   ]
  },
  {
   "cell_type": "markdown",
   "metadata": {},
   "source": [
    "1) Total ticket amounts per origin"
   ]
  },
  {
   "cell_type": "code",
   "execution_count": 250,
   "metadata": {},
   "outputs": [
    {
     "name": "stdout",
     "output_type": "stream",
     "text": [
      "+--------------+---+---+---+---+---+------+---+---+---+----+----+------+----+----+\n",
      "|           _c0|_c1|_c2|_c3|_c4|_c5|   _c6|_c7|_c8|_c9|_c10|_c11|  _c12|_c13|_c14|\n",
      "+--------------+---+---+---+---+---+------+---+---+---+----+----+------+----+----+\n",
      "|79062005698500|  1|MAA|AUH| 9W| 9W| 56.79|USD|  1|  H|   H|0526|150904|  OK|IAF0|\n",
      "|79062005698500|  2|AUH|CDG| 9W| 9W| 84.34|USD|  1|  H|   H|6120|150905|  OK|IAF0|\n",
      "|79062005924069|  1|CJB|MAA| 9W| 9W|  60.0|USD|  1|  H|   H|2768|150721|  OK|IAA0|\n",
      "|79065668570385|  1|DEL|DXB| 9W| 9W|160.63|USD|  2|  S|   S|0546|150804|  OK|INA0|\n",
      "|79065668737021|  1|AUH|IXE| 9W| 9W|152.46|USD|  1|  V|   V|0501|150803|  OK|INA0|\n",
      "+--------------+---+---+---+---+---+------+---+---+---+----+----+------+----+----+\n",
      "only showing top 5 rows\n",
      "\n"
     ]
    }
   ],
   "source": [
    "raw_coupons = session.read.csv('coupon150720.csv')\n",
    "raw_coupons.show(5)"
   ]
  },
  {
   "cell_type": "code",
   "execution_count": 255,
   "metadata": {},
   "outputs": [
    {
     "name": "stdout",
     "output_type": "stream",
     "text": [
      "+--------------+----------+------+-----------+-------+------+\n",
      "|    tkt_number|cpn_number|origin|destination|airline|amount|\n",
      "+--------------+----------+------+-----------+-------+------+\n",
      "|79062005698500|         1|   MAA|        AUH|     9W| 56.79|\n",
      "|79062005698500|         2|   AUH|        CDG|     9W| 84.34|\n",
      "|79062005924069|         1|   CJB|        MAA|     9W|  60.0|\n",
      "+--------------+----------+------+-----------+-------+------+\n",
      "only showing top 3 rows\n",
      "\n"
     ]
    }
   ],
   "source": [
    "coupons = raw_coupons.select(raw_coupons['_c0'].alias('tkt_number'),\n",
    "                             raw_coupons['_c1'].alias('cpn_number').cast(\"integer\"),\n",
    "                             raw_coupons['_c2'].alias('origin'),\n",
    "                             raw_coupons['_c3'].alias('destination'),\n",
    "                             raw_coupons['_c4'].alias('airline'),\n",
    "                             raw_coupons['_c6'].alias('amount').cast(\"float\")\n",
    "                            )\n",
    "coupons.show(3)"
   ]
  },
  {
   "cell_type": "code",
   "execution_count": 257,
   "metadata": {},
   "outputs": [
    {
     "name": "stdout",
     "output_type": "stream",
     "text": [
      "+--------------+----------+------+-----------+-------+------+\n",
      "|    tkt_number|cpn_number|origin|destination|airline|amount|\n",
      "+--------------+----------+------+-----------+-------+------+\n",
      "|79062005698500|         1|   MAA|        AUH|     9W| 56.79|\n",
      "|79062005698500|         2|   AUH|        CDG|     9W| 84.34|\n",
      "|79062005924069|         1|   CJB|        MAA|     9W|  60.0|\n",
      "+--------------+----------+------+-----------+-------+------+\n",
      "only showing top 3 rows\n",
      "\n"
     ]
    }
   ],
   "source": [
    "# same action using SQL\n",
    "raw_coupons.registerTempTable('raw_coupons')\n",
    "\n",
    "coupons = session.sql('''SELECT \n",
    "                            CAST(_c0 AS LONG) AS tkt_number,\n",
    "                            CAST(_c1 AS INT) AS cpn_number,\n",
    "                            _c2 AS origin,\n",
    "                            _c3 AS destination,\n",
    "                            _c4 AS airline,\n",
    "                            CAST(_c6 AS FLOAT) AS amount\n",
    "                         FROM raw_coupons''')\n",
    "\n",
    "coupons.show(3)"
   ]
  },
  {
   "cell_type": "code",
   "execution_count": 258,
   "metadata": {},
   "outputs": [
    {
     "name": "stdout",
     "output_type": "stream",
     "text": [
      "+------+------------------+\n",
      "|origin|       sum(amount)|\n",
      "+------+------------------+\n",
      "|   PMI| 40547.17005729675|\n",
      "|   YUL|284.44000244140625|\n",
      "|   HEL| 8195.760055541992|\n",
      "+------+------------------+\n",
      "only showing top 3 rows\n",
      "\n"
     ]
    }
   ],
   "source": [
    "coupons[coupons['destination'] == 'MAD'].groupby('origin').sum('amount').show(3)"
   ]
  },
  {
   "cell_type": "markdown",
   "metadata": {},
   "source": [
    "2) Top 10 Airlines by average amount\n",
    "\n"
   ]
  },
  {
   "cell_type": "code",
   "execution_count": 261,
   "metadata": {},
   "outputs": [
    {
     "name": "stdout",
     "output_type": "stream",
     "text": [
      "+-------+-----------------+\n",
      "|airline|      avg(amount)|\n",
      "+-------+-----------------+\n",
      "|     PC|64.16499996185303|\n",
      "|     AZ|68.80148202401621|\n",
      "|     UA|291.9203567504883|\n",
      "+-------+-----------------+\n",
      "only showing top 3 rows\n",
      "\n"
     ]
    }
   ],
   "source": [
    "airlines = coupons[coupons['destination'] == 'MAD'].groupby('airline').mean('amount')\n",
    "airlines.show(3)"
   ]
  },
  {
   "cell_type": "code",
   "execution_count": 262,
   "metadata": {},
   "outputs": [
    {
     "name": "stdout",
     "output_type": "stream",
     "text": [
      "+-------+------------------+\n",
      "|airline|       avg(amount)|\n",
      "+-------+------------------+\n",
      "|     V0| 5418.098665364583|\n",
      "|     AC|  740.619985961914|\n",
      "|     KE| 688.5261500431941|\n",
      "|     SV|  553.174259916265|\n",
      "|     OB| 535.5044420030382|\n",
      "|     AR| 513.5304808843704|\n",
      "|     AV| 450.1950941518613|\n",
      "|     AM| 440.7342111687911|\n",
      "|     C2| 397.8699951171875|\n",
      "|     LA|379.95370341954606|\n",
      "+-------+------------------+\n",
      "only showing top 10 rows\n",
      "\n"
     ]
    }
   ],
   "source": [
    "airlines.sort('avg(amount)', ascending=False).show(10)"
   ]
  }
 ],
 "metadata": {
  "anaconda-cloud": {},
  "kernelspec": {
   "display_name": "Python 3",
   "language": "python",
   "name": "python3"
  },
  "language_info": {
   "codemirror_mode": {
    "name": "ipython",
    "version": 3
   },
   "file_extension": ".py",
   "mimetype": "text/x-python",
   "name": "python",
   "nbconvert_exporter": "python",
   "pygments_lexer": "ipython3",
   "version": "3.6.4"
  }
 },
 "nbformat": 4,
 "nbformat_minor": 2
}
