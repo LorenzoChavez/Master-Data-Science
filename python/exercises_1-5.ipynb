{
 "cells": [
  {
   "cell_type": "markdown",
   "metadata": {},
   "source": [
    "## Quick Exercises 1\n",
    "1. Implement a function that takes as input three variables, and returns the largest of the three. Do\n",
    "this without using the Python max() function! Make one version without any local variable and\n",
    "another with one local variable.\n",
    "2. Write a function “centenario” that will take Name, and year of birth as inputs, check if year of birth\n",
    "is int and cast it to int if not, and print name together with the text explaining when the person is to\n",
    "have 100 years (hint: use isinstance).\n",
    " - call to function: centenario(Antonio, 1967)<br>\n",
    " - output: Antonio will reach 100 years in 2067."
   ]
  },
  {
   "cell_type": "code",
   "execution_count": 78,
   "metadata": {
    "scrolled": true
   },
   "outputs": [
    {
     "data": {
      "text/plain": [
       "76"
      ]
     },
     "execution_count": 78,
     "metadata": {},
     "output_type": "execute_result"
    }
   ],
   "source": [
    "# Exercise 1.1 - (With No Local variable)\n",
    "def largest_value(a, b, c):\n",
    "    if a > b and a > c:\n",
    "        return a\n",
    "    elif b > a and b > c:\n",
    "        return b\n",
    "    else:\n",
    "        return c\n",
    "    \n",
    "    \n",
    "largest_value(10, 76, 2)"
   ]
  },
  {
   "cell_type": "code",
   "execution_count": 80,
   "metadata": {},
   "outputs": [
    {
     "data": {
      "text/plain": [
       "76"
      ]
     },
     "execution_count": 80,
     "metadata": {},
     "output_type": "execute_result"
    }
   ],
   "source": [
    "# Exercise 1.1 - (With Local variable)\n",
    "def largest_value2(a, b, c):\n",
    "    \n",
    "    result = \"\"\n",
    "    \n",
    "    if a > b and a > c:\n",
    "        result = a\n",
    "    elif b > a and b > c:\n",
    "        result = b\n",
    "    else:\n",
    "        result = c\n",
    "    \n",
    "    return result\n",
    "\n",
    "largest_value2(10, 76, 2)"
   ]
  },
  {
   "cell_type": "code",
   "execution_count": 82,
   "metadata": {},
   "outputs": [
    {
     "data": {
      "text/plain": [
       "'Ralph will reach 100 years in 2095'"
      ]
     },
     "execution_count": 82,
     "metadata": {},
     "output_type": "execute_result"
    }
   ],
   "source": [
    "# Exercise 1.2\n",
    "def centenario(name, year):\n",
    "    if not isinstance(year, int):\n",
    "        year = int(year)\n",
    "    year_100 = year+100\n",
    "    return (\"%s will reach 100 years in %d\" % (name, year_100))\n",
    "\n",
    "centenario('Ralph', '1995')"
   ]
  },
  {
   "cell_type": "markdown",
   "metadata": {},
   "source": [
    "## Quick Exercises 2\n",
    "1. Write a function to calculate the number of words, number of lines, and length of a string the same way\n",
    "the wc command does in the command line\n",
    "2. Write a Python program to remove the n th index character from a string. If the input string is empty print\n",
    "warning."
   ]
  },
  {
   "cell_type": "code",
   "execution_count": 83,
   "metadata": {},
   "outputs": [
    {
     "data": {
      "text/plain": [
       "(2, 3, 21)"
      ]
     },
     "execution_count": 83,
     "metadata": {},
     "output_type": "execute_result"
    }
   ],
   "source": [
    "# Exercise 2.1\n",
    "def text_count(text):\n",
    "    \n",
    "    lines = len(text.splitlines())\n",
    "    words = len(text.split())\n",
    "    letters = len(list(text))\n",
    "    \n",
    "    return lines, words, letters\n",
    "\n",
    "text_count('Testing the\\n function')"
   ]
  },
  {
   "cell_type": "code",
   "execution_count": 23,
   "metadata": {},
   "outputs": [],
   "source": [
    "def nth_index(string, n):\n",
    "    if string == '':\n",
    "        print('Warning')\n",
    "    else:\n",
    "        return(string[:(n-1)]+string[n:])    "
   ]
  },
  {
   "cell_type": "code",
   "execution_count": 25,
   "metadata": {},
   "outputs": [
    {
     "data": {
      "text/plain": [
       "'exaple'"
      ]
     },
     "execution_count": 25,
     "metadata": {},
     "output_type": "execute_result"
    }
   ],
   "source": [
    "nth_index('example', 4)"
   ]
  },
  {
   "cell_type": "markdown",
   "metadata": {},
   "source": [
    "## Quick Exercises 3\n",
    "1. While inside python, go to ~/Data/opentraveldata/ and list the files. Repeat the same for\n",
    "/home/dsc/Data/us_dot/otp and ~/Data/us_dot/traffic/.\n",
    "Use the list of visited directories from dhist and write for loop which will return for each visited\n",
    "directory its name and number of files inside.\n",
    "2. Write a function that will take text file and pattern as input parameters, and return the number of\n",
    "occurances of case insensitive pattern inside a text (similar to: grep -i –o pattern file | wc -l)\n",
    "3. Open Finn.txt file, read lines into a list. Remove trailing white spaces from each line . Write the resulting list to the new file. How many lines does the new file have? (hint: empty list is made with [] )\n",
    "4. Open Finn.txt file, read lines into a list. Create a new version of Finn_nbl.txt with no blank lines.\n",
    "5. Reset the workspace. Obtain the difference in number of lines between original Finn file and and\n",
    "the one without blank lines and print the result. (hint: use wc)"
   ]
  },
  {
   "cell_type": "code",
   "execution_count": 3,
   "metadata": {
    "scrolled": true
   },
   "outputs": [
    {
     "name": "stdout",
     "output_type": "stream",
     "text": [
      "/home/dsc/Repos/Master-Data-Science/python - contains 2 files\n",
      "/home/dsc/Data/opentraveldata - contains 6 files\n",
      "/home/dsc/Data/us_dot/otp - contains 9 files\n",
      "/home/dsc/Data/us_dot/traffic - contains 2 files\n"
     ]
    }
   ],
   "source": [
    "#Exercise 3.1\n",
    "\n",
    "%cd ~/Data/opentraveldata/\n",
    "%cd /home/dsc/Data/us_dot/otp\n",
    "%cd ~/Data/us_dot/traffic/\n",
    "\n",
    "for i in _dh:\n",
    "    wc = !(ls $i | wc -l)\n",
    "    print(\"%s - contains %s files\" % (i, wc[0]))"
   ]
  },
  {
   "cell_type": "code",
   "execution_count": 32,
   "metadata": {},
   "outputs": [
    {
     "data": {
      "text/plain": [
       "2"
      ]
     },
     "execution_count": 32,
     "metadata": {},
     "output_type": "execute_result"
    }
   ],
   "source": [
    "# Exercise 3.2\n",
    "\n",
    "def num_occ(file, pattern):\n",
    "    text_file = open(file, \"r\")\n",
    "    text_content = text_file.readlines()\n",
    "    text_file.close()\n",
    "    text_count = \",\".join(text_content)\n",
    "    \n",
    "    return text_count.count(pattern)\n",
    "\n",
    "num_occ('temp.txt', 'hi')"
   ]
  },
  {
   "cell_type": "code",
   "execution_count": 55,
   "metadata": {},
   "outputs": [
    {
     "name": "stdout",
     "output_type": "stream",
     "text": [
      "/home/dsc/Data/shell\n"
     ]
    }
   ],
   "source": [
    "# Exercise 3.3\n",
    "\n",
    "%cd ~/Data/shell\n",
    "file = \"Finn.txt\"\n",
    "new_content = []\n",
    "\n",
    "with open(file, \"r\") as text_file:\n",
    "    content = text_file.readlines()\n",
    "\n",
    "for line in content:    \n",
    "    new_content.append(line.strip())"
   ]
  },
  {
   "cell_type": "code",
   "execution_count": 60,
   "metadata": {},
   "outputs": [
    {
     "name": "stdout",
     "output_type": "stream",
     "text": [
      "/home/dsc/Data/shell\n",
      "12363\n",
      "9674\n"
     ]
    }
   ],
   "source": [
    "# Exercise 3.4\n",
    "\n",
    "%cd ~/Data/shell\n",
    "\n",
    "file = \"Finn.txt\"\n",
    "new_content = []\n",
    "\n",
    "with open(file, \"r\") as text_file:\n",
    "    content = text_file.readlines()\n",
    "\n",
    "for line in content:\n",
    "    if not line.isspace():\n",
    "        new_content.append(line)\n",
    "        \n",
    "with open(\"Finn_nbl.txt\", \"w\") as new_text_file:\n",
    "    new_text_file.write(\",\".join(new_content))\n",
    "\n",
    "print(len(content))\n",
    "print(len(new_content))"
   ]
  },
  {
   "cell_type": "code",
   "execution_count": 63,
   "metadata": {},
   "outputs": [
    {
     "name": "stdout",
     "output_type": "stream",
     "text": [
      "Once deleted, variables cannot be recovered. Proceed (y/[n])? y\n",
      "/home/dsc/Data/shell\n",
      "Finn_nbl.txt  Finn.txt\n",
      "12363 Finn.txt\n",
      "9674 Finn_nbl.txt\n"
     ]
    }
   ],
   "source": [
    "# Exercise 3.5\n",
    "\n",
    "%reset\n",
    "%cd ~/Data/shell\n",
    "!ls\n",
    "!wc -l Finn.txt\n",
    "!wc -l Finn_nbl.txt"
   ]
  },
  {
   "cell_type": "markdown",
   "metadata": {},
   "source": [
    "## Quick Excercises 4\n",
    "1. For a sequence [1, 2, 3, 4, 5, 6, 7, 8 ] get the squared values using the lambda function.\n",
    "2. Prepare a list with 10 names. Make a code that will put all vowels to capitals and every other character to lower letters.\n",
    "3. Prepare again a list with 10 names. Make a function with two input variables: list, and character; that returns a list of names containing one or more of input characters ’s inside the name.\n",
    "4. Reverse word order from the input string\n",
    "5. Create a function that accepts string as search string and returns number of lines with that string in a command history (hint : use a in b)\n",
    "6. Write a Python function that takes a list of words and returns the length of the longest one."
   ]
  },
  {
   "cell_type": "code",
   "execution_count": 72,
   "metadata": {},
   "outputs": [
    {
     "data": {
      "text/plain": [
       "[1, 4, 9, 16, 25, 36, 49, 64]"
      ]
     },
     "execution_count": 72,
     "metadata": {},
     "output_type": "execute_result"
    }
   ],
   "source": [
    "# Exercise 4.1\n",
    "\n",
    "seq = [1, 2, 3, 4, 5, 6, 7, 8 ]\n",
    "\n",
    "list((map(lambda x: x ** 2, seq)))"
   ]
  },
  {
   "cell_type": "code",
   "execution_count": 77,
   "metadata": {},
   "outputs": [
    {
     "name": "stdout",
     "output_type": "stream",
     "text": [
      "['bOb', 'IgOr', 'AnItA', 'IsrAEl', 'thOmAs', 'bIll', 'tOnI', 'hIErrO']\n"
     ]
    }
   ],
   "source": [
    "# Exercise 4.2\n",
    "\n",
    "names = [\"Bob\", \"Igor\", \"Anita\", \"Israel\", \"Thomas\", \"Bill\", \"Toni\", \"Hierro\"]\n",
    "\n",
    "new_names = []\n",
    "\n",
    "for name in names:\n",
    "    new_name=''\n",
    "    for letter in name:\n",
    "        if letter in ('aeiouAEIOU'):\n",
    "            new_name = new_name + letter.upper()\n",
    "        else:\n",
    "            new_name = new_name + letter.lower()\n",
    "    new_names.append(new_name)\n",
    "\n",
    "print(new_names)"
   ]
  },
  {
   "cell_type": "code",
   "execution_count": 82,
   "metadata": {},
   "outputs": [
    {
     "data": {
      "text/plain": [
       "['Bob', 'Igor', 'Thomas', 'Toni', 'Hierro']"
      ]
     },
     "execution_count": 82,
     "metadata": {},
     "output_type": "execute_result"
    }
   ],
   "source": [
    "# Exercise 4.3\n",
    "\n",
    "names = [\"Bob\", \"Igor\", \"Anita\", \"Israel\", \"Thomas\", \"Bill\", \"Toni\", \"Hierro\"]\n",
    "\n",
    "def names_char(names, char):\n",
    "    new_names = []\n",
    "    for name in names:\n",
    "        if char in name:\n",
    "            new_names.append(name)\n",
    "    return new_names\n",
    "\n",
    "names_char(names, 'o')"
   ]
  },
  {
   "cell_type": "code",
   "execution_count": 84,
   "metadata": {},
   "outputs": [
    {
     "name": "stdout",
     "output_type": "stream",
     "text": [
      "Example\n"
     ]
    },
    {
     "data": {
      "text/plain": [
       "'elpmaxE'"
      ]
     },
     "execution_count": 84,
     "metadata": {},
     "output_type": "execute_result"
    }
   ],
   "source": [
    "# Exercise 4.4\n",
    "\n",
    "string = str(input())\n",
    "\n",
    "string[::-1]"
   ]
  },
  {
   "cell_type": "code",
   "execution_count": 27,
   "metadata": {},
   "outputs": [
    {
     "data": {
      "text/plain": [
       "2"
      ]
     },
     "execution_count": 27,
     "metadata": {},
     "output_type": "execute_result"
    }
   ],
   "source": [
    "# Exercise 4.5\n",
    "\n",
    "def find_hist(string):\n",
    "    string_lines = 0\n",
    "    for line in _ih:\n",
    "        if string in line:\n",
    "            string_lines+=1\n",
    "    return string_lines\n",
    "\n",
    "find_hist('function')"
   ]
  },
  {
   "cell_type": "code",
   "execution_count": 78,
   "metadata": {},
   "outputs": [
    {
     "data": {
      "text/plain": [
       "'sentence'"
      ]
     },
     "execution_count": 78,
     "metadata": {},
     "output_type": "execute_result"
    }
   ],
   "source": [
    "# Exercise 4.6\n",
    "\n",
    "words_list = ['phrase', 'sentence', 'asds','example', 'period', 'dot']\n",
    "\n",
    "def longest(words):\n",
    "    result = ''\n",
    "    for word in words:\n",
    "        if len(word) > len(result):\n",
    "            result = word\n",
    "            \n",
    "    return result\n",
    "\n",
    "longest(words_list)"
   ]
  },
  {
   "cell_type": "markdown",
   "metadata": {},
   "source": [
    "## Quick Excercises 5\n",
    "1. Categorize a list of words by their first letter, meaning that the result of the operation is first letter\n",
    "and all the words from the input list starting with that letter. (hint: use dict)\n",
    "2. Sort a collection of strings by the number of distinct letters in each string. (hint: use set and lambda)\n",
    "3. Reverse word order from the input string by using for comprehension"
   ]
  },
  {
   "cell_type": "code",
   "execution_count": null,
   "metadata": {},
   "outputs": [],
   "source": []
  }
 ],
 "metadata": {
  "kernelspec": {
   "display_name": "Python 3",
   "language": "python",
   "name": "python3"
  },
  "language_info": {
   "codemirror_mode": {
    "name": "ipython",
    "version": 3
   },
   "file_extension": ".py",
   "mimetype": "text/x-python",
   "name": "python",
   "nbconvert_exporter": "python",
   "pygments_lexer": "ipython3",
   "version": "3.6.4"
  }
 },
 "nbformat": 4,
 "nbformat_minor": 2
}
