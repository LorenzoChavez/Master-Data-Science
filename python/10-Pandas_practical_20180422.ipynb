{
 "cells": [
  {
   "cell_type": "markdown",
   "metadata": {},
   "source": [
    "A practical introduction to Pandas\n",
    "==================="
   ]
  },
  {
   "cell_type": "markdown",
   "metadata": {},
   "source": [
    "We have been asked to *analyze an otp dataset*, without much more information. This kind of scenario is more common than you might imagine!\n",
    "\n",
    "## 1) Quickly examine the files in ~/Data/us_dot/otp. What do they contain, in both technical and functional terms? (Use any tool you want)"
   ]
  },
  {
   "cell_type": "code",
   "execution_count": 2,
   "metadata": {},
   "outputs": [
    {
     "data": {
      "text/plain": [
       "'/home/dsc/Master-Data-Science/Pandas'"
      ]
     },
     "execution_count": 2,
     "metadata": {},
     "output_type": "execute_result"
    }
   ],
   "source": [
    "%pwd"
   ]
  },
  {
   "cell_type": "code",
   "execution_count": 3,
   "metadata": {},
   "outputs": [],
   "source": [
    "path_to_zips = '../data/us_dot/otp/'"
   ]
  },
  {
   "cell_type": "code",
   "execution_count": 4,
   "metadata": {},
   "outputs": [
    {
     "name": "stdout",
     "output_type": "stream",
     "text": [
      "total 190200\r\n",
      "-rwxr-x--- 1 dsc dsc 23061340 abr 21 09:08 On_Time_On_Time_Performance_2015_1.zip\r\n",
      "-rwxr-x--- 1 dsc dsc 21230105 abr 21 09:08 On_Time_On_Time_Performance_2015_2.zip\r\n",
      "-rwxr-x--- 1 dsc dsc 24811186 abr 21 09:08 On_Time_On_Time_Performance_2015_3.zip\r\n",
      "-rwxr-x--- 1 dsc dsc 23625261 abr 21 09:08 On_Time_On_Time_Performance_2015_4.zip\r\n",
      "-rwxr-x--- 1 dsc dsc 24334057 abr 21 09:08 On_Time_On_Time_Performance_2015_5.zip\r\n",
      "-rwxr-x--- 1 dsc dsc 25758350 abr 21 09:08 On_Time_On_Time_Performance_2015_6.zip\r\n",
      "-rwxr-x--- 1 dsc dsc 26204213 abr 21 09:08 On_Time_On_Time_Performance_2015_7.zip\r\n",
      "-rwxr-x--- 1 dsc dsc 25726054 abr 21 09:08 On_Time_On_Time_Performance_2015_8.zip\r\n"
     ]
    }
   ],
   "source": [
    "! ls -l {path_to_zips} "
   ]
  },
  {
   "cell_type": "markdown",
   "metadata": {},
   "source": [
    "For this example, we are going to begin using the shell from within this notebook, with the ! notation:\n",
    "\n",
    "A ! sign before a line tells the notebook to send that line straight away to the underlying OS. \n",
    "\n",
    "\\* Note that we can substitute python variables into the shell command. We do that by surrounding the name of the variable with curly braces ({}). That's what we are going to do with the `path_to_files` variable"
   ]
  },
  {
   "cell_type": "markdown",
   "metadata": {},
   "source": [
    "### Check what the files contain"
   ]
  },
  {
   "cell_type": "code",
   "execution_count": 5,
   "metadata": {},
   "outputs": [
    {
     "name": "stdout",
     "output_type": "stream",
     "text": [
      "Archive:  ../data/us_dot/otp/On_Time_On_Time_Performance_2015_1.zip\r\n",
      "  Length      Date    Time    Name\r\n",
      "---------  ---------- -----   ----\r\n",
      "211633432  2015-04-16 20:02   On_Time_On_Time_Performance_2015_1.csv\r\n",
      "    12054  2015-04-16 20:02   readme.html\r\n",
      "---------                     -------\r\n",
      "211645486                     2 files\r\n"
     ]
    }
   ],
   "source": [
    "! unzip -l {path_to_zips}On_Time_On_Time_Performance_2015_1.zip"
   ]
  },
  {
   "cell_type": "markdown",
   "metadata": {},
   "source": [
    "Oh, it has a readme! Always good to read it."
   ]
  },
  {
   "cell_type": "markdown",
   "metadata": {},
   "source": [
    "### Unzip the readme to the current directory\n",
    "\n",
    "Use the shell\n",
    "\n",
    "Remember, since the zip file contains several compressed files, we need to specify which one we want."
   ]
  },
  {
   "cell_type": "code",
   "execution_count": 6,
   "metadata": {},
   "outputs": [
    {
     "name": "stdout",
     "output_type": "stream",
     "text": [
      "Archive:  ../data/us_dot/otp/On_Time_On_Time_Performance_2015_1.zip\r\n",
      "  inflating: /home/dsc/Master-Data-Science/Pandas/readme.html  \r\n"
     ]
    }
   ],
   "source": [
    "! unzip -o {path_to_zips}On_Time_On_Time_Performance_2015_1.zip readme.html -d $(pwd)"
   ]
  },
  {
   "cell_type": "code",
   "execution_count": 7,
   "metadata": {},
   "outputs": [
    {
     "name": "stdout",
     "output_type": "stream",
     "text": [
      "total 394700\r\n",
      "-rw-r--r-- 1 dsc dsc     12054 abr 16  2015 readme.html\r\n",
      "-rw-r--r-- 1 dsc dsc 211633432 abr 16  2015 On_Time_On_Time_Performance_2015_1.csv\r\n",
      "-rw-r--r-- 1 dsc dsc      4268 nov  8  2015 914310910_T_T100_SEGMENT_ALL_CARRIER_Terms.csv\r\n",
      "-rw-r--r-- 1 dsc dsc      4341 nov  8  2015 914310910_T_T100_SEGMENT_ALL_CARRIER_ReadMe.csv\r\n",
      "-rw-r--r-- 1 dsc dsc  51575427 nov  8  2015 914310910_T_T100_SEGMENT_ALL_CARRIER_2015_All.csv\r\n",
      "-rwxr-xr-x 1 dsc dsc    429162 may  1 18:30 07-Numpy_Pandas_Introduction.ipynb\r\n",
      "-rw-r--r-- 1 dsc dsc         0 may  1 18:54 multas.csv\r\n",
      "-rw-r--r-- 1 dsc dsc  11007488 may  1 23:18 out.xls\r\n",
      "-rw-r--r-- 1 dsc dsc   4363924 may  1 23:19 out.xlsx\r\n",
      "-rw-r--r-- 1 dsc dsc  45901761 may  1 23:19 out.csv\r\n",
      "-rw-r--r-- 1 dsc dsc  77082624 may  2 11:22 example.db\r\n",
      "-rw-r--r-- 1 dsc dsc      3262 may  2 11:28 accidentes.xls\r\n",
      "-rwxr-xr-x 1 dsc dsc    565103 may  2 12:13 07-Loading_Saving_Data_20180413.ipynb\r\n",
      "-rwxrwxrwx 1 dsc dsc     81747 may  2 13:52 08-Merge_Concatenate_Transform_20180414.ipynb\r\n",
      "-rw-r--r-- 1 dsc dsc      7943 may  2 18:54 tips.csv\r\n",
      "-rwxr-xr-x 1 dsc dsc     81503 may  2 20:03 09-Group_by_20180421.ipynb\r\n",
      "-rw-r--r-- 1 dsc dsc     21452 may  2 20:03 Exercise-1_Pandas.ipynb\r\n",
      "drwxrwxr-x 3 dsc dsc      4096 may  2 20:09 data\r\n",
      "-rwxr-xr-x 1 dsc dsc    730007 may  3 22:12 09-Visualization_Introduction_20180421.ipynb\r\n",
      "-rw-r--r-- 1 dsc dsc     59689 may  3 22:14 Exercises_Plots.ipynb\r\n",
      "-rwxr-xr-x 1 dsc dsc    561423 may  8 21:51 10-Pandas_practical_20180422.ipynb\r\n",
      "-rw-r--r-- 1 dsc dsc      2964 may  9 22:46 Untitled.ipynb\r\n"
     ]
    }
   ],
   "source": [
    "! ls -lrt"
   ]
  },
  {
   "cell_type": "markdown",
   "metadata": {},
   "source": [
    "### Take a look at the beginning of the readme file\n",
    "\n",
    "using the shell"
   ]
  },
  {
   "cell_type": "code",
   "execution_count": 8,
   "metadata": {},
   "outputs": [
    {
     "name": "stdout",
     "output_type": "stream",
     "text": [
      "125\r\n"
     ]
    }
   ],
   "source": [
    "! cat readme.html | wc -l"
   ]
  },
  {
   "cell_type": "code",
   "execution_count": 9,
   "metadata": {
    "scrolled": true
   },
   "outputs": [
    {
     "name": "stdout",
     "output_type": "stream",
     "text": [
      "<HTML>\r\n",
      "<HEAD>\r\n",
      "\t<TITLE> readme.html </TITLE>\r\n",
      "</HEAD>\r\n",
      "<BODY>\r\n",
      "\t<TABLE><TR><TD COLSPAN=2><H4>BACKGROUND</H4></TD></TR>\r\n",
      "\t<TR><TD COLSPAN=2>The data contained in the compressed file has been extracted from the \r\n",
      "\tOn-Time Performance data table of the \"On-Time\" database from the TranStats data library. \r\n",
      "\tThe time period is indicated in the name of the compressed file; \r\n",
      "\tfor example, XXX_XXXXX_2001_1 contains data of the first month of the year 2001. </TD></TR>\r\n"
     ]
    }
   ],
   "source": [
    "! head readme.html "
   ]
  },
  {
   "cell_type": "markdown",
   "metadata": {},
   "source": [
    "The readme file is html. Luckily, we are working in an html environment. \n",
    "\n",
    "### Display the contents of `readme.html` within the notebook\n",
    "(Hint: check out [IPython.display.IFrame](https://ipython.org/ipython-doc/3/api/generated/IPython.display.html))"
   ]
  },
  {
   "cell_type": "code",
   "execution_count": 10,
   "metadata": {},
   "outputs": [
    {
     "data": {
      "text/html": [
       "\n",
       "        <iframe\n",
       "            width=\"800\"\n",
       "            height=\"450\"\n",
       "            src=\"readme.html\"\n",
       "            frameborder=\"0\"\n",
       "            allowfullscreen\n",
       "        ></iframe>\n",
       "        "
      ],
      "text/plain": [
       "<IPython.lib.display.IFrame at 0x7f74984a2b38>"
      ]
     },
     "execution_count": 10,
     "metadata": {},
     "output_type": "execute_result"
    }
   ],
   "source": [
    "from IPython.display import IFrame\n",
    "IFrame('readme.html', width=800, height=450)"
   ]
  },
  {
   "cell_type": "markdown",
   "metadata": {},
   "source": [
    "That's some very good documentation!\n",
    "\n",
    "### Summary: \n",
    "\n",
    "The files within the zip are \" quoted csv's. They contain information on timeliness of departures in the US, at the departure level."
   ]
  },
  {
   "cell_type": "code",
   "execution_count": 11,
   "metadata": {
    "scrolled": true
   },
   "outputs": [
    {
     "name": "stdout",
     "output_type": "stream",
     "text": [
      "\"Year\",\"Quarter\",\"Month\",\"DayofMonth\",\"DayOfWeek\",\"FlightDate\",\"UniqueCarrier\",\"AirlineID\",\"Carrier\",\"TailNum\",\"FlightNum\",\"OriginAirportID\",\"OriginAirportSeqID\",\"OriginCityMarketID\",\"Origin\",\"OriginCityName\",\"OriginState\",\"OriginStateFips\",\"OriginStateName\",\"OriginWac\",\"DestAirportID\",\"DestAirportSeqID\",\"DestCityMarketID\",\"Dest\",\"DestCityName\",\"DestState\",\"DestStateFips\",\"DestStateName\",\"DestWac\",\"CRSDepTime\",\"DepTime\",\"DepDelay\",\"DepDelayMinutes\",\"DepDel15\",\"DepartureDelayGroups\",\"DepTimeBlk\",\"TaxiOut\",\"WheelsOff\",\"WheelsOn\",\"TaxiIn\",\"CRSArrTime\",\"ArrTime\",\"ArrDelay\",\"ArrDelayMinutes\",\"ArrDel15\",\"ArrivalDelayGroups\",\"ArrTimeBlk\",\"Cancelled\",\"CancellationCode\",\"Diverted\",\"CRSElapsedTime\",\"ActualElapsedTime\",\"AirTime\",\"Flights\",\"Distance\",\"DistanceGroup\",\"CarrierDelay\",\"WeatherDelay\",\"NASDelay\",\"SecurityDelay\",\"LateAircraftDelay\",\"FirstDepTime\",\"TotalAddGTime\",\"LongestAddGTime\",\"DivAirportLandings\",\"DivReachedDest\",\"DivActualElapsedTime\",\"DivArrDelay\",\"DivDistance\",\"Div1Airport\",\"Div1AirportID\",\"Div1AirportSeqID\",\"Div1WheelsOn\",\"Div1TotalGTime\",\"Div1LongestGTime\",\"Div1WheelsOff\",\"Div1TailNum\",\"Div2Airport\",\"Div2AirportID\",\"Div2AirportSeqID\",\"Div2WheelsOn\",\"Div2TotalGTime\",\"Div2LongestGTime\",\"Div2WheelsOff\",\"Div2TailNum\",\"Div3Airport\",\"Div3AirportID\",\"Div3AirportSeqID\",\"Div3WheelsOn\",\"Div3TotalGTime\",\"Div3LongestGTime\",\"Div3WheelsOff\",\"Div3TailNum\",\"Div4Airport\",\"Div4AirportID\",\"Div4AirportSeqID\",\"Div4WheelsOn\",\"Div4TotalGTime\",\"Div4LongestGTime\",\"Div4WheelsOff\",\"Div4TailNum\",\"Div5Airport\",\"Div5AirportID\",\"Div5AirportSeqID\",\"Div5WheelsOn\",\"Div5TotalGTime\",\"Div5LongestGTime\",\"Div5WheelsOff\",\"Div5TailNum\",\r\n",
      "2015,1,1,1,4,2015-01-01,\"AA\",19805,\"AA\",\"N787AA\",\"1\",12478,1247802,31703,\"JFK\",\"New York, NY\",\"NY\",\"36\",\"New York\",22,12892,1289203,32575,\"LAX\",\"Los Angeles, CA\",\"CA\",\"06\",\"California\",91,\"0900\",\"0855\",-5.00,0.00,0.00,-1,\"0900-0959\",17.00,\"0912\",\"1230\",7.00,\"1230\",\"1237\",7.00,7.00,0.00,0,\"1200-1259\",0.00,\"\",0.00,390.00,402.00,378.00,1.00,2475.00,10,,,,,,\"\",,,0,,,,,\"\",,,\"\",,,\"\",\"\",\"\",,,\"\",,,\"\",\"\",\"\",,,\"\",,,\"\",\"\",\"\",,,\"\",,,\"\",\"\",\"\",,,\"\",,,\"\",\"\",\r\n"
     ]
    }
   ],
   "source": [
    "# have a look at the beginning of one of the files to see what they look like\n",
    "\n",
    "! unzip -p {path_to_zips}On_Time_On_Time_Performance_2015_1.zip | head -n 2"
   ]
  },
  {
   "cell_type": "markdown",
   "metadata": {},
   "source": [
    "Pretty unreadable, so we go for a tool designed specifically for tabular data: **pandas**"
   ]
  },
  {
   "cell_type": "markdown",
   "metadata": {},
   "source": [
    "### Load some of the data (one of the files) into memory as a pandas dataframe. What functions do you need to use?\n",
    "\n",
    "Pro tip: there is no need to decompress the whole file. Check out zipfile.ZipFile"
   ]
  },
  {
   "cell_type": "markdown",
   "metadata": {},
   "source": [
    "First, open a connection to one of the files"
   ]
  },
  {
   "cell_type": "markdown",
   "metadata": {},
   "source": [
    "**Note:** *remember that all the files are indeed part files of the same .zip. And the Readme file is within the .zip.*"
   ]
  },
  {
   "cell_type": "code",
   "execution_count": 12,
   "metadata": {},
   "outputs": [],
   "source": [
    "import os\n",
    "import zipfile\n",
    "\n",
    "filenames = os.listdir(path_to_zips)\n",
    "\n",
    "zip_file = zipfile.ZipFile(path_to_zips + filenames[0])"
   ]
  },
  {
   "cell_type": "code",
   "execution_count": 13,
   "metadata": {},
   "outputs": [
    {
     "name": "stdout",
     "output_type": "stream",
     "text": [
      "['On_Time_On_Time_Performance_2015_2.zip', 'On_Time_On_Time_Performance_2015_8.zip', 'On_Time_On_Time_Performance_2015_4.zip', 'On_Time_On_Time_Performance_2015_3.zip', 'On_Time_On_Time_Performance_2015_7.zip', 'On_Time_On_Time_Performance_2015_1.zip', 'On_Time_On_Time_Performance_2015_6.zip', 'On_Time_On_Time_Performance_2015_5.zip']\n"
     ]
    }
   ],
   "source": [
    "print(filenames)"
   ]
  },
  {
   "cell_type": "markdown",
   "metadata": {},
   "source": [
    "zip_file is a connection to the compressed file, the .zip. We can use it to open a connection to one of the files it contains, which will behave like a normal uncompressed file that we had opened with open()"
   ]
  },
  {
   "cell_type": "code",
   "execution_count": 14,
   "metadata": {},
   "outputs": [
    {
     "data": {
      "text/plain": [
       "[<ZipInfo filename='On_Time_On_Time_Performance_2015_2.csv' compress_type=deflate filemode='-rw-r--r--' file_size=192791767 compress_size=21227521>,\n",
       " <ZipInfo filename='readme.html' compress_type=deflate filemode='-rw-r--r--' file_size=12054 compress_size=2208>]"
      ]
     },
     "execution_count": 14,
     "metadata": {},
     "output_type": "execute_result"
    }
   ],
   "source": [
    "zip_file.filelist"
   ]
  },
  {
   "cell_type": "code",
   "execution_count": 15,
   "metadata": {},
   "outputs": [
    {
     "name": "stdout",
     "output_type": "stream",
     "text": [
      "<ZipInfo filename='readme.html' compress_type=deflate filemode='-rw-r--r--' file_size=12054 compress_size=2208>\n",
      "\n",
      "<ZipInfo filename='On_Time_On_Time_Performance_2015_2.csv' compress_type=deflate filemode='-rw-r--r--' file_size=192791767 compress_size=21227521>\n",
      "\n",
      "On_Time_On_Time_Performance_2015_2.csv\n"
     ]
    }
   ],
   "source": [
    "csv, readme = zip_file.filelist\n",
    "print(readme)\n",
    "print()\n",
    "print(csv)\n",
    "print()\n",
    "print(csv.filename)"
   ]
  },
  {
   "cell_type": "markdown",
   "metadata": {
    "collapsed": true
   },
   "source": [
    "Now we're ready to load the file into memory as a pandas dataframe. Remember to close the connections to the files!"
   ]
  },
  {
   "cell_type": "code",
   "execution_count": 16,
   "metadata": {},
   "outputs": [],
   "source": [
    "# We reopen the file because we have already consumed the header line.\n",
    "import pandas as pd\n",
    "\n",
    "csv_file = zip_file.open(csv.filename)\n",
    "df = pd.read_csv(csv_file, low_memory=False)\n",
    "\n",
    "csv_file.close()\n",
    "zip_file.close()"
   ]
  },
  {
   "cell_type": "markdown",
   "metadata": {},
   "source": [
    "Let's start examining the data: show the beginning of the file. How many records does it contain?"
   ]
  },
  {
   "cell_type": "code",
   "execution_count": 17,
   "metadata": {},
   "outputs": [
    {
     "data": {
      "text/html": [
       "<div>\n",
       "<style scoped>\n",
       "    .dataframe tbody tr th:only-of-type {\n",
       "        vertical-align: middle;\n",
       "    }\n",
       "\n",
       "    .dataframe tbody tr th {\n",
       "        vertical-align: top;\n",
       "    }\n",
       "\n",
       "    .dataframe thead th {\n",
       "        text-align: right;\n",
       "    }\n",
       "</style>\n",
       "<table border=\"1\" class=\"dataframe\">\n",
       "  <thead>\n",
       "    <tr style=\"text-align: right;\">\n",
       "      <th></th>\n",
       "      <th>Year</th>\n",
       "      <th>Quarter</th>\n",
       "      <th>Month</th>\n",
       "      <th>DayofMonth</th>\n",
       "      <th>DayOfWeek</th>\n",
       "      <th>FlightDate</th>\n",
       "      <th>UniqueCarrier</th>\n",
       "      <th>AirlineID</th>\n",
       "      <th>Carrier</th>\n",
       "      <th>TailNum</th>\n",
       "      <th>...</th>\n",
       "      <th>Div4TailNum</th>\n",
       "      <th>Div5Airport</th>\n",
       "      <th>Div5AirportID</th>\n",
       "      <th>Div5AirportSeqID</th>\n",
       "      <th>Div5WheelsOn</th>\n",
       "      <th>Div5TotalGTime</th>\n",
       "      <th>Div5LongestGTime</th>\n",
       "      <th>Div5WheelsOff</th>\n",
       "      <th>Div5TailNum</th>\n",
       "      <th>Unnamed: 109</th>\n",
       "    </tr>\n",
       "  </thead>\n",
       "  <tbody>\n",
       "    <tr>\n",
       "      <th>0</th>\n",
       "      <td>2015</td>\n",
       "      <td>1</td>\n",
       "      <td>2</td>\n",
       "      <td>7</td>\n",
       "      <td>6</td>\n",
       "      <td>2015-02-07</td>\n",
       "      <td>AS</td>\n",
       "      <td>19930</td>\n",
       "      <td>AS</td>\n",
       "      <td>N618AS</td>\n",
       "      <td>...</td>\n",
       "      <td>NaN</td>\n",
       "      <td>NaN</td>\n",
       "      <td>NaN</td>\n",
       "      <td>NaN</td>\n",
       "      <td>NaN</td>\n",
       "      <td>NaN</td>\n",
       "      <td>NaN</td>\n",
       "      <td>NaN</td>\n",
       "      <td>NaN</td>\n",
       "      <td>NaN</td>\n",
       "    </tr>\n",
       "    <tr>\n",
       "      <th>1</th>\n",
       "      <td>2015</td>\n",
       "      <td>1</td>\n",
       "      <td>2</td>\n",
       "      <td>7</td>\n",
       "      <td>6</td>\n",
       "      <td>2015-02-07</td>\n",
       "      <td>AS</td>\n",
       "      <td>19930</td>\n",
       "      <td>AS</td>\n",
       "      <td>N778AS</td>\n",
       "      <td>...</td>\n",
       "      <td>NaN</td>\n",
       "      <td>NaN</td>\n",
       "      <td>NaN</td>\n",
       "      <td>NaN</td>\n",
       "      <td>NaN</td>\n",
       "      <td>NaN</td>\n",
       "      <td>NaN</td>\n",
       "      <td>NaN</td>\n",
       "      <td>NaN</td>\n",
       "      <td>NaN</td>\n",
       "    </tr>\n",
       "    <tr>\n",
       "      <th>2</th>\n",
       "      <td>2015</td>\n",
       "      <td>1</td>\n",
       "      <td>2</td>\n",
       "      <td>7</td>\n",
       "      <td>6</td>\n",
       "      <td>2015-02-07</td>\n",
       "      <td>AS</td>\n",
       "      <td>19930</td>\n",
       "      <td>AS</td>\n",
       "      <td>N586AS</td>\n",
       "      <td>...</td>\n",
       "      <td>NaN</td>\n",
       "      <td>NaN</td>\n",
       "      <td>NaN</td>\n",
       "      <td>NaN</td>\n",
       "      <td>NaN</td>\n",
       "      <td>NaN</td>\n",
       "      <td>NaN</td>\n",
       "      <td>NaN</td>\n",
       "      <td>NaN</td>\n",
       "      <td>NaN</td>\n",
       "    </tr>\n",
       "    <tr>\n",
       "      <th>3</th>\n",
       "      <td>2015</td>\n",
       "      <td>1</td>\n",
       "      <td>2</td>\n",
       "      <td>7</td>\n",
       "      <td>6</td>\n",
       "      <td>2015-02-07</td>\n",
       "      <td>AS</td>\n",
       "      <td>19930</td>\n",
       "      <td>AS</td>\n",
       "      <td>N615AS</td>\n",
       "      <td>...</td>\n",
       "      <td>NaN</td>\n",
       "      <td>NaN</td>\n",
       "      <td>NaN</td>\n",
       "      <td>NaN</td>\n",
       "      <td>NaN</td>\n",
       "      <td>NaN</td>\n",
       "      <td>NaN</td>\n",
       "      <td>NaN</td>\n",
       "      <td>NaN</td>\n",
       "      <td>NaN</td>\n",
       "    </tr>\n",
       "    <tr>\n",
       "      <th>4</th>\n",
       "      <td>2015</td>\n",
       "      <td>1</td>\n",
       "      <td>2</td>\n",
       "      <td>7</td>\n",
       "      <td>6</td>\n",
       "      <td>2015-02-07</td>\n",
       "      <td>AS</td>\n",
       "      <td>19930</td>\n",
       "      <td>AS</td>\n",
       "      <td>N471AS</td>\n",
       "      <td>...</td>\n",
       "      <td>NaN</td>\n",
       "      <td>NaN</td>\n",
       "      <td>NaN</td>\n",
       "      <td>NaN</td>\n",
       "      <td>NaN</td>\n",
       "      <td>NaN</td>\n",
       "      <td>NaN</td>\n",
       "      <td>NaN</td>\n",
       "      <td>NaN</td>\n",
       "      <td>NaN</td>\n",
       "    </tr>\n",
       "  </tbody>\n",
       "</table>\n",
       "<p>5 rows × 110 columns</p>\n",
       "</div>"
      ],
      "text/plain": [
       "   Year  Quarter  Month  DayofMonth  DayOfWeek  FlightDate UniqueCarrier  \\\n",
       "0  2015        1      2           7          6  2015-02-07            AS   \n",
       "1  2015        1      2           7          6  2015-02-07            AS   \n",
       "2  2015        1      2           7          6  2015-02-07            AS   \n",
       "3  2015        1      2           7          6  2015-02-07            AS   \n",
       "4  2015        1      2           7          6  2015-02-07            AS   \n",
       "\n",
       "   AirlineID Carrier TailNum      ...       Div4TailNum  Div5Airport  \\\n",
       "0      19930      AS  N618AS      ...               NaN          NaN   \n",
       "1      19930      AS  N778AS      ...               NaN          NaN   \n",
       "2      19930      AS  N586AS      ...               NaN          NaN   \n",
       "3      19930      AS  N615AS      ...               NaN          NaN   \n",
       "4      19930      AS  N471AS      ...               NaN          NaN   \n",
       "\n",
       "   Div5AirportID  Div5AirportSeqID Div5WheelsOn Div5TotalGTime  \\\n",
       "0            NaN               NaN          NaN            NaN   \n",
       "1            NaN               NaN          NaN            NaN   \n",
       "2            NaN               NaN          NaN            NaN   \n",
       "3            NaN               NaN          NaN            NaN   \n",
       "4            NaN               NaN          NaN            NaN   \n",
       "\n",
       "  Div5LongestGTime  Div5WheelsOff Div5TailNum  Unnamed: 109  \n",
       "0              NaN            NaN         NaN           NaN  \n",
       "1              NaN            NaN         NaN           NaN  \n",
       "2              NaN            NaN         NaN           NaN  \n",
       "3              NaN            NaN         NaN           NaN  \n",
       "4              NaN            NaN         NaN           NaN  \n",
       "\n",
       "[5 rows x 110 columns]"
      ]
     },
     "execution_count": 17,
     "metadata": {},
     "output_type": "execute_result"
    }
   ],
   "source": [
    "df.head()"
   ]
  },
  {
   "cell_type": "code",
   "execution_count": 18,
   "metadata": {
    "scrolled": true
   },
   "outputs": [
    {
     "data": {
      "text/plain": [
       "(429191, 110)"
      ]
     },
     "execution_count": 18,
     "metadata": {},
     "output_type": "execute_result"
    }
   ],
   "source": [
    "df.shape"
   ]
  },
  {
   "cell_type": "code",
   "execution_count": 19,
   "metadata": {},
   "outputs": [
    {
     "name": "stdout",
     "output_type": "stream",
     "text": [
      "47211010\n"
     ]
    },
    {
     "data": {
      "text/plain": [
       "True"
      ]
     },
     "execution_count": 19,
     "metadata": {},
     "output_type": "execute_result"
    }
   ],
   "source": [
    "print(df.size)\n",
    "df.size == df.shape[0] * df.shape[1]"
   ]
  },
  {
   "cell_type": "code",
   "execution_count": 20,
   "metadata": {},
   "outputs": [
    {
     "data": {
      "text/plain": [
       "Year                   int64\n",
       "Quarter                int64\n",
       "Month                  int64\n",
       "DayofMonth             int64\n",
       "DayOfWeek              int64\n",
       "FlightDate            object\n",
       "UniqueCarrier         object\n",
       "AirlineID              int64\n",
       "Carrier               object\n",
       "TailNum               object\n",
       "FlightNum              int64\n",
       "OriginAirportID        int64\n",
       "OriginAirportSeqID     int64\n",
       "OriginCityMarketID     int64\n",
       "Origin                object\n",
       "OriginCityName        object\n",
       "OriginState           object\n",
       "OriginStateFips        int64\n",
       "OriginStateName       object\n",
       "OriginWac              int64\n",
       "dtype: object"
      ]
     },
     "execution_count": 20,
     "metadata": {},
     "output_type": "execute_result"
    }
   ],
   "source": [
    "df.dtypes.head(20)"
   ]
  },
  {
   "cell_type": "markdown",
   "metadata": {},
   "source": [
    "## Trimming the data\n",
    "\n",
    "The table is quite wide, and it seems that there are many columns without much data. Which, exactly, are those? (let's consider empty a column that doesn't contain at least 1000 records, arbitrarily)"
   ]
  },
  {
   "cell_type": "code",
   "execution_count": 21,
   "metadata": {},
   "outputs": [
    {
     "data": {
      "text/plain": [
       "Div5TotalGTime      0\n",
       "Div5LongestGTime    0\n",
       "Div5WheelsOff       0\n",
       "Div5TailNum         0\n",
       "Unnamed: 109        0\n",
       "dtype: int64"
      ]
     },
     "execution_count": 21,
     "metadata": {},
     "output_type": "execute_result"
    }
   ],
   "source": [
    "df.count().tail()"
   ]
  },
  {
   "cell_type": "code",
   "execution_count": 22,
   "metadata": {
    "scrolled": true
   },
   "outputs": [
    {
     "data": {
      "text/plain": [
       "DivActualElapsedTime    706\n",
       "DivArrDelay             706\n",
       "Div1WheelsOff           719\n",
       "Div1TailNum             719\n",
       "Div2Airport              14\n",
       "Div2AirportID            14\n",
       "Div2AirportSeqID         14\n",
       "Div2WheelsOn             14\n",
       "Div2TotalGTime           14\n",
       "Div2LongestGTime         14\n",
       "Div2WheelsOff             1\n",
       "Div2TailNum               1\n",
       "Div3Airport               0\n",
       "Div3AirportID             0\n",
       "Div3AirportSeqID          0\n",
       "Div3WheelsOn              0\n",
       "Div3TotalGTime            0\n",
       "Div3LongestGTime          0\n",
       "Div3WheelsOff             0\n",
       "Div3TailNum               0\n",
       "Div4Airport               0\n",
       "Div4AirportID             0\n",
       "Div4AirportSeqID          0\n",
       "Div4WheelsOn              0\n",
       "Div4TotalGTime            0\n",
       "Div4LongestGTime          0\n",
       "Div4WheelsOff             0\n",
       "Div4TailNum               0\n",
       "Div5Airport               0\n",
       "Div5AirportID             0\n",
       "Div5AirportSeqID          0\n",
       "Div5WheelsOn              0\n",
       "Div5TotalGTime            0\n",
       "Div5LongestGTime          0\n",
       "Div5WheelsOff             0\n",
       "Div5TailNum               0\n",
       "Unnamed: 109              0\n",
       "dtype: int64"
      ]
     },
     "execution_count": 22,
     "metadata": {},
     "output_type": "execute_result"
    }
   ],
   "source": [
    "non_null_counts = df.count()\n",
    "\n",
    "non_null_counts[non_null_counts < 1000]"
   ]
  },
  {
   "cell_type": "markdown",
   "metadata": {
    "collapsed": true
   },
   "source": [
    "It seems that the \"diverted\" fields, after the first, are often empty. No big surprise, since not that many flights must be diverted more than once in a month. Let's drop those columns, since we are not that interested in those, at least for now."
   ]
  },
  {
   "cell_type": "code",
   "execution_count": 23,
   "metadata": {},
   "outputs": [
    {
     "data": {
      "text/plain": [
       "Index(['DivActualElapsedTime', 'DivArrDelay', 'Div1WheelsOff', 'Div1TailNum',\n",
       "       'Div2Airport', 'Div2AirportID', 'Div2AirportSeqID', 'Div2WheelsOn',\n",
       "       'Div2TotalGTime', 'Div2LongestGTime', 'Div2WheelsOff', 'Div2TailNum',\n",
       "       'Div3Airport', 'Div3AirportID', 'Div3AirportSeqID', 'Div3WheelsOn',\n",
       "       'Div3TotalGTime', 'Div3LongestGTime', 'Div3WheelsOff', 'Div3TailNum',\n",
       "       'Div4Airport', 'Div4AirportID', 'Div4AirportSeqID', 'Div4WheelsOn',\n",
       "       'Div4TotalGTime', 'Div4LongestGTime', 'Div4WheelsOff', 'Div4TailNum',\n",
       "       'Div5Airport', 'Div5AirportID', 'Div5AirportSeqID', 'Div5WheelsOn',\n",
       "       'Div5TotalGTime', 'Div5LongestGTime', 'Div5WheelsOff', 'Div5TailNum',\n",
       "       'Unnamed: 109'],\n",
       "      dtype='object')"
      ]
     },
     "execution_count": 23,
     "metadata": {},
     "output_type": "execute_result"
    }
   ],
   "source": [
    "df.columns[non_null_counts < 1000]"
   ]
  },
  {
   "cell_type": "code",
   "execution_count": 24,
   "metadata": {},
   "outputs": [],
   "source": [
    "# Dropping inplace leads to confusion. Confusion leads to fear. \n",
    "# Fear leads to anger. Anger leads to hate. Hate leads to suffering.\n",
    "\n",
    "df2 = df.drop(df.columns[non_null_counts < 1000], axis=1) #by default df.drop will take out rows, axis = 0"
   ]
  },
  {
   "cell_type": "code",
   "execution_count": 25,
   "metadata": {},
   "outputs": [
    {
     "data": {
      "text/plain": [
       "(429191, 73)"
      ]
     },
     "execution_count": 25,
     "metadata": {},
     "output_type": "execute_result"
    }
   ],
   "source": [
    "df2.shape"
   ]
  },
  {
   "cell_type": "code",
   "execution_count": 26,
   "metadata": {},
   "outputs": [
    {
     "data": {
      "text/plain": [
       "(429191, 73)"
      ]
     },
     "execution_count": 26,
     "metadata": {},
     "output_type": "execute_result"
    }
   ],
   "source": [
    "# Another way to do it\n",
    "\n",
    "df.dropna(axis=1, thresh=1000).shape"
   ]
  },
  {
   "cell_type": "code",
   "execution_count": 27,
   "metadata": {},
   "outputs": [
    {
     "data": {
      "text/plain": [
       "True"
      ]
     },
     "execution_count": 27,
     "metadata": {},
     "output_type": "execute_result"
    }
   ],
   "source": [
    "df.dropna(axis=1, thresh=1000).shape == df2.shape"
   ]
  },
  {
   "cell_type": "markdown",
   "metadata": {},
   "source": [
    "Now that we have eliminated some inconvenient data columns, let's have a look at the rest: let's loook at how the location data is encoded.\n"
   ]
  },
  {
   "cell_type": "markdown",
   "metadata": {},
   "source": [
    "#### Exercise:\n",
    "\n",
    "First, generate a list of the columns that have 'Origin' in their name\n",
    "\n",
    "Second, show a sample of the values that those columns take.\n",
    "\n",
    "Hint: we are going to use the str attribute of Series and Indexes\n"
   ]
  },
  {
   "cell_type": "code",
   "execution_count": 28,
   "metadata": {},
   "outputs": [
    {
     "data": {
      "text/plain": [
       "Index(['OriginAirportID', 'OriginAirportSeqID', 'OriginCityMarketID', 'Origin',\n",
       "       'OriginCityName', 'OriginState', 'OriginStateFips', 'OriginStateName',\n",
       "       'OriginWac'],\n",
       "      dtype='object')"
      ]
     },
     "execution_count": 28,
     "metadata": {},
     "output_type": "execute_result"
    }
   ],
   "source": [
    "# FIRST\n",
    "df2.columns[df2.columns.str.upper().str.contains('ORIGIN')]"
   ]
  },
  {
   "cell_type": "code",
   "execution_count": 29,
   "metadata": {},
   "outputs": [
    {
     "data": {
      "text/plain": [
       "['OriginAirportID',\n",
       " 'OriginAirportSeqID',\n",
       " 'OriginCityMarketID',\n",
       " 'Origin',\n",
       " 'OriginCityName',\n",
       " 'OriginState',\n",
       " 'OriginStateFips',\n",
       " 'OriginStateName',\n",
       " 'OriginWac']"
      ]
     },
     "execution_count": 29,
     "metadata": {},
     "output_type": "execute_result"
    }
   ],
   "source": [
    "#another way to do it, by using list comprehensions\n",
    "\n",
    "[each for each in df2.columns if 'ORIGIN' in each.upper()]"
   ]
  },
  {
   "cell_type": "code",
   "execution_count": 30,
   "metadata": {},
   "outputs": [
    {
     "data": {
      "text/html": [
       "<div>\n",
       "<style scoped>\n",
       "    .dataframe tbody tr th:only-of-type {\n",
       "        vertical-align: middle;\n",
       "    }\n",
       "\n",
       "    .dataframe tbody tr th {\n",
       "        vertical-align: top;\n",
       "    }\n",
       "\n",
       "    .dataframe thead th {\n",
       "        text-align: right;\n",
       "    }\n",
       "</style>\n",
       "<table border=\"1\" class=\"dataframe\">\n",
       "  <thead>\n",
       "    <tr style=\"text-align: right;\">\n",
       "      <th></th>\n",
       "      <th>OriginAirportID</th>\n",
       "      <th>OriginAirportSeqID</th>\n",
       "      <th>OriginCityMarketID</th>\n",
       "      <th>Origin</th>\n",
       "      <th>OriginCityName</th>\n",
       "      <th>OriginState</th>\n",
       "      <th>OriginStateFips</th>\n",
       "      <th>OriginStateName</th>\n",
       "      <th>OriginWac</th>\n",
       "    </tr>\n",
       "  </thead>\n",
       "  <tbody>\n",
       "    <tr>\n",
       "      <th>199856</th>\n",
       "      <td>12953</td>\n",
       "      <td>1295302</td>\n",
       "      <td>31703</td>\n",
       "      <td>LGA</td>\n",
       "      <td>New York, NY</td>\n",
       "      <td>NY</td>\n",
       "      <td>36</td>\n",
       "      <td>New York</td>\n",
       "      <td>22</td>\n",
       "    </tr>\n",
       "    <tr>\n",
       "      <th>106978</th>\n",
       "      <td>13367</td>\n",
       "      <td>1336703</td>\n",
       "      <td>33367</td>\n",
       "      <td>MLI</td>\n",
       "      <td>Moline, IL</td>\n",
       "      <td>IL</td>\n",
       "      <td>17</td>\n",
       "      <td>Illinois</td>\n",
       "      <td>41</td>\n",
       "    </tr>\n",
       "    <tr>\n",
       "      <th>214992</th>\n",
       "      <td>10721</td>\n",
       "      <td>1072102</td>\n",
       "      <td>30721</td>\n",
       "      <td>BOS</td>\n",
       "      <td>Boston, MA</td>\n",
       "      <td>MA</td>\n",
       "      <td>25</td>\n",
       "      <td>Massachusetts</td>\n",
       "      <td>13</td>\n",
       "    </tr>\n",
       "    <tr>\n",
       "      <th>310904</th>\n",
       "      <td>11292</td>\n",
       "      <td>1129202</td>\n",
       "      <td>30325</td>\n",
       "      <td>DEN</td>\n",
       "      <td>Denver, CO</td>\n",
       "      <td>CO</td>\n",
       "      <td>8</td>\n",
       "      <td>Colorado</td>\n",
       "      <td>82</td>\n",
       "    </tr>\n",
       "    <tr>\n",
       "      <th>267359</th>\n",
       "      <td>13232</td>\n",
       "      <td>1323202</td>\n",
       "      <td>30977</td>\n",
       "      <td>MDW</td>\n",
       "      <td>Chicago, IL</td>\n",
       "      <td>IL</td>\n",
       "      <td>17</td>\n",
       "      <td>Illinois</td>\n",
       "      <td>41</td>\n",
       "    </tr>\n",
       "  </tbody>\n",
       "</table>\n",
       "</div>"
      ],
      "text/plain": [
       "        OriginAirportID  OriginAirportSeqID  OriginCityMarketID Origin  \\\n",
       "199856            12953             1295302               31703    LGA   \n",
       "106978            13367             1336703               33367    MLI   \n",
       "214992            10721             1072102               30721    BOS   \n",
       "310904            11292             1129202               30325    DEN   \n",
       "267359            13232             1323202               30977    MDW   \n",
       "\n",
       "       OriginCityName OriginState  OriginStateFips OriginStateName  OriginWac  \n",
       "199856   New York, NY          NY               36        New York         22  \n",
       "106978     Moline, IL          IL               17        Illinois         41  \n",
       "214992     Boston, MA          MA               25   Massachusetts         13  \n",
       "310904     Denver, CO          CO                8        Colorado         82  \n",
       "267359    Chicago, IL          IL               17        Illinois         41  "
      ]
     },
     "execution_count": 30,
     "metadata": {},
     "output_type": "execute_result"
    }
   ],
   "source": [
    "# SECOND\n",
    "\n",
    "df[df2.columns[df2.columns.str.upper().str.contains('ORIGIN')]].sample(5)"
   ]
  },
  {
   "cell_type": "markdown",
   "metadata": {},
   "source": [
    "So much redundant information!"
   ]
  },
  {
   "cell_type": "markdown",
   "metadata": {},
   "source": [
    "## Fast forward\n",
    "\n",
    "Just taking out the redundant columns would take a while, so let's jump ahead with this list of interesting columns:"
   ]
  },
  {
   "cell_type": "code",
   "execution_count": 31,
   "metadata": {},
   "outputs": [
    {
     "data": {
      "text/html": [
       "<div>\n",
       "<style scoped>\n",
       "    .dataframe tbody tr th:only-of-type {\n",
       "        vertical-align: middle;\n",
       "    }\n",
       "\n",
       "    .dataframe tbody tr th {\n",
       "        vertical-align: top;\n",
       "    }\n",
       "\n",
       "    .dataframe thead th {\n",
       "        text-align: right;\n",
       "    }\n",
       "</style>\n",
       "<table border=\"1\" class=\"dataframe\">\n",
       "  <thead>\n",
       "    <tr style=\"text-align: right;\">\n",
       "      <th></th>\n",
       "      <th>FlightDate</th>\n",
       "      <th>DayOfWeek</th>\n",
       "      <th>Carrier</th>\n",
       "      <th>TailNum</th>\n",
       "      <th>FlightNum</th>\n",
       "      <th>Origin</th>\n",
       "      <th>OriginCityName</th>\n",
       "      <th>OriginStateName</th>\n",
       "      <th>Dest</th>\n",
       "      <th>DestCityName</th>\n",
       "      <th>DestStateName</th>\n",
       "      <th>DepTime</th>\n",
       "      <th>DepDelay</th>\n",
       "      <th>AirTime</th>\n",
       "      <th>Distance</th>\n",
       "    </tr>\n",
       "  </thead>\n",
       "  <tbody>\n",
       "    <tr>\n",
       "      <th>167715</th>\n",
       "      <td>2015-02-27</td>\n",
       "      <td>5</td>\n",
       "      <td>B6</td>\n",
       "      <td>N187JB</td>\n",
       "      <td>1190</td>\n",
       "      <td>DCA</td>\n",
       "      <td>Washington, DC</td>\n",
       "      <td>Virginia</td>\n",
       "      <td>BOS</td>\n",
       "      <td>Boston, MA</td>\n",
       "      <td>Massachusetts</td>\n",
       "      <td>656.0</td>\n",
       "      <td>-4.0</td>\n",
       "      <td>58.0</td>\n",
       "      <td>399.0</td>\n",
       "    </tr>\n",
       "    <tr>\n",
       "      <th>407486</th>\n",
       "      <td>2015-02-02</td>\n",
       "      <td>1</td>\n",
       "      <td>US</td>\n",
       "      <td>NaN</td>\n",
       "      <td>2138</td>\n",
       "      <td>LGA</td>\n",
       "      <td>New York, NY</td>\n",
       "      <td>New York</td>\n",
       "      <td>BOS</td>\n",
       "      <td>Boston, MA</td>\n",
       "      <td>Massachusetts</td>\n",
       "      <td>NaN</td>\n",
       "      <td>NaN</td>\n",
       "      <td>NaN</td>\n",
       "      <td>184.0</td>\n",
       "    </tr>\n",
       "    <tr>\n",
       "      <th>251052</th>\n",
       "      <td>2015-02-09</td>\n",
       "      <td>1</td>\n",
       "      <td>WN</td>\n",
       "      <td>N794SW</td>\n",
       "      <td>250</td>\n",
       "      <td>DEN</td>\n",
       "      <td>Denver, CO</td>\n",
       "      <td>Colorado</td>\n",
       "      <td>MDW</td>\n",
       "      <td>Chicago, IL</td>\n",
       "      <td>Illinois</td>\n",
       "      <td>1310.0</td>\n",
       "      <td>10.0</td>\n",
       "      <td>103.0</td>\n",
       "      <td>895.0</td>\n",
       "    </tr>\n",
       "    <tr>\n",
       "      <th>119504</th>\n",
       "      <td>2015-02-15</td>\n",
       "      <td>7</td>\n",
       "      <td>AA</td>\n",
       "      <td>N004AA</td>\n",
       "      <td>1011</td>\n",
       "      <td>ELP</td>\n",
       "      <td>El Paso, TX</td>\n",
       "      <td>Texas</td>\n",
       "      <td>DFW</td>\n",
       "      <td>Dallas/Fort Worth, TX</td>\n",
       "      <td>Texas</td>\n",
       "      <td>727.0</td>\n",
       "      <td>14.0</td>\n",
       "      <td>72.0</td>\n",
       "      <td>551.0</td>\n",
       "    </tr>\n",
       "    <tr>\n",
       "      <th>31371</th>\n",
       "      <td>2015-02-06</td>\n",
       "      <td>5</td>\n",
       "      <td>EV</td>\n",
       "      <td>N12166</td>\n",
       "      <td>4285</td>\n",
       "      <td>IAH</td>\n",
       "      <td>Houston, TX</td>\n",
       "      <td>Texas</td>\n",
       "      <td>GSP</td>\n",
       "      <td>Greer, SC</td>\n",
       "      <td>South Carolina</td>\n",
       "      <td>1910.0</td>\n",
       "      <td>3.0</td>\n",
       "      <td>117.0</td>\n",
       "      <td>837.0</td>\n",
       "    </tr>\n",
       "  </tbody>\n",
       "</table>\n",
       "</div>"
      ],
      "text/plain": [
       "        FlightDate  DayOfWeek Carrier TailNum  FlightNum Origin  \\\n",
       "167715  2015-02-27          5      B6  N187JB       1190    DCA   \n",
       "407486  2015-02-02          1      US     NaN       2138    LGA   \n",
       "251052  2015-02-09          1      WN  N794SW        250    DEN   \n",
       "119504  2015-02-15          7      AA  N004AA       1011    ELP   \n",
       "31371   2015-02-06          5      EV  N12166       4285    IAH   \n",
       "\n",
       "        OriginCityName OriginStateName Dest           DestCityName  \\\n",
       "167715  Washington, DC        Virginia  BOS             Boston, MA   \n",
       "407486    New York, NY        New York  BOS             Boston, MA   \n",
       "251052      Denver, CO        Colorado  MDW            Chicago, IL   \n",
       "119504     El Paso, TX           Texas  DFW  Dallas/Fort Worth, TX   \n",
       "31371      Houston, TX           Texas  GSP              Greer, SC   \n",
       "\n",
       "         DestStateName  DepTime  DepDelay  AirTime  Distance  \n",
       "167715   Massachusetts    656.0      -4.0     58.0     399.0  \n",
       "407486   Massachusetts      NaN       NaN      NaN     184.0  \n",
       "251052        Illinois   1310.0      10.0    103.0     895.0  \n",
       "119504           Texas    727.0      14.0     72.0     551.0  \n",
       "31371   South Carolina   1910.0       3.0    117.0     837.0  "
      ]
     },
     "execution_count": 31,
     "metadata": {},
     "output_type": "execute_result"
    }
   ],
   "source": [
    "df2 = df[['FlightDate', 'DayOfWeek', 'Carrier', 'TailNum', 'FlightNum', 'Origin', \n",
    "         'OriginCityName', 'OriginStateName', 'Dest', 'DestCityName', 'DestStateName',\n",
    "         'DepTime', 'DepDelay', 'AirTime', 'Distance']]\n",
    "df2.sample(5)"
   ]
  },
  {
   "cell_type": "markdown",
   "metadata": {},
   "source": [
    "## Formatting columns and parsing dates and times\n",
    "\n",
    "Hurray! we have almost cleaned our dataset. Soon we will begin to do some actual work with it. "
   ]
  },
  {
   "cell_type": "code",
   "execution_count": 32,
   "metadata": {},
   "outputs": [
    {
     "data": {
      "text/plain": [
       "FlightDate          object\n",
       "DayOfWeek            int64\n",
       "Carrier             object\n",
       "TailNum             object\n",
       "FlightNum            int64\n",
       "Origin              object\n",
       "OriginCityName      object\n",
       "OriginStateName     object\n",
       "Dest                object\n",
       "DestCityName        object\n",
       "DestStateName       object\n",
       "DepTime            float64\n",
       "DepDelay           float64\n",
       "AirTime            float64\n",
       "Distance           float64\n",
       "dtype: object"
      ]
     },
     "execution_count": 32,
     "metadata": {},
     "output_type": "execute_result"
    }
   ],
   "source": [
    "df2.dtypes"
   ]
  },
  {
   "cell_type": "markdown",
   "metadata": {},
   "source": [
    "Pandas interpreted the Deptime column as ints and the FlighDate column as strings. We want to combine them and parse them into a DateTime column, so that we can use them properly as datetimes."
   ]
  },
  {
   "cell_type": "markdown",
   "metadata": {},
   "source": [
    "First step:\n",
    "\n",
    "#### Exercise\n",
    "\n",
    "Define a function that will parse our int hours into a reasonable format (\"HH:MM\"). It should take only one int hour and return the appropriate representation."
   ]
  },
  {
   "cell_type": "code",
   "execution_count": 33,
   "metadata": {},
   "outputs": [
    {
     "data": {
      "text/plain": [
       "0     959.0\n",
       "1    1717.0\n",
       "2    1132.0\n",
       "3    2201.0\n",
       "4    1941.0\n",
       "Name: DepTime, dtype: float64"
      ]
     },
     "execution_count": 33,
     "metadata": {},
     "output_type": "execute_result"
    }
   ],
   "source": [
    "df2['DepTime'].head()"
   ]
  },
  {
   "cell_type": "code",
   "execution_count": 34,
   "metadata": {},
   "outputs": [
    {
     "data": {
      "text/plain": [
       "'00:24'"
      ]
     },
     "execution_count": 34,
     "metadata": {},
     "output_type": "execute_result"
    }
   ],
   "source": [
    "# We'll need to take an int and return a string of the appropriate format\n",
    "import numpy as np\n",
    "\n",
    "def deptime_to_string(num):\n",
    "    if num!=num:    # If np.nan better handle this\n",
    "        num =0.0;\n",
    "\n",
    "    hour = int(num / 100) % 24 # There are i.e. 24:20 in the data, which datetime doesn't like.\n",
    "    minute = int(num % 100)\n",
    "    \n",
    "\n",
    "    return '%02d:%02d' % (hour, minute)\n",
    "\n",
    "deptime_to_string(24.0)"
   ]
  },
  {
   "cell_type": "code",
   "execution_count": 35,
   "metadata": {},
   "outputs": [
    {
     "data": {
      "text/plain": [
       "0    2015-02-07\n",
       "1    2015-02-07\n",
       "2    2015-02-07\n",
       "3    2015-02-07\n",
       "4    2015-02-07\n",
       "Name: FlightDate, dtype: object"
      ]
     },
     "execution_count": 35,
     "metadata": {},
     "output_type": "execute_result"
    }
   ],
   "source": [
    "df2['FlightDate'].head()"
   ]
  },
  {
   "cell_type": "markdown",
   "metadata": {},
   "source": [
    "Now, we can use that function to build datetime strings that we will then pass to pd.to_datetime, with a format we will specify. Let's do that\n",
    "\n",
    "Hint: Check out [pd.to_datetime's documentatoin](http://pandas.pydata.org/pandas-docs/stable/generated/pandas.to_datetime.html) for info on the acceptable format."
   ]
  },
  {
   "cell_type": "code",
   "execution_count": 36,
   "metadata": {},
   "outputs": [
    {
     "data": {
      "text/plain": [
       "0    09:59\n",
       "1    17:17\n",
       "2    11:32\n",
       "3    22:01\n",
       "4    19:41\n",
       "5    23:31\n",
       "6    10:52\n",
       "7    12:57\n",
       "8    19:02\n",
       "9    16:46\n",
       "Name: DepTime, dtype: object"
      ]
     },
     "execution_count": 36,
     "metadata": {},
     "output_type": "execute_result"
    }
   ],
   "source": [
    "series1 = df2['DepTime'].apply(deptime_to_string)\n",
    "series1.head(10)"
   ]
  },
  {
   "cell_type": "markdown",
   "metadata": {},
   "source": [
    "#### Exercise\n",
    "\n",
    "Overwrite the 'DepTime' column with its version in the proper format\n",
    "\n",
    "Hint: Before overwriting your column in the dataframe, make sure that everything works by assigning the modified column to a Series variable (this takes care of not messing up with the index!)."
   ]
  },
  {
   "cell_type": "code",
   "execution_count": 37,
   "metadata": {},
   "outputs": [
    {
     "data": {
      "text/plain": [
       "409132"
      ]
     },
     "execution_count": 37,
     "metadata": {},
     "output_type": "execute_result"
    }
   ],
   "source": [
    "df2['DepTime'].count()"
   ]
  },
  {
   "cell_type": "code",
   "execution_count": 38,
   "metadata": {},
   "outputs": [
    {
     "data": {
      "text/plain": [
       "409132"
      ]
     },
     "execution_count": 38,
     "metadata": {},
     "output_type": "execute_result"
    }
   ],
   "source": [
    "series = df2['DepTime'].dropna().apply(deptime_to_string)\n",
    "series.count()"
   ]
  },
  {
   "cell_type": "code",
   "execution_count": 39,
   "metadata": {},
   "outputs": [
    {
     "name": "stderr",
     "output_type": "stream",
     "text": [
      "/home/dsc/anaconda3/lib/python3.6/site-packages/ipykernel_launcher.py:1: SettingWithCopyWarning: \n",
      "A value is trying to be set on a copy of a slice from a DataFrame.\n",
      "Try using .loc[row_indexer,col_indexer] = value instead\n",
      "\n",
      "See the caveats in the documentation: http://pandas.pydata.org/pandas-docs/stable/indexing.html#indexing-view-versus-copy\n",
      "  \"\"\"Entry point for launching an IPython kernel.\n"
     ]
    }
   ],
   "source": [
    "df2['DepTimeStr'] = series"
   ]
  },
  {
   "cell_type": "code",
   "execution_count": 40,
   "metadata": {},
   "outputs": [
    {
     "data": {
      "text/plain": [
       "True"
      ]
     },
     "execution_count": 40,
     "metadata": {},
     "output_type": "execute_result"
    }
   ],
   "source": [
    "# What happened to the nan? They are still nan, because our Series didn't contain them. \n",
    "# Therefore, when we put the Series back into the Dataframe, those cells stayed empty.\n",
    "df2['DepTimeStr'].count() == df2['DepTime'].count()"
   ]
  },
  {
   "cell_type": "markdown",
   "metadata": {},
   "source": [
    "#### Exercise\n",
    "\n",
    "Now, create a DepDateTime with the proper type using `pd.to_datetime`"
   ]
  },
  {
   "cell_type": "code",
   "execution_count": 41,
   "metadata": {},
   "outputs": [
    {
     "data": {
      "text/plain": [
       "Timestamp('2015-01-15 08:30:00')"
      ]
     },
     "execution_count": 41,
     "metadata": {},
     "output_type": "execute_result"
    }
   ],
   "source": [
    "# This is the format pd.to_datetime needs:\n",
    "\n",
    "ts = pd.to_datetime('2015-01-15 08:30')\n",
    "ts"
   ]
  },
  {
   "cell_type": "code",
   "execution_count": 42,
   "metadata": {},
   "outputs": [
    {
     "data": {
      "text/plain": [
       "0    09:59\n",
       "1    17:17\n",
       "2    11:32\n",
       "3    22:01\n",
       "4    19:41\n",
       "Name: DepTimeStr, dtype: object"
      ]
     },
     "execution_count": 42,
     "metadata": {},
     "output_type": "execute_result"
    }
   ],
   "source": [
    "df2['DepTimeStr'].head()"
   ]
  },
  {
   "cell_type": "code",
   "execution_count": 43,
   "metadata": {},
   "outputs": [
    {
     "data": {
      "text/plain": [
       "0    2015-02-07\n",
       "1    2015-02-07\n",
       "2    2015-02-07\n",
       "3    2015-02-07\n",
       "4    2015-02-07\n",
       "Name: FlightDate, dtype: object"
      ]
     },
     "execution_count": 43,
     "metadata": {},
     "output_type": "execute_result"
    }
   ],
   "source": [
    "df2['FlightDate'].head()"
   ]
  },
  {
   "cell_type": "code",
   "execution_count": 46,
   "metadata": {
    "scrolled": true
   },
   "outputs": [
    {
     "data": {
      "text/plain": [
       "0   2015-02-07 09:59:00\n",
       "1   2015-02-07 17:17:00\n",
       "2   2015-02-07 11:32:00\n",
       "3   2015-02-07 22:01:00\n",
       "4   2015-02-07 19:41:00\n",
       "dtype: datetime64[ns]"
      ]
     },
     "execution_count": 46,
     "metadata": {},
     "output_type": "execute_result"
    }
   ],
   "source": [
    "series2 = df2['FlightDate'].head() + ' ' + df2['DepTimeStr'].head()\n",
    "pd.to_datetime(series2)"
   ]
  },
  {
   "cell_type": "code",
   "execution_count": 47,
   "metadata": {},
   "outputs": [
    {
     "name": "stderr",
     "output_type": "stream",
     "text": [
      "/home/dsc/anaconda3/lib/python3.6/site-packages/ipykernel_launcher.py:2: SettingWithCopyWarning: \n",
      "A value is trying to be set on a copy of a slice from a DataFrame.\n",
      "Try using .loc[row_indexer,col_indexer] = value instead\n",
      "\n",
      "See the caveats in the documentation: http://pandas.pydata.org/pandas-docs/stable/indexing.html#indexing-view-versus-copy\n",
      "  \n"
     ]
    }
   ],
   "source": [
    "departure_datetimes = pd.to_datetime(df2['FlightDate'] + ' ' + df2['DepTimeStr'])\n",
    "df2['DepDateTime'] = departure_datetimes"
   ]
  },
  {
   "cell_type": "code",
   "execution_count": 48,
   "metadata": {},
   "outputs": [],
   "source": [
    "# Drop the now-redundant columns\n",
    "df3 = df2.drop(['FlightDate', 'DepTime', 'DepTimeStr'], axis=1)"
   ]
  },
  {
   "cell_type": "code",
   "execution_count": 49,
   "metadata": {},
   "outputs": [
    {
     "data": {
      "text/html": [
       "<div>\n",
       "<style scoped>\n",
       "    .dataframe tbody tr th:only-of-type {\n",
       "        vertical-align: middle;\n",
       "    }\n",
       "\n",
       "    .dataframe tbody tr th {\n",
       "        vertical-align: top;\n",
       "    }\n",
       "\n",
       "    .dataframe thead th {\n",
       "        text-align: right;\n",
       "    }\n",
       "</style>\n",
       "<table border=\"1\" class=\"dataframe\">\n",
       "  <thead>\n",
       "    <tr style=\"text-align: right;\">\n",
       "      <th></th>\n",
       "      <th>DayOfWeek</th>\n",
       "      <th>Carrier</th>\n",
       "      <th>TailNum</th>\n",
       "      <th>FlightNum</th>\n",
       "      <th>Origin</th>\n",
       "      <th>OriginCityName</th>\n",
       "      <th>OriginStateName</th>\n",
       "      <th>Dest</th>\n",
       "      <th>DestCityName</th>\n",
       "      <th>DestStateName</th>\n",
       "      <th>DepDelay</th>\n",
       "      <th>AirTime</th>\n",
       "      <th>Distance</th>\n",
       "      <th>DepDateTime</th>\n",
       "    </tr>\n",
       "  </thead>\n",
       "  <tbody>\n",
       "    <tr>\n",
       "      <th>142086</th>\n",
       "      <td>7</td>\n",
       "      <td>AS</td>\n",
       "      <td>N442AS</td>\n",
       "      <td>461</td>\n",
       "      <td>LAX</td>\n",
       "      <td>Los Angeles, CA</td>\n",
       "      <td>California</td>\n",
       "      <td>SEA</td>\n",
       "      <td>Seattle, WA</td>\n",
       "      <td>Washington</td>\n",
       "      <td>-1.0</td>\n",
       "      <td>137.0</td>\n",
       "      <td>954.0</td>\n",
       "      <td>2015-02-01 17:39:00</td>\n",
       "    </tr>\n",
       "    <tr>\n",
       "      <th>185179</th>\n",
       "      <td>4</td>\n",
       "      <td>DL</td>\n",
       "      <td>N906DE</td>\n",
       "      <td>2216</td>\n",
       "      <td>ATL</td>\n",
       "      <td>Atlanta, GA</td>\n",
       "      <td>Georgia</td>\n",
       "      <td>ABQ</td>\n",
       "      <td>Albuquerque, NM</td>\n",
       "      <td>New Mexico</td>\n",
       "      <td>0.0</td>\n",
       "      <td>179.0</td>\n",
       "      <td>1269.0</td>\n",
       "      <td>2015-02-05 16:55:00</td>\n",
       "    </tr>\n",
       "    <tr>\n",
       "      <th>225578</th>\n",
       "      <td>6</td>\n",
       "      <td>VX</td>\n",
       "      <td>N853VA</td>\n",
       "      <td>929</td>\n",
       "      <td>LAX</td>\n",
       "      <td>Los Angeles, CA</td>\n",
       "      <td>California</td>\n",
       "      <td>SFO</td>\n",
       "      <td>San Francisco, CA</td>\n",
       "      <td>California</td>\n",
       "      <td>-2.0</td>\n",
       "      <td>52.0</td>\n",
       "      <td>337.0</td>\n",
       "      <td>2015-02-14 13:28:00</td>\n",
       "    </tr>\n",
       "    <tr>\n",
       "      <th>305023</th>\n",
       "      <td>3</td>\n",
       "      <td>WN</td>\n",
       "      <td>N739GB</td>\n",
       "      <td>711</td>\n",
       "      <td>SAT</td>\n",
       "      <td>San Antonio, TX</td>\n",
       "      <td>Texas</td>\n",
       "      <td>LAS</td>\n",
       "      <td>Las Vegas, NV</td>\n",
       "      <td>Nevada</td>\n",
       "      <td>-1.0</td>\n",
       "      <td>157.0</td>\n",
       "      <td>1069.0</td>\n",
       "      <td>2015-02-25 07:59:00</td>\n",
       "    </tr>\n",
       "    <tr>\n",
       "      <th>312845</th>\n",
       "      <td>5</td>\n",
       "      <td>WN</td>\n",
       "      <td>N624SW</td>\n",
       "      <td>140</td>\n",
       "      <td>BUF</td>\n",
       "      <td>Buffalo, NY</td>\n",
       "      <td>New York</td>\n",
       "      <td>MCO</td>\n",
       "      <td>Orlando, FL</td>\n",
       "      <td>Florida</td>\n",
       "      <td>-4.0</td>\n",
       "      <td>155.0</td>\n",
       "      <td>1011.0</td>\n",
       "      <td>2015-02-27 18:46:00</td>\n",
       "    </tr>\n",
       "  </tbody>\n",
       "</table>\n",
       "</div>"
      ],
      "text/plain": [
       "        DayOfWeek Carrier TailNum  FlightNum Origin   OriginCityName  \\\n",
       "142086          7      AS  N442AS        461    LAX  Los Angeles, CA   \n",
       "185179          4      DL  N906DE       2216    ATL      Atlanta, GA   \n",
       "225578          6      VX  N853VA        929    LAX  Los Angeles, CA   \n",
       "305023          3      WN  N739GB        711    SAT  San Antonio, TX   \n",
       "312845          5      WN  N624SW        140    BUF      Buffalo, NY   \n",
       "\n",
       "       OriginStateName Dest       DestCityName DestStateName  DepDelay  \\\n",
       "142086      California  SEA        Seattle, WA    Washington      -1.0   \n",
       "185179         Georgia  ABQ    Albuquerque, NM    New Mexico       0.0   \n",
       "225578      California  SFO  San Francisco, CA    California      -2.0   \n",
       "305023           Texas  LAS      Las Vegas, NV        Nevada      -1.0   \n",
       "312845        New York  MCO        Orlando, FL       Florida      -4.0   \n",
       "\n",
       "        AirTime  Distance         DepDateTime  \n",
       "142086    137.0     954.0 2015-02-01 17:39:00  \n",
       "185179    179.0    1269.0 2015-02-05 16:55:00  \n",
       "225578     52.0     337.0 2015-02-14 13:28:00  \n",
       "305023    157.0    1069.0 2015-02-25 07:59:00  \n",
       "312845    155.0    1011.0 2015-02-27 18:46:00  "
      ]
     },
     "execution_count": 49,
     "metadata": {},
     "output_type": "execute_result"
    }
   ],
   "source": [
    "df3.sample(5)"
   ]
  },
  {
   "cell_type": "markdown",
   "metadata": {},
   "source": [
    "### Inspect the types, see if everything is in order"
   ]
  },
  {
   "cell_type": "code",
   "execution_count": 50,
   "metadata": {},
   "outputs": [
    {
     "data": {
      "text/plain": [
       "DayOfWeek                   int64\n",
       "Carrier                    object\n",
       "TailNum                    object\n",
       "FlightNum                   int64\n",
       "Origin                     object\n",
       "OriginCityName             object\n",
       "OriginStateName            object\n",
       "Dest                       object\n",
       "DestCityName               object\n",
       "DestStateName              object\n",
       "DepDelay                  float64\n",
       "AirTime                   float64\n",
       "Distance                  float64\n",
       "DepDateTime        datetime64[ns]\n",
       "dtype: object"
      ]
     },
     "execution_count": 50,
     "metadata": {},
     "output_type": "execute_result"
    }
   ],
   "source": [
    "df3.dtypes"
   ]
  },
  {
   "cell_type": "markdown",
   "metadata": {},
   "source": [
    "## Examining the data"
   ]
  },
  {
   "cell_type": "markdown",
   "metadata": {},
   "source": [
    "Finally clean! Let's start to do some preliminary work on the data."
   ]
  },
  {
   "cell_type": "markdown",
   "metadata": {},
   "source": [
    "#### Exercise:\n",
    "\n",
    "Find the biggest delays. \n",
    "\n",
    "How would you find the 5 maximum delays?"
   ]
  },
  {
   "cell_type": "code",
   "execution_count": 51,
   "metadata": {},
   "outputs": [
    {
     "data": {
      "text/html": [
       "<div>\n",
       "<style scoped>\n",
       "    .dataframe tbody tr th:only-of-type {\n",
       "        vertical-align: middle;\n",
       "    }\n",
       "\n",
       "    .dataframe tbody tr th {\n",
       "        vertical-align: top;\n",
       "    }\n",
       "\n",
       "    .dataframe thead th {\n",
       "        text-align: right;\n",
       "    }\n",
       "</style>\n",
       "<table border=\"1\" class=\"dataframe\">\n",
       "  <thead>\n",
       "    <tr style=\"text-align: right;\">\n",
       "      <th></th>\n",
       "      <th>DayOfWeek</th>\n",
       "      <th>Carrier</th>\n",
       "      <th>TailNum</th>\n",
       "      <th>FlightNum</th>\n",
       "      <th>Origin</th>\n",
       "      <th>OriginCityName</th>\n",
       "      <th>OriginStateName</th>\n",
       "      <th>Dest</th>\n",
       "      <th>DestCityName</th>\n",
       "      <th>DestStateName</th>\n",
       "      <th>DepDelay</th>\n",
       "      <th>AirTime</th>\n",
       "      <th>Distance</th>\n",
       "      <th>DepDateTime</th>\n",
       "    </tr>\n",
       "  </thead>\n",
       "  <tbody>\n",
       "    <tr>\n",
       "      <th>126203</th>\n",
       "      <td>6</td>\n",
       "      <td>AA</td>\n",
       "      <td>N028AA</td>\n",
       "      <td>1312</td>\n",
       "      <td>STL</td>\n",
       "      <td>St. Louis, MO</td>\n",
       "      <td>Missouri</td>\n",
       "      <td>MIA</td>\n",
       "      <td>Miami, FL</td>\n",
       "      <td>Florida</td>\n",
       "      <td>1587.0</td>\n",
       "      <td>131.0</td>\n",
       "      <td>1068.0</td>\n",
       "      <td>2015-02-28 08:47:00</td>\n",
       "    </tr>\n",
       "    <tr>\n",
       "      <th>117050</th>\n",
       "      <td>7</td>\n",
       "      <td>AA</td>\n",
       "      <td>N007AA</td>\n",
       "      <td>1080</td>\n",
       "      <td>EGE</td>\n",
       "      <td>Eagle, CO</td>\n",
       "      <td>Colorado</td>\n",
       "      <td>ORD</td>\n",
       "      <td>Chicago, IL</td>\n",
       "      <td>Illinois</td>\n",
       "      <td>1457.0</td>\n",
       "      <td>123.0</td>\n",
       "      <td>1007.0</td>\n",
       "      <td>2015-02-22 14:32:00</td>\n",
       "    </tr>\n",
       "    <tr>\n",
       "      <th>73864</th>\n",
       "      <td>7</td>\n",
       "      <td>HA</td>\n",
       "      <td>N374HA</td>\n",
       "      <td>50</td>\n",
       "      <td>HNL</td>\n",
       "      <td>Honolulu, HI</td>\n",
       "      <td>Hawaii</td>\n",
       "      <td>JFK</td>\n",
       "      <td>New York, NY</td>\n",
       "      <td>New York</td>\n",
       "      <td>1433.0</td>\n",
       "      <td>498.0</td>\n",
       "      <td>4983.0</td>\n",
       "      <td>2015-02-08 16:23:00</td>\n",
       "    </tr>\n",
       "    <tr>\n",
       "      <th>73885</th>\n",
       "      <td>1</td>\n",
       "      <td>HA</td>\n",
       "      <td>N374HA</td>\n",
       "      <td>51</td>\n",
       "      <td>JFK</td>\n",
       "      <td>New York, NY</td>\n",
       "      <td>New York</td>\n",
       "      <td>HNL</td>\n",
       "      <td>Honolulu, HI</td>\n",
       "      <td>Hawaii</td>\n",
       "      <td>1429.0</td>\n",
       "      <td>684.0</td>\n",
       "      <td>4983.0</td>\n",
       "      <td>2015-02-09 09:24:00</td>\n",
       "    </tr>\n",
       "    <tr>\n",
       "      <th>131625</th>\n",
       "      <td>4</td>\n",
       "      <td>AA</td>\n",
       "      <td>N3ASAA</td>\n",
       "      <td>1564</td>\n",
       "      <td>PHX</td>\n",
       "      <td>Phoenix, AZ</td>\n",
       "      <td>Arizona</td>\n",
       "      <td>ORD</td>\n",
       "      <td>Chicago, IL</td>\n",
       "      <td>Illinois</td>\n",
       "      <td>1367.0</td>\n",
       "      <td>167.0</td>\n",
       "      <td>1440.0</td>\n",
       "      <td>2015-02-19 05:54:00</td>\n",
       "    </tr>\n",
       "  </tbody>\n",
       "</table>\n",
       "</div>"
      ],
      "text/plain": [
       "        DayOfWeek Carrier TailNum  FlightNum Origin OriginCityName  \\\n",
       "126203          6      AA  N028AA       1312    STL  St. Louis, MO   \n",
       "117050          7      AA  N007AA       1080    EGE      Eagle, CO   \n",
       "73864           7      HA  N374HA         50    HNL   Honolulu, HI   \n",
       "73885           1      HA  N374HA         51    JFK   New York, NY   \n",
       "131625          4      AA  N3ASAA       1564    PHX    Phoenix, AZ   \n",
       "\n",
       "       OriginStateName Dest  DestCityName DestStateName  DepDelay  AirTime  \\\n",
       "126203        Missouri  MIA     Miami, FL       Florida    1587.0    131.0   \n",
       "117050        Colorado  ORD   Chicago, IL      Illinois    1457.0    123.0   \n",
       "73864           Hawaii  JFK  New York, NY      New York    1433.0    498.0   \n",
       "73885         New York  HNL  Honolulu, HI        Hawaii    1429.0    684.0   \n",
       "131625         Arizona  ORD   Chicago, IL      Illinois    1367.0    167.0   \n",
       "\n",
       "        Distance         DepDateTime  \n",
       "126203    1068.0 2015-02-28 08:47:00  \n",
       "117050    1007.0 2015-02-22 14:32:00  \n",
       "73864     4983.0 2015-02-08 16:23:00  \n",
       "73885     4983.0 2015-02-09 09:24:00  \n",
       "131625    1440.0 2015-02-19 05:54:00  "
      ]
     },
     "execution_count": 51,
     "metadata": {},
     "output_type": "execute_result"
    }
   ],
   "source": [
    "df3.sort_values(by='DepDelay', ascending=False).head(5)"
   ]
  },
  {
   "cell_type": "markdown",
   "metadata": {},
   "source": [
    "#### Exercise\n",
    "\n",
    "What was the average delay for this month? Standard deviation and typical value?"
   ]
  },
  {
   "cell_type": "code",
   "execution_count": 52,
   "metadata": {},
   "outputs": [
    {
     "data": {
      "text/plain": [
       "count    409132.000000\n",
       "mean         11.885284\n",
       "std          40.143735\n",
       "min         -61.000000\n",
       "25%          -4.000000\n",
       "50%          -1.000000\n",
       "75%          11.000000\n",
       "max        1587.000000\n",
       "Name: DepDelay, dtype: float64"
      ]
     },
     "execution_count": 52,
     "metadata": {},
     "output_type": "execute_result"
    }
   ],
   "source": [
    "df2['DepDelay'].describe()"
   ]
  },
  {
   "cell_type": "markdown",
   "metadata": {},
   "source": [
    "Also: a quick look at the correlation between the numerical variables is extremely easy with pandas:"
   ]
  },
  {
   "cell_type": "code",
   "execution_count": 53,
   "metadata": {},
   "outputs": [
    {
     "data": {
      "text/html": [
       "<div>\n",
       "<style scoped>\n",
       "    .dataframe tbody tr th:only-of-type {\n",
       "        vertical-align: middle;\n",
       "    }\n",
       "\n",
       "    .dataframe tbody tr th {\n",
       "        vertical-align: top;\n",
       "    }\n",
       "\n",
       "    .dataframe thead th {\n",
       "        text-align: right;\n",
       "    }\n",
       "</style>\n",
       "<table border=\"1\" class=\"dataframe\">\n",
       "  <thead>\n",
       "    <tr style=\"text-align: right;\">\n",
       "      <th></th>\n",
       "      <th>DayOfWeek</th>\n",
       "      <th>FlightNum</th>\n",
       "      <th>DepTime</th>\n",
       "      <th>DepDelay</th>\n",
       "      <th>AirTime</th>\n",
       "      <th>Distance</th>\n",
       "    </tr>\n",
       "  </thead>\n",
       "  <tbody>\n",
       "    <tr>\n",
       "      <th>DayOfWeek</th>\n",
       "      <td>1.000000</td>\n",
       "      <td>0.015379</td>\n",
       "      <td>-0.000962</td>\n",
       "      <td>-0.018116</td>\n",
       "      <td>0.015865</td>\n",
       "      <td>0.021141</td>\n",
       "    </tr>\n",
       "    <tr>\n",
       "      <th>FlightNum</th>\n",
       "      <td>0.015379</td>\n",
       "      <td>1.000000</td>\n",
       "      <td>0.003175</td>\n",
       "      <td>0.002797</td>\n",
       "      <td>-0.333575</td>\n",
       "      <td>-0.349537</td>\n",
       "    </tr>\n",
       "    <tr>\n",
       "      <th>DepTime</th>\n",
       "      <td>-0.000962</td>\n",
       "      <td>0.003175</td>\n",
       "      <td>1.000000</td>\n",
       "      <td>0.171702</td>\n",
       "      <td>-0.025086</td>\n",
       "      <td>-0.022557</td>\n",
       "    </tr>\n",
       "    <tr>\n",
       "      <th>DepDelay</th>\n",
       "      <td>-0.018116</td>\n",
       "      <td>0.002797</td>\n",
       "      <td>0.171702</td>\n",
       "      <td>1.000000</td>\n",
       "      <td>0.021388</td>\n",
       "      <td>0.020472</td>\n",
       "    </tr>\n",
       "    <tr>\n",
       "      <th>AirTime</th>\n",
       "      <td>0.015865</td>\n",
       "      <td>-0.333575</td>\n",
       "      <td>-0.025086</td>\n",
       "      <td>0.021388</td>\n",
       "      <td>1.000000</td>\n",
       "      <td>0.977982</td>\n",
       "    </tr>\n",
       "    <tr>\n",
       "      <th>Distance</th>\n",
       "      <td>0.021141</td>\n",
       "      <td>-0.349537</td>\n",
       "      <td>-0.022557</td>\n",
       "      <td>0.020472</td>\n",
       "      <td>0.977982</td>\n",
       "      <td>1.000000</td>\n",
       "    </tr>\n",
       "  </tbody>\n",
       "</table>\n",
       "</div>"
      ],
      "text/plain": [
       "           DayOfWeek  FlightNum   DepTime  DepDelay   AirTime  Distance\n",
       "DayOfWeek   1.000000   0.015379 -0.000962 -0.018116  0.015865  0.021141\n",
       "FlightNum   0.015379   1.000000  0.003175  0.002797 -0.333575 -0.349537\n",
       "DepTime    -0.000962   0.003175  1.000000  0.171702 -0.025086 -0.022557\n",
       "DepDelay   -0.018116   0.002797  0.171702  1.000000  0.021388  0.020472\n",
       "AirTime     0.015865  -0.333575 -0.025086  0.021388  1.000000  0.977982\n",
       "Distance    0.021141  -0.349537 -0.022557  0.020472  0.977982  1.000000"
      ]
     },
     "execution_count": 53,
     "metadata": {},
     "output_type": "execute_result"
    }
   ],
   "source": [
    "df2.corr()"
   ]
  },
  {
   "cell_type": "markdown",
   "metadata": {},
   "source": [
    "#### Exercise\n",
    "\n",
    "What is the origin that has the highest average delay? We'll first group by origin and then calculate the relevant statistic for each group (group of *departures*)"
   ]
  },
  {
   "cell_type": "code",
   "execution_count": 54,
   "metadata": {},
   "outputs": [
    {
     "data": {
      "text/plain": [
       "pandas.core.groupby.DataFrameGroupBy"
      ]
     },
     "execution_count": 54,
     "metadata": {},
     "output_type": "execute_result"
    }
   ],
   "source": [
    "grouped_by_origin = df3.groupby('Origin')\n",
    "type(grouped_by_origin)"
   ]
  },
  {
   "cell_type": "code",
   "execution_count": 55,
   "metadata": {},
   "outputs": [
    {
     "data": {
      "text/plain": [
       "Origin\n",
       "TTN    49.747423\n",
       "ILG    40.789474\n",
       "UST    39.000000\n",
       "SMX    32.327273\n",
       "JLN    31.120000\n",
       "Name: DepDelay, dtype: float64"
      ]
     },
     "execution_count": 55,
     "metadata": {},
     "output_type": "execute_result"
    }
   ],
   "source": [
    "grouped_by_origin['DepDelay'].mean().sort_values(ascending=False).head()"
   ]
  },
  {
   "cell_type": "markdown",
   "metadata": {},
   "source": [
    "But the mean can be only meaningful if we had enough samples. Lets check that! We can aggregate *mean* and *count* at the same time."
   ]
  },
  {
   "cell_type": "code",
   "execution_count": 56,
   "metadata": {},
   "outputs": [
    {
     "data": {
      "text/html": [
       "<div>\n",
       "<style scoped>\n",
       "    .dataframe tbody tr th:only-of-type {\n",
       "        vertical-align: middle;\n",
       "    }\n",
       "\n",
       "    .dataframe tbody tr th {\n",
       "        vertical-align: top;\n",
       "    }\n",
       "\n",
       "    .dataframe thead th {\n",
       "        text-align: right;\n",
       "    }\n",
       "</style>\n",
       "<table border=\"1\" class=\"dataframe\">\n",
       "  <thead>\n",
       "    <tr style=\"text-align: right;\">\n",
       "      <th></th>\n",
       "      <th>mean</th>\n",
       "      <th>count</th>\n",
       "    </tr>\n",
       "    <tr>\n",
       "      <th>Origin</th>\n",
       "      <th></th>\n",
       "      <th></th>\n",
       "    </tr>\n",
       "  </thead>\n",
       "  <tbody>\n",
       "    <tr>\n",
       "      <th>TTN</th>\n",
       "      <td>49.747423</td>\n",
       "      <td>194</td>\n",
       "    </tr>\n",
       "    <tr>\n",
       "      <th>ILG</th>\n",
       "      <td>40.789474</td>\n",
       "      <td>19</td>\n",
       "    </tr>\n",
       "    <tr>\n",
       "      <th>UST</th>\n",
       "      <td>39.000000</td>\n",
       "      <td>11</td>\n",
       "    </tr>\n",
       "    <tr>\n",
       "      <th>SMX</th>\n",
       "      <td>32.327273</td>\n",
       "      <td>55</td>\n",
       "    </tr>\n",
       "    <tr>\n",
       "      <th>JLN</th>\n",
       "      <td>31.120000</td>\n",
       "      <td>50</td>\n",
       "    </tr>\n",
       "    <tr>\n",
       "      <th>PLN</th>\n",
       "      <td>30.500000</td>\n",
       "      <td>46</td>\n",
       "    </tr>\n",
       "    <tr>\n",
       "      <th>MKG</th>\n",
       "      <td>27.500000</td>\n",
       "      <td>46</td>\n",
       "    </tr>\n",
       "    <tr>\n",
       "      <th>SCE</th>\n",
       "      <td>26.888889</td>\n",
       "      <td>54</td>\n",
       "    </tr>\n",
       "    <tr>\n",
       "      <th>SUX</th>\n",
       "      <td>26.772727</td>\n",
       "      <td>44</td>\n",
       "    </tr>\n",
       "    <tr>\n",
       "      <th>OTH</th>\n",
       "      <td>26.071429</td>\n",
       "      <td>14</td>\n",
       "    </tr>\n",
       "  </tbody>\n",
       "</table>\n",
       "</div>"
      ],
      "text/plain": [
       "             mean  count\n",
       "Origin                  \n",
       "TTN     49.747423    194\n",
       "ILG     40.789474     19\n",
       "UST     39.000000     11\n",
       "SMX     32.327273     55\n",
       "JLN     31.120000     50\n",
       "PLN     30.500000     46\n",
       "MKG     27.500000     46\n",
       "SCE     26.888889     54\n",
       "SUX     26.772727     44\n",
       "OTH     26.071429     14"
      ]
     },
     "execution_count": 56,
     "metadata": {},
     "output_type": "execute_result"
    }
   ],
   "source": [
    "delays_by_origin = grouped_by_origin['DepDelay'].agg(['mean', 'count'])\n",
    "\n",
    "delays_by_origin.sort_values('mean', ascending=False).head(10)"
   ]
  },
  {
   "cell_type": "markdown",
   "metadata": {},
   "source": [
    "Awesome! now, let's look at the average delay of the planes with some departures (let's say, at least 15)"
   ]
  },
  {
   "cell_type": "code",
   "execution_count": 57,
   "metadata": {
    "scrolled": true
   },
   "outputs": [
    {
     "data": {
      "text/html": [
       "<div>\n",
       "<style scoped>\n",
       "    .dataframe tbody tr th:only-of-type {\n",
       "        vertical-align: middle;\n",
       "    }\n",
       "\n",
       "    .dataframe tbody tr th {\n",
       "        vertical-align: top;\n",
       "    }\n",
       "\n",
       "    .dataframe thead th {\n",
       "        text-align: right;\n",
       "    }\n",
       "</style>\n",
       "<table border=\"1\" class=\"dataframe\">\n",
       "  <thead>\n",
       "    <tr style=\"text-align: right;\">\n",
       "      <th></th>\n",
       "      <th>mean</th>\n",
       "      <th>count</th>\n",
       "    </tr>\n",
       "    <tr>\n",
       "      <th>Origin</th>\n",
       "      <th></th>\n",
       "      <th></th>\n",
       "    </tr>\n",
       "  </thead>\n",
       "  <tbody>\n",
       "    <tr>\n",
       "      <th>TTN</th>\n",
       "      <td>49.747423</td>\n",
       "      <td>194</td>\n",
       "    </tr>\n",
       "    <tr>\n",
       "      <th>ILG</th>\n",
       "      <td>40.789474</td>\n",
       "      <td>19</td>\n",
       "    </tr>\n",
       "    <tr>\n",
       "      <th>SMX</th>\n",
       "      <td>32.327273</td>\n",
       "      <td>55</td>\n",
       "    </tr>\n",
       "    <tr>\n",
       "      <th>JLN</th>\n",
       "      <td>31.120000</td>\n",
       "      <td>50</td>\n",
       "    </tr>\n",
       "    <tr>\n",
       "      <th>PLN</th>\n",
       "      <td>30.500000</td>\n",
       "      <td>46</td>\n",
       "    </tr>\n",
       "    <tr>\n",
       "      <th>MKG</th>\n",
       "      <td>27.500000</td>\n",
       "      <td>46</td>\n",
       "    </tr>\n",
       "    <tr>\n",
       "      <th>SCE</th>\n",
       "      <td>26.888889</td>\n",
       "      <td>54</td>\n",
       "    </tr>\n",
       "    <tr>\n",
       "      <th>SUX</th>\n",
       "      <td>26.772727</td>\n",
       "      <td>44</td>\n",
       "    </tr>\n",
       "    <tr>\n",
       "      <th>SWF</th>\n",
       "      <td>26.060606</td>\n",
       "      <td>66</td>\n",
       "    </tr>\n",
       "    <tr>\n",
       "      <th>PBG</th>\n",
       "      <td>25.357143</td>\n",
       "      <td>28</td>\n",
       "    </tr>\n",
       "  </tbody>\n",
       "</table>\n",
       "</div>"
      ],
      "text/plain": [
       "             mean  count\n",
       "Origin                  \n",
       "TTN     49.747423    194\n",
       "ILG     40.789474     19\n",
       "SMX     32.327273     55\n",
       "JLN     31.120000     50\n",
       "PLN     30.500000     46\n",
       "MKG     27.500000     46\n",
       "SCE     26.888889     54\n",
       "SUX     26.772727     44\n",
       "SWF     26.060606     66\n",
       "PBG     25.357143     28"
      ]
     },
     "execution_count": 57,
     "metadata": {},
     "output_type": "execute_result"
    }
   ],
   "source": [
    "consistently_delayed = delays_by_origin[delays_by_origin['count'] > 14]\n",
    "highly_delayed = consistently_delayed.sort_values('mean', ascending=False).head(100)\n",
    "highly_delayed.head(10)"
   ]
  },
  {
   "cell_type": "code",
   "execution_count": 58,
   "metadata": {},
   "outputs": [
    {
     "data": {
      "text/plain": [
       "array(['F9', 'MQ', 'OO'], dtype=object)"
      ]
     },
     "execution_count": 58,
     "metadata": {},
     "output_type": "execute_result"
    }
   ],
   "source": [
    "# What companies run the rank 5/10 most delayed?\n",
    "df3.join(highly_delayed.head(5), on='Origin', how='inner')['Carrier'].unique()"
   ]
  },
  {
   "cell_type": "markdown",
   "metadata": {},
   "source": [
    "#### Exercise: \n",
    "\n",
    "Show cities by descending number of airports"
   ]
  },
  {
   "cell_type": "code",
   "execution_count": 66,
   "metadata": {},
   "outputs": [
    {
     "data": {
      "text/plain": [
       "OriginCityName\n",
       "Aberdeen, SD        56\n",
       "Abilene, TX        215\n",
       "Adak Island, AK      8\n",
       "Aguadilla, PR       84\n",
       "Akron, OH          514\n",
       "Name: Origin, dtype: int64"
      ]
     },
     "execution_count": 66,
     "metadata": {},
     "output_type": "execute_result"
    }
   ],
   "source": [
    "df3.groupby('OriginCityName')['Origin'].count().head() # number of flights per Origin"
   ]
  },
  {
   "cell_type": "code",
   "execution_count": 78,
   "metadata": {},
   "outputs": [
    {
     "data": {
      "text/plain": [
       "OriginCityName\n",
       "Vernal, UT                             [VEL]\n",
       "Waco, TX                               [ACT]\n",
       "Washington, DC                    [DCA, IAD]\n",
       "Waterloo, IA                           [ALO]\n",
       "West Palm Beach/Palm Beach, FL         [PBI]\n",
       "White Plains, NY                       [HPN]\n",
       "Wichita Falls, TX                      [SPS]\n",
       "Wichita, KS                            [ICT]\n",
       "Williston, ND                          [ISN]\n",
       "Wilmington, DE                         [ILG]\n",
       "Wilmington, NC                         [ILM]\n",
       "Worcester, MA                          [ORH]\n",
       "Wrangell, AK                           [WRG]\n",
       "Yakutat, AK                            [YAK]\n",
       "Yuma, AZ                               [YUM]\n",
       "Name: Origin, dtype: object"
      ]
     },
     "execution_count": 78,
     "metadata": {},
     "output_type": "execute_result"
    }
   ],
   "source": [
    "df2.groupby('OriginCityName')['Origin'].unique().tail(15) # number of airports code per City"
   ]
  },
  {
   "cell_type": "code",
   "execution_count": 81,
   "metadata": {},
   "outputs": [],
   "source": [
    "airports_by_city = df2.groupby('OriginCityName')['Origin'].unique()"
   ]
  },
  {
   "cell_type": "markdown",
   "metadata": {},
   "source": [
    "We have a list of Airport code for each city now."
   ]
  },
  {
   "cell_type": "code",
   "execution_count": 77,
   "metadata": {},
   "outputs": [
    {
     "data": {
      "text/plain": [
       "OriginCityName\n",
       "Chicago, IL            2\n",
       "Houston, TX            2\n",
       "New York, NY           2\n",
       "Washington, DC         2\n",
       "Fargo, ND              1\n",
       "Fayetteville, AR       1\n",
       "Fayetteville, NC       1\n",
       "Flagstaff, AZ          1\n",
       "Flint, MI              1\n",
       "Fort Lauderdale, FL    1\n",
       "Name: Origin, dtype: int64"
      ]
     },
     "execution_count": 77,
     "metadata": {},
     "output_type": "execute_result"
    }
   ],
   "source": [
    "airports_by_city.map(lambda x: len(x)).sort_values(ascending=False).head(10)"
   ]
  },
  {
   "cell_type": "markdown",
   "metadata": {},
   "source": [
    "## Plotting\n",
    "\n",
    "There are several ways in which we could go about plotting this dataset in order to get acquainted with it. "
   ]
  },
  {
   "cell_type": "markdown",
   "metadata": {},
   "source": [
    "For example, do the delays have a relationship with the number of departures a plane does?"
   ]
  },
  {
   "cell_type": "markdown",
   "metadata": {},
   "source": [
    "#### Exercise\n",
    "\n",
    "Do a scatter plot with matplotlib. Check the documentation"
   ]
  },
  {
   "cell_type": "code",
   "execution_count": 115,
   "metadata": {},
   "outputs": [
    {
     "data": {
      "image/png": "[encoded data removed]",
      "text/plain": [
       "<Figure size 432x288 with 1 Axes>"
      ]
     },
     "metadata": {},
     "output_type": "display_data"
    }
   ],
   "source": [
    "import matplotlib.pyplot as plt \n",
    "%matplotlib inline\n",
    "\n",
    "ax = delays_by_origin.plot.scatter('mean', 'count', alpha=.2)\n",
    "#ax.set_xlim(-20,50)\n",
    "#ax.set_ylim(0,5000)"
   ]
  },
  {
   "cell_type": "markdown",
   "metadata": {},
   "source": [
    "#### Exercise:\n",
    "\n",
    "Plot the distribution of delays as a histogram, both with a linear and a logarithmic scale"
   ]
  },
  {
   "cell_type": "code",
   "execution_count": 123,
   "metadata": {},
   "outputs": [
    {
     "data": {
      "image/png": "[encoded data removed]",
      "text/plain": [
       "<Figure size 432x288 with 1 Axes>"
      ]
     },
     "metadata": {},
     "output_type": "display_data"
    }
   ],
   "source": [
    "# Little trick: Just by importing seaborn, it will change \n",
    "# matplotlib defaults and make your graphs much prettier.!!\n",
    "\n",
    "import seaborn as sns\n",
    "\n",
    "ax = df['DepDelay'].hist(bins=500)\n",
    "ax.set_xlim(-100, 500)\n",
    "\n",
    "plt.title('Number of flights per delay bin')\n",
    "plt.show()"
   ]
  },
  {
   "cell_type": "code",
   "execution_count": 124,
   "metadata": {},
   "outputs": [
    {
     "data": {
      "image/png": "[encoded data removed]",
      "text/plain": [
       "<Figure size 432x288 with 1 Axes>"
      ]
     },
     "metadata": {},
     "output_type": "display_data"
    }
   ],
   "source": [
    "# We can make any axis logarithmic in order to see better a very unequal distribution\n",
    "\n",
    "ax = df['DepDelay'].hist(bins=500)\n",
    "ax.set_xlim(-100, 500)\n",
    "plt.title('Num flights per delay bin')\n",
    "\n",
    "plt.yscale('log')\n"
   ]
  },
  {
   "cell_type": "markdown",
   "metadata": {},
   "source": [
    "### Another question:\n",
    "\n",
    "How do the delays stack over the course of the day? We are going to look at it by plotting the distribution of delays for each hour of the day. The very best way to compare distributions side by side is a boxplot, so we'll use that."
   ]
  },
  {
   "cell_type": "markdown",
   "metadata": {},
   "source": [
    "We need to provide `plt.boxplot()` with a sequence that contains 24 elements. Each of those will be a sequence containing every individual delay for one hour of the day. We'll need, therefore, to extract hours of the day for each departure and group based on that."
   ]
  },
  {
   "cell_type": "code",
   "execution_count": 125,
   "metadata": {},
   "outputs": [
    {
     "name": "stderr",
     "output_type": "stream",
     "text": [
      "/home/dsc/anaconda3/lib/python3.6/site-packages/ipykernel_launcher.py:4: SettingWithCopyWarning: \n",
      "A value is trying to be set on a copy of a slice from a DataFrame.\n",
      "Try using .loc[row_indexer,col_indexer] = value instead\n",
      "\n",
      "See the caveats in the documentation: http://pandas.pydata.org/pandas-docs/stable/indexing.html#indexing-view-versus-copy\n",
      "  after removing the cwd from sys.path.\n"
     ]
    }
   ],
   "source": [
    "# Now, we can iterate over the groups and extract the delays. \n",
    "# We keep them in two different vectors because that is what boxplot wants\n",
    "\n",
    "df2['DepHour'] =  df2['DepDateTime'].map(lambda x: x.hour)\n",
    "\n",
    "by_hour = df2.groupby('DepHour')\n",
    "\n",
    "hours = []\n",
    "groups = []\n",
    "\n",
    "for h, g in by_hour:\n",
    "    hours.append(\"%02d\" % h)\n",
    "    groups.append(g['DepDelay'])"
   ]
  },
  {
   "cell_type": "code",
   "execution_count": 138,
   "metadata": {},
   "outputs": [
    {
     "name": "stdout",
     "output_type": "stream",
     "text": [
      "<class 'pandas.core.groupby.DataFrameGroupBy'>\n",
      "(10.0,         FlightDate  DayOfWeek Carrier TailNum  FlightNum Origin  \\\n",
      "6       2015-02-07          6      AS  N764AS        151    ANC   \n",
      "31      2015-02-07          6      AS  N794AS        303    SFO   \n",
      "40      2015-02-07          6      AS  N796AS        318    SEA   \n",
      "57      2015-02-07          6      AS  N431AS        346    SEA   \n",
      "105     2015-02-07          6      AS  N512AS        481    SAN   \n",
      "109     2015-02-07          6      AS  N403AS        490    SEA   \n",
      "125     2015-02-07          6      AS  N585AS        523    BUR   \n",
      "173     2015-02-07          6      AS  N615AS        619    LAS   \n",
      "178     2015-02-07          6      AS  N402AS        627    LAS   \n",
      "193     2015-02-07          6      AS  N467AS        648    SEA   \n",
      "200     2015-02-07          6      AS  N419AS        656    SEA   \n",
      "219     2015-02-07          6      AS  N592AS        688    PDX   \n",
      "237     2015-02-07          6      AS  N461AS        730    SEA   \n",
      "246     2015-02-07          6      AS  N613AS        752    SEA   \n",
      "248     2015-02-07          6      AS  N520AS        760    SAN   \n",
      "263     2015-02-07          6      AS  N609AS        794    SEA   \n",
      "285     2015-02-07          6      AS  N566AS        843    SEA   \n",
      "291     2015-02-07          6      AS  N559AS        857    SAN   \n",
      "338     2015-02-08          7      AS  N435AS         36    SEA   \n",
      "350     2015-02-08          7      AS  N768AS         55    SCC   \n",
      "360     2015-02-08          7      AS  N760AS         62    JNU   \n",
      "371     2015-02-08          7      AS  N769AS         65    WRG   \n",
      "394     2015-02-08          7      AS  N323AS         85    SEA   \n",
      "424     2015-02-08          7      AS  N764AS        151    ANC   \n",
      "451     2015-02-08          7      AS  N703AS        303    SFO   \n",
      "457     2015-02-08          7      AS  N788AS        311    SFO   \n",
      "497     2015-02-20          5      DL  N822DN       1816    DEN   \n",
      "516     2015-02-20          5      DL  N969DL       1828    SAV   \n",
      "554     2015-02-20          5      DL  N392DA       1857    SEA   \n",
      "556     2015-02-20          5      DL  N912DN       1858    ATL   \n",
      "...            ...        ...     ...     ...        ...    ...   \n",
      "428778  2015-02-06          5      OO  N457SW       4843    SLC   \n",
      "428781  2015-02-11          3      OO  N803SK       4844    MSP   \n",
      "428787  2015-02-02          1      OO  N554CA       4844    MSP   \n",
      "428888  2015-02-21          6      OO  N418SW       4850    FWA   \n",
      "429024  2015-02-24          2      OO  N815SK       4856    SJC   \n",
      "429025  2015-02-18          3      OO  N825SK       4856    SJC   \n",
      "429026  2015-02-25          3      OO  N815SK       4856    SJC   \n",
      "429027  2015-02-17          2      OO  N187PQ       4856    SJC   \n",
      "429047  2015-02-28          6      OO  N8923A       4857    SLC   \n",
      "429050  2015-02-03          2      OO  N430SW       4858    MOT   \n",
      "429123  2015-02-01          7      OO  N778SK       4966    SFO   \n",
      "429124  2015-02-23          1      OO  N763SK       4966    SFO   \n",
      "429125  2015-02-24          2      OO  N715SK       4966    SFO   \n",
      "429126  2015-02-16          1      OO  N707SK       4966    SFO   \n",
      "429127  2015-02-07          6      OO  N726SK       4966    SFO   \n",
      "429128  2015-02-11          3      OO  N706SK       4966    SFO   \n",
      "429129  2015-02-02          1      OO  N745SK       4966    SFO   \n",
      "429130  2015-02-18          3      OO  N790SK       4966    SFO   \n",
      "429131  2015-02-22          7      OO  N773SK       4966    SFO   \n",
      "429133  2015-02-09          1      OO  N728SK       4966    SFO   \n",
      "429134  2015-02-13          5      OO  N701SK       4966    SFO   \n",
      "429136  2015-02-26          4      OO  N772SK       4966    SFO   \n",
      "429137  2015-02-15          7      OO  N716SK       4966    SFO   \n",
      "429138  2015-02-28          6      OO  N791SK       4966    SFO   \n",
      "429139  2015-02-21          6      OO  N768SK       4966    SFO   \n",
      "429140  2015-02-14          6      OO  N797SK       4966    SFO   \n",
      "429143  2015-02-27          5      OO  N772SK       4966    SFO   \n",
      "429144  2015-02-25          3      OO  N738SK       4966    SFO   \n",
      "429145  2015-02-12          4      OO  N766SK       4966    SFO   \n",
      "429146  2015-02-08          7      OO  N738SK       4966    SFO   \n",
      "\n",
      "            OriginCityName OriginStateName Dest  \\\n",
      "6            Anchorage, AK          Alaska  OME   \n",
      "31       San Francisco, CA      California  SEA   \n",
      "40             Seattle, WA      Washington  SFO   \n",
      "57             Seattle, WA      Washington  OAK   \n",
      "105          San Diego, CA      California  SEA   \n",
      "109            Seattle, WA      Washington  SAN   \n",
      "125            Burbank, CA      California  SEA   \n",
      "173          Las Vegas, NV          Nevada  SEA   \n",
      "178          Las Vegas, NV          Nevada  PDX   \n",
      "193            Seattle, WA      Washington  TUS   \n",
      "200            Seattle, WA      Washington  PHX   \n",
      "219           Portland, OR          Oregon  ORD   \n",
      "237            Seattle, WA      Washington  IAH   \n",
      "246            Seattle, WA      Washington  MCI   \n",
      "248          San Diego, CA      California  MCO   \n",
      "263            Seattle, WA      Washington  ABQ   \n",
      "285            Seattle, WA      Washington  KOA   \n",
      "291          San Diego, CA      California  LIH   \n",
      "338            Seattle, WA      Washington  MSP   \n",
      "350          Deadhorse, AK          Alaska  BRW   \n",
      "360             Juneau, AK          Alaska  SIT   \n",
      "371           Wrangell, AK          Alaska  PSG   \n",
      "394            Seattle, WA      Washington  ANC   \n",
      "424          Anchorage, AK          Alaska  OME   \n",
      "451      San Francisco, CA      California  SEA   \n",
      "457      San Francisco, CA      California  SEA   \n",
      "497             Denver, CO        Colorado  ATL   \n",
      "516           Savannah, GA         Georgia  ATL   \n",
      "554            Seattle, WA      Washington  SLC   \n",
      "556            Atlanta, GA         Georgia  AUS   \n",
      "...                    ...             ...  ...   \n",
      "428778  Salt Lake City, UT            Utah  PSP   \n",
      "428781     Minneapolis, MN       Minnesota  CLE   \n",
      "428787     Minneapolis, MN       Minnesota  CLE   \n",
      "428888      Fort Wayne, IN         Indiana  ATL   \n",
      "429024        San Jose, CA      California  LAX   \n",
      "429025        San Jose, CA      California  LAX   \n",
      "429026        San Jose, CA      California  LAX   \n",
      "429027        San Jose, CA      California  LAX   \n",
      "429047  Salt Lake City, UT            Utah  MSO   \n",
      "429050           Minot, ND    North Dakota  MSP   \n",
      "429123   San Francisco, CA      California  SUN   \n",
      "429124   San Francisco, CA      California  SUN   \n",
      "429125   San Francisco, CA      California  SUN   \n",
      "429126   San Francisco, CA      California  SUN   \n",
      "429127   San Francisco, CA      California  SUN   \n",
      "429128   San Francisco, CA      California  SUN   \n",
      "429129   San Francisco, CA      California  SUN   \n",
      "429130   San Francisco, CA      California  SUN   \n",
      "429131   San Francisco, CA      California  SUN   \n",
      "429133   San Francisco, CA      California  SUN   \n",
      "429134   San Francisco, CA      California  SUN   \n",
      "429136   San Francisco, CA      California  SUN   \n",
      "429137   San Francisco, CA      California  SUN   \n",
      "429138   San Francisco, CA      California  SUN   \n",
      "429139   San Francisco, CA      California  SUN   \n",
      "429140   San Francisco, CA      California  SUN   \n",
      "429143   San Francisco, CA      California  SUN   \n",
      "429144   San Francisco, CA      California  SUN   \n",
      "429145   San Francisco, CA      California  SUN   \n",
      "429146   San Francisco, CA      California  SUN   \n",
      "\n",
      "                         DestCityName DestStateName  DepTime  DepDelay  \\\n",
      "6                            Nome, AK        Alaska   1052.0      27.0   \n",
      "31                        Seattle, WA    Washington   1004.0      -6.0   \n",
      "40                  San Francisco, CA    California   1053.0      58.0   \n",
      "57                        Oakland, CA    California   1014.0      -6.0   \n",
      "105                       Seattle, WA    Washington   1059.0      -6.0   \n",
      "109                     San Diego, CA    California   1058.0      -2.0   \n",
      "125                       Seattle, WA    Washington   1058.0      -2.0   \n",
      "173                       Seattle, WA    Washington   1046.0      -4.0   \n",
      "178                      Portland, OR        Oregon   1033.0      -7.0   \n",
      "193                        Tucson, AZ       Arizona   1014.0      -1.0   \n",
      "200                       Phoenix, AZ       Arizona   1026.0      -4.0   \n",
      "219                       Chicago, IL      Illinois   1020.0      -5.0   \n",
      "237                       Houston, TX         Texas   1020.0     -10.0   \n",
      "246                   Kansas City, MO      Missouri   1013.0       3.0   \n",
      "248                       Orlando, FL       Florida   1003.0     -12.0   \n",
      "263                   Albuquerque, NM    New Mexico   1039.0      -1.0   \n",
      "285                          Kona, HI        Hawaii   1014.0       4.0   \n",
      "291                         Lihue, HI        Hawaii   1012.0      -3.0   \n",
      "338                   Minneapolis, MN     Minnesota   1029.0       4.0   \n",
      "350                        Barrow, AK        Alaska   1039.0      12.0   \n",
      "360                         Sitka, AK        Alaska   1016.0     -14.0   \n",
      "371                    Petersburg, AK        Alaska   1041.0     -19.0   \n",
      "394                     Anchorage, AK        Alaska   1017.0      -3.0   \n",
      "424                          Nome, AK        Alaska   1018.0      -7.0   \n",
      "451                       Seattle, WA    Washington   1008.0      -2.0   \n",
      "457                       Seattle, WA    Washington   1009.0      54.0   \n",
      "497                       Atlanta, GA       Georgia   1028.0      -2.0   \n",
      "516                       Atlanta, GA       Georgia   1027.0      12.0   \n",
      "554                Salt Lake City, UT          Utah   1033.0      13.0   \n",
      "556                        Austin, TX         Texas   1005.0       5.0   \n",
      "...                               ...           ...      ...       ...   \n",
      "428778               Palm Springs, CA    California   1054.0      -7.0   \n",
      "428781                  Cleveland, OH          Ohio   1044.0      45.0   \n",
      "428787                  Cleveland, OH          Ohio   1011.0      12.0   \n",
      "428888                    Atlanta, GA       Georgia   1034.0      64.0   \n",
      "429024                Los Angeles, CA    California   1037.0      -6.0   \n",
      "429025                Los Angeles, CA    California   1037.0      -6.0   \n",
      "429026                Los Angeles, CA    California   1041.0      -2.0   \n",
      "429027                Los Angeles, CA    California   1040.0      -3.0   \n",
      "429047                   Missoula, MT       Montana   1055.0      -5.0   \n",
      "429050                Minneapolis, MN     Minnesota   1055.0     -15.0   \n",
      "429123  Sun Valley/Hailey/Ketchum, ID         Idaho   1034.0      -6.0   \n",
      "429124  Sun Valley/Hailey/Ketchum, ID         Idaho   1038.0      -2.0   \n",
      "429125  Sun Valley/Hailey/Ketchum, ID         Idaho   1038.0      -2.0   \n",
      "429126  Sun Valley/Hailey/Ketchum, ID         Idaho   1038.0      -2.0   \n",
      "429127  Sun Valley/Hailey/Ketchum, ID         Idaho   1058.0       7.0   \n",
      "429128  Sun Valley/Hailey/Ketchum, ID         Idaho   1046.0      -5.0   \n",
      "429129  Sun Valley/Hailey/Ketchum, ID         Idaho   1044.0      -7.0   \n",
      "429130  Sun Valley/Hailey/Ketchum, ID         Idaho   1039.0      -3.0   \n",
      "429131  Sun Valley/Hailey/Ketchum, ID         Idaho   1036.0      -4.0   \n",
      "429133  Sun Valley/Hailey/Ketchum, ID         Idaho   1045.0      -6.0   \n",
      "429134  Sun Valley/Hailey/Ketchum, ID         Idaho   1052.0      12.0   \n",
      "429136  Sun Valley/Hailey/Ketchum, ID         Idaho   1038.0      -2.0   \n",
      "429137  Sun Valley/Hailey/Ketchum, ID         Idaho   1033.0      -7.0   \n",
      "429138  Sun Valley/Hailey/Ketchum, ID         Idaho   1044.0      -6.0   \n",
      "429139  Sun Valley/Hailey/Ketchum, ID         Idaho   1047.0      -3.0   \n",
      "429140  Sun Valley/Hailey/Ketchum, ID         Idaho   1049.0      -1.0   \n",
      "429143  Sun Valley/Hailey/Ketchum, ID         Idaho   1052.0      12.0   \n",
      "429144  Sun Valley/Hailey/Ketchum, ID         Idaho   1047.0       5.0   \n",
      "429145  Sun Valley/Hailey/Ketchum, ID         Idaho   1042.0       2.0   \n",
      "429146  Sun Valley/Hailey/Ketchum, ID         Idaho   1053.0      13.0   \n",
      "\n",
      "        AirTime  Distance DepTimeStr         DepDateTime  DepHour  \n",
      "6          72.0     539.0      10:52 2015-02-07 10:52:00     10.0  \n",
      "31         91.0     679.0      10:04 2015-02-07 10:04:00     10.0  \n",
      "40        121.0     679.0      10:53 2015-02-07 10:53:00     10.0  \n",
      "57        108.0     671.0      10:14 2015-02-07 10:14:00     10.0  \n",
      "105       138.0    1050.0      10:59 2015-02-07 10:59:00     10.0  \n",
      "109       141.0    1050.0      10:58 2015-02-07 10:58:00     10.0  \n",
      "125       126.0     937.0      10:58 2015-02-07 10:58:00     10.0  \n",
      "173       124.0     867.0      10:46 2015-02-07 10:46:00     10.0  \n",
      "178       110.0     763.0      10:33 2015-02-07 10:33:00     10.0  \n",
      "193       145.0    1216.0      10:14 2015-02-07 10:14:00     10.0  \n",
      "200       134.0    1107.0      10:26 2015-02-07 10:26:00     10.0  \n",
      "219       188.0    1739.0      10:20 2015-02-07 10:20:00     10.0  \n",
      "237       213.0    1874.0      10:20 2015-02-07 10:20:00     10.0  \n",
      "246       158.0    1489.0      10:13 2015-02-07 10:13:00     10.0  \n",
      "248       257.0    2149.0      10:03 2015-02-07 10:03:00     10.0  \n",
      "263       135.0    1180.0      10:39 2015-02-07 10:39:00     10.0  \n",
      "285       357.0    2688.0      10:14 2015-02-07 10:14:00     10.0  \n",
      "291       391.0    2676.0      10:12 2015-02-07 10:12:00     10.0  \n",
      "338       159.0    1399.0      10:29 2015-02-08 10:29:00     10.0  \n",
      "350        35.0     204.0      10:39 2015-02-08 10:39:00     10.0  \n",
      "360        22.0      95.0      10:16 2015-02-08 10:16:00     10.0  \n",
      "371         8.0      31.0      10:41 2015-02-08 10:41:00     10.0  \n",
      "394       183.0    1448.0      10:17 2015-02-08 10:17:00     10.0  \n",
      "424        72.0     539.0      10:18 2015-02-08 10:18:00     10.0  \n",
      "451        96.0     679.0      10:08 2015-02-08 10:08:00     10.0  \n",
      "457        87.0     679.0      10:09 2015-02-08 10:09:00     10.0  \n",
      "497       129.0    1199.0      10:28 2015-02-20 10:28:00     10.0  \n",
      "516        43.0     214.0      10:27 2015-02-20 10:27:00     10.0  \n",
      "554        81.0     689.0      10:33 2015-02-20 10:33:00     10.0  \n",
      "556       134.0     813.0      10:05 2015-02-20 10:05:00     10.0  \n",
      "...         ...       ...        ...                 ...      ...  \n",
      "428778     87.0     541.0      10:54 2015-02-06 10:54:00     10.0  \n",
      "428781     76.0     622.0      10:44 2015-02-11 10:44:00     10.0  \n",
      "428787     80.0     622.0      10:11 2015-02-02 10:11:00     10.0  \n",
      "428888     84.0     508.0      10:34 2015-02-21 10:34:00     10.0  \n",
      "429024     50.0     308.0      10:37 2015-02-24 10:37:00     10.0  \n",
      "429025     59.0     308.0      10:37 2015-02-18 10:37:00     10.0  \n",
      "429026     52.0     308.0      10:41 2015-02-25 10:41:00     10.0  \n",
      "429027     53.0     308.0      10:40 2015-02-17 10:40:00     10.0  \n",
      "429047     76.0     436.0      10:55 2015-02-28 10:55:00     10.0  \n",
      "429050     65.0     449.0      10:55 2015-02-03 10:55:00     10.0  \n",
      "429123     81.0     587.0      10:34 2015-02-01 10:34:00     10.0  \n",
      "429124     86.0     587.0      10:38 2015-02-23 10:38:00     10.0  \n",
      "429125     85.0     587.0      10:38 2015-02-24 10:38:00     10.0  \n",
      "429126     90.0     587.0      10:38 2015-02-16 10:38:00     10.0  \n",
      "429127     72.0     587.0      10:58 2015-02-07 10:58:00     10.0  \n",
      "429128     97.0     587.0      10:46 2015-02-11 10:46:00     10.0  \n",
      "429129     80.0     587.0      10:44 2015-02-02 10:44:00     10.0  \n",
      "429130     77.0     587.0      10:39 2015-02-18 10:39:00     10.0  \n",
      "429131     83.0     587.0      10:36 2015-02-22 10:36:00     10.0  \n",
      "429133     87.0     587.0      10:45 2015-02-09 10:45:00     10.0  \n",
      "429134     77.0     587.0      10:52 2015-02-13 10:52:00     10.0  \n",
      "429136      NaN     587.0      10:38 2015-02-26 10:38:00     10.0  \n",
      "429137      NaN     587.0      10:33 2015-02-15 10:33:00     10.0  \n",
      "429138     90.0     587.0      10:44 2015-02-28 10:44:00     10.0  \n",
      "429139     80.0     587.0      10:47 2015-02-21 10:47:00     10.0  \n",
      "429140     84.0     587.0      10:49 2015-02-14 10:49:00     10.0  \n",
      "429143     81.0     587.0      10:52 2015-02-27 10:52:00     10.0  \n",
      "429144     89.0     587.0      10:47 2015-02-25 10:47:00     10.0  \n",
      "429145     84.0     587.0      10:42 2015-02-12 10:42:00     10.0  \n",
      "429146     69.0     587.0      10:53 2015-02-08 10:53:00     10.0  \n",
      "\n",
      "[25682 rows x 18 columns])\n"
     ]
    },
    {
     "name": "stdout",
     "output_type": "stream",
     "text": [
      "(0.0,         FlightDate  DayOfWeek Carrier TailNum  FlightNum Origin  \\\n",
      "271     2015-02-07          6      AS  N590AS        816    LIH   \n",
      "399     2015-02-08          7      AS  N769AS         98    ANC   \n",
      "405     2015-02-08          7      AS  N471AS        108    ANC   \n",
      "412     2015-02-08          7      AS  N556AS        122    ANC   \n",
      "960     2015-02-19          4      DL  N383DN        765    LAX   \n",
      "991     2015-02-19          4      DL  N127DL        806    SFO   \n",
      "1065    2015-02-19          4      DL  N589NW        892    LAX   \n",
      "1119    2015-02-19          4      DL  N339NB        993    ATL   \n",
      "1482    2015-02-20          5      DL  N345NW        922    DEN   \n",
      "1589    2015-02-20          5      DL  N144DA       1099    SFO   \n",
      "1793    2015-02-20          5      DL  N690DL       1264    SLC   \n",
      "2161    2015-02-20          5      DL  N3741S       1560    ANC   \n",
      "2369    2015-02-20          5      DL  N366NW       1722    SLC   \n",
      "2625    2015-02-18          3      DL  N378DA       2354    SLC   \n",
      "2979    2015-02-19          4      DL  N352NW       2324    SLC   \n",
      "3014    2015-02-19          4      DL  N381DN       2354    SLC   \n",
      "3117    2015-02-19          4      DL  N139DL       2440    SEA   \n",
      "3284    2015-02-19          4      DL   N6702       2579    DEN   \n",
      "3666    2015-02-20          5      DL  N121DE        806    SFO   \n",
      "3787    2015-02-21          6      DL  N371NW       1722    SLC   \n",
      "3804    2015-02-21          6      DL  N349NW       1745    SMF   \n",
      "3974    2015-02-21          6      DL  N383DN       1936    LAX   \n",
      "4064    2015-02-20          5      DL  N3751B       2059    LAS   \n",
      "4396    2015-02-20          5      DL  N681DA       2324    SLC   \n",
      "4432    2015-02-20          5      DL  N376DA       2354    SLC   \n",
      "4492    2015-02-20          5      DL  N332NW       2403    PHX   \n",
      "4536    2015-02-20          5      DL  N138DL       2440    SEA   \n",
      "4691    2015-02-20          5      DL  N910AT       2571    JFK   \n",
      "4701    2015-02-20          5      DL  N651DL       2579    DEN   \n",
      "4765    2015-02-22          7      DL  N399DA        765    LAX   \n",
      "...            ...        ...     ...     ...        ...    ...   \n",
      "423027  2015-02-16          1      US  N580UW        448    SLC   \n",
      "423344  2015-02-14          6      US  N198UW        448    SLC   \n",
      "423475  2015-02-14          6      US  N652AW        564    PHX   \n",
      "423689  2015-02-17          2      US  N161UW        677    LAS   \n",
      "423867  2015-02-17          2      US  N114UW       1717    CLT   \n",
      "424090  2015-02-17          2      US  N556UW       1866    LAX   \n",
      "424147  2015-02-17          2      US  N569UW       1905    SFO   \n",
      "424272  2015-02-17          2      US  N747UW       1998    CLT   \n",
      "424300  2015-02-17          2      US  N178US       2020    PHX   \n",
      "424306  2015-02-17          2      US  N554UW       2026    PHX   \n",
      "424385  2015-02-17          2      US  N755US       2070    CLT   \n",
      "424541  2015-02-18          3      US  N552UW        448    SLC   \n",
      "424789  2015-02-20          5      US  N548UW        448    SLC   \n",
      "424926  2015-02-16          1      US  N917US       2020    PHX   \n",
      "425152  2015-02-17          2      US  N154UW        448    SLC   \n",
      "425184  2015-02-17          2      US  N572UW        470    CLT   \n",
      "425376  2015-02-19          4      US  N556UW        448    SLC   \n",
      "425647  2015-02-19          4      US  N152UW        677    LAS   \n",
      "426060  2015-02-19          4      US  N521UW       1866    LAX   \n",
      "426118  2015-02-19          4      US  N825AW       1907    CLT   \n",
      "426274  2015-02-19          4      US  N560UW       2020    PHX   \n",
      "426406  2015-02-21          6      US  N155UW       2020    PHX   \n",
      "426570  2015-02-16          1      US  N193UW        677    LAS   \n",
      "426793  2015-02-18          3      US  N207UW        675    HNL   \n",
      "426795  2015-02-18          3      US  N559UW        677    LAS   \n",
      "427405  2015-02-18          3      US  N509AY       2020    PHX   \n",
      "427675  2015-02-20          5      US  N542UW       2020    PHX   \n",
      "427910  2015-02-21          6      US  N554UW        448    SLC   \n",
      "427936  2015-02-21          6      US  N649AW        467    PHX   \n",
      "428140  2015-02-21          6      US  N904AW        645    OGG   \n",
      "\n",
      "            OriginCityName OriginStateName Dest           DestCityName  \\\n",
      "271              Lihue, HI          Hawaii  SEA            Seattle, WA   \n",
      "399          Anchorage, AK          Alaska  SEA            Seattle, WA   \n",
      "405          Anchorage, AK          Alaska  SEA            Seattle, WA   \n",
      "412          Anchorage, AK          Alaska  PDX           Portland, OR   \n",
      "960        Los Angeles, CA      California  MEM            Memphis, TN   \n",
      "991      San Francisco, CA      California  MSP        Minneapolis, MN   \n",
      "1065       Los Angeles, CA      California  MSP        Minneapolis, MN   \n",
      "1119           Atlanta, GA         Georgia  CRW  Charleston/Dunbar, WV   \n",
      "1482            Denver, CO        Colorado  LGA           New York, NY   \n",
      "1589     San Francisco, CA      California  ATL            Atlanta, GA   \n",
      "1793    Salt Lake City, UT            Utah  JFK           New York, NY   \n",
      "2161         Anchorage, AK          Alaska  SEA            Seattle, WA   \n",
      "2369    Salt Lake City, UT            Utah  DTW            Detroit, MI   \n",
      "2625    Salt Lake City, UT            Utah  JFK           New York, NY   \n",
      "2979    Salt Lake City, UT            Utah  ATL            Atlanta, GA   \n",
      "3014    Salt Lake City, UT            Utah  JFK           New York, NY   \n",
      "3117           Seattle, WA      Washington  MSP        Minneapolis, MN   \n",
      "3284            Denver, CO        Colorado  ATL            Atlanta, GA   \n",
      "3666     San Francisco, CA      California  MSP        Minneapolis, MN   \n",
      "3787    Salt Lake City, UT            Utah  DTW            Detroit, MI   \n",
      "3804        Sacramento, CA      California  MSP        Minneapolis, MN   \n",
      "3974       Los Angeles, CA      California  CVG         Cincinnati, OH   \n",
      "4064         Las Vegas, NV          Nevada  ATL            Atlanta, GA   \n",
      "4396    Salt Lake City, UT            Utah  ATL            Atlanta, GA   \n",
      "4432    Salt Lake City, UT            Utah  JFK           New York, NY   \n",
      "4492           Phoenix, AZ         Arizona  CVG         Cincinnati, OH   \n",
      "4536           Seattle, WA      Washington  MSP        Minneapolis, MN   \n",
      "4691          New York, NY        New York  BOS             Boston, MA   \n",
      "4701            Denver, CO        Colorado  ATL            Atlanta, GA   \n",
      "4765       Los Angeles, CA      California  MEM            Memphis, TN   \n",
      "...                    ...             ...  ...                    ...   \n",
      "423027  Salt Lake City, UT            Utah  CLT          Charlotte, NC   \n",
      "423344  Salt Lake City, UT            Utah  CLT          Charlotte, NC   \n",
      "423475         Phoenix, AZ         Arizona  BOS             Boston, MA   \n",
      "423689       Las Vegas, NV          Nevada  PHL       Philadelphia, PA   \n",
      "423867       Charlotte, NC  North Carolina  FLL    Fort Lauderdale, FL   \n",
      "424090     Los Angeles, CA      California  CLT          Charlotte, NC   \n",
      "424147   San Francisco, CA      California  CLT          Charlotte, NC   \n",
      "424272       Charlotte, NC  North Carolina  BWI          Baltimore, MD   \n",
      "424300         Phoenix, AZ         Arizona  CLT          Charlotte, NC   \n",
      "424306         Phoenix, AZ         Arizona  PHL       Philadelphia, PA   \n",
      "424385       Charlotte, NC  North Carolina  CLE          Cleveland, OH   \n",
      "424541  Salt Lake City, UT            Utah  CLT          Charlotte, NC   \n",
      "424789  Salt Lake City, UT            Utah  CLT          Charlotte, NC   \n",
      "424926         Phoenix, AZ         Arizona  CLT          Charlotte, NC   \n",
      "425152  Salt Lake City, UT            Utah  CLT          Charlotte, NC   \n",
      "425184       Charlotte, NC  North Carolina  SAN          San Diego, CA   \n",
      "425376  Salt Lake City, UT            Utah  CLT          Charlotte, NC   \n",
      "425647       Las Vegas, NV          Nevada  PHL       Philadelphia, PA   \n",
      "426060     Los Angeles, CA      California  CLT          Charlotte, NC   \n",
      "426118       Charlotte, NC  North Carolina  DAB      Daytona Beach, FL   \n",
      "426274         Phoenix, AZ         Arizona  CLT          Charlotte, NC   \n",
      "426406         Phoenix, AZ         Arizona  CLT          Charlotte, NC   \n",
      "426570       Las Vegas, NV          Nevada  PHL       Philadelphia, PA   \n",
      "426793        Honolulu, HI          Hawaii  PHX            Phoenix, AZ   \n",
      "426795       Las Vegas, NV          Nevada  PHL       Philadelphia, PA   \n",
      "427405         Phoenix, AZ         Arizona  CLT          Charlotte, NC   \n",
      "427675         Phoenix, AZ         Arizona  CLT          Charlotte, NC   \n",
      "427910  Salt Lake City, UT            Utah  CLT          Charlotte, NC   \n",
      "427936         Phoenix, AZ         Arizona  MSP        Minneapolis, MN   \n",
      "428140         Kahului, HI          Hawaii  PHX            Phoenix, AZ   \n",
      "\n",
      "         DestStateName  DepTime  DepDelay  AirTime  Distance DepTimeStr  \\\n",
      "271         Washington      6.0      11.0    296.0    2701.0      00:06   \n",
      "399         Washington      9.0       4.0    183.0    1448.0      00:09   \n",
      "405         Washington     44.0      -1.0    179.0    1448.0      00:44   \n",
      "412             Oregon     40.0     -10.0    198.0    1542.0      00:40   \n",
      "960          Tennessee     57.0      -5.0    176.0    1619.0      00:57   \n",
      "991          Minnesota     19.0     -11.0    181.0    1589.0      00:19   \n",
      "1065         Minnesota     40.0       0.0    177.0    1535.0      00:40   \n",
      "1119     West Virginia      1.0     205.0     58.0     363.0      00:01   \n",
      "1482          New York     46.0      -6.0    177.0    1620.0      00:46   \n",
      "1589           Georgia     40.0     117.0    216.0    2139.0      00:40   \n",
      "1793          New York     18.0      38.0    211.0    1990.0      00:18   \n",
      "2161        Washington     34.0      -6.0    161.0    1448.0      00:34   \n",
      "2369          Michigan     25.0      -5.0    159.0    1481.0      00:25   \n",
      "2625          New York     51.0      -9.0    230.0    1990.0      00:51   \n",
      "2979           Georgia     54.0      -5.0    172.0    1590.0      00:54   \n",
      "3014          New York     54.0      -6.0    225.0    1990.0      00:54   \n",
      "3117         Minnesota     43.0      -7.0    153.0    1399.0      00:43   \n",
      "3284           Georgia     21.0       6.0    122.0    1199.0      00:21   \n",
      "3666         Minnesota     32.0       2.0    176.0    1589.0      00:32   \n",
      "3787          Michigan     30.0       0.0    165.0    1481.0      00:30   \n",
      "3804         Minnesota      3.0      -2.0    179.0    1517.0      00:03   \n",
      "3974          Kentucky     54.0      -6.0    199.0    1900.0      00:54   \n",
      "4064           Georgia     42.0       7.0    176.0    1747.0      00:42   \n",
      "4396           Georgia     58.0      -1.0    168.0    1590.0      00:58   \n",
      "4432          New York     54.0      -6.0    220.0    1990.0      00:54   \n",
      "4492          Kentucky     17.0     -13.0    170.0    1569.0      00:17   \n",
      "4536         Minnesota     46.0      -4.0    159.0    1399.0      00:46   \n",
      "4691     Massachusetts     57.0     292.0     36.0     187.0      00:57   \n",
      "4701           Georgia     16.0       1.0    128.0    1199.0      00:16   \n",
      "4765         Tennessee     58.0      -4.0    180.0    1619.0      00:58   \n",
      "...                ...      ...       ...      ...       ...        ...   \n",
      "423027  North Carolina     22.0      -8.0    189.0    1727.0      00:22   \n",
      "423344  North Carolina     38.0       8.0    197.0    1727.0      00:38   \n",
      "423475   Massachusetts     53.0      -2.0    264.0    2300.0      00:53   \n",
      "423689    Pennsylvania     32.0      -3.0    238.0    2176.0      00:32   \n",
      "423867         Florida   2400.0     110.0    101.0     631.0      00:00   \n",
      "424090  North Carolina     33.0      -2.0    231.0    2125.0      00:33   \n",
      "424147  North Carolina     18.0      -7.0    259.0    2296.0      00:18   \n",
      "424272        Maryland     35.0     135.0     50.0     361.0      00:35   \n",
      "424300  North Carolina     11.0      -4.0    186.0    1773.0      00:11   \n",
      "424306    Pennsylvania     13.0      23.0    236.0    2075.0      00:13   \n",
      "424385            Ohio   2400.0     100.0     62.0     430.0      00:00   \n",
      "424541  North Carolina     24.0      -6.0    193.0    1727.0      00:24   \n",
      "424789  North Carolina     35.0       5.0    189.0    1727.0      00:35   \n",
      "424926  North Carolina     13.0      -2.0    186.0    1773.0      00:13   \n",
      "425152  North Carolina     25.0      -5.0    190.0    1727.0      00:25   \n",
      "425184      California      4.0     354.0    276.0    2077.0      00:04   \n",
      "425376  North Carolina     29.0      -1.0    187.0    1727.0      00:29   \n",
      "425647    Pennsylvania     35.0       0.0    243.0    2176.0      00:35   \n",
      "426060  North Carolina     30.0      -5.0    224.0    2125.0      00:30   \n",
      "426118         Florida     36.0     116.0     64.0     416.0      00:36   \n",
      "426274  North Carolina     13.0      -2.0    187.0    1773.0      00:13   \n",
      "426406  North Carolina     12.0      -3.0    183.0    1773.0      00:12   \n",
      "426570    Pennsylvania     34.0      -1.0    229.0    2176.0      00:34   \n",
      "426793         Arizona      7.0      17.0    323.0    2917.0      00:07   \n",
      "426795    Pennsylvania     29.0      -6.0    253.0    2176.0      00:29   \n",
      "427405  North Carolina     20.0       5.0    196.0    1773.0      00:20   \n",
      "427675  North Carolina     12.0      -3.0    189.0    1773.0      00:12   \n",
      "427910  North Carolina     24.0      -6.0    183.0    1727.0      00:24   \n",
      "427936       Minnesota     17.0      18.0    144.0    1276.0      00:17   \n",
      "428140         Arizona      2.0      32.0    333.0    2845.0      00:02   \n",
      "\n",
      "               DepDateTime  DepHour  \n",
      "271    2015-02-07 00:06:00      0.0  \n",
      "399    2015-02-08 00:09:00      0.0  \n",
      "405    2015-02-08 00:44:00      0.0  \n",
      "412    2015-02-08 00:40:00      0.0  \n",
      "960    2015-02-19 00:57:00      0.0  \n",
      "991    2015-02-19 00:19:00      0.0  \n",
      "1065   2015-02-19 00:40:00      0.0  \n",
      "1119   2015-02-19 00:01:00      0.0  \n",
      "1482   2015-02-20 00:46:00      0.0  \n",
      "1589   2015-02-20 00:40:00      0.0  \n",
      "1793   2015-02-20 00:18:00      0.0  \n",
      "2161   2015-02-20 00:34:00      0.0  \n",
      "2369   2015-02-20 00:25:00      0.0  \n",
      "2625   2015-02-18 00:51:00      0.0  \n",
      "2979   2015-02-19 00:54:00      0.0  \n",
      "3014   2015-02-19 00:54:00      0.0  \n",
      "3117   2015-02-19 00:43:00      0.0  \n",
      "3284   2015-02-19 00:21:00      0.0  \n",
      "3666   2015-02-20 00:32:00      0.0  \n",
      "3787   2015-02-21 00:30:00      0.0  \n",
      "3804   2015-02-21 00:03:00      0.0  \n",
      "3974   2015-02-21 00:54:00      0.0  \n",
      "4064   2015-02-20 00:42:00      0.0  \n",
      "4396   2015-02-20 00:58:00      0.0  \n",
      "4432   2015-02-20 00:54:00      0.0  \n",
      "4492   2015-02-20 00:17:00      0.0  \n",
      "4536   2015-02-20 00:46:00      0.0  \n",
      "4691   2015-02-20 00:57:00      0.0  \n",
      "4701   2015-02-20 00:16:00      0.0  \n",
      "4765   2015-02-22 00:58:00      0.0  \n",
      "...                    ...      ...  \n",
      "423027 2015-02-16 00:22:00      0.0  \n",
      "423344 2015-02-14 00:38:00      0.0  \n",
      "423475 2015-02-14 00:53:00      0.0  \n",
      "423689 2015-02-17 00:32:00      0.0  \n",
      "423867 2015-02-17 00:00:00      0.0  \n",
      "424090 2015-02-17 00:33:00      0.0  \n",
      "424147 2015-02-17 00:18:00      0.0  \n",
      "424272 2015-02-17 00:35:00      0.0  \n",
      "424300 2015-02-17 00:11:00      0.0  \n",
      "424306 2015-02-17 00:13:00      0.0  \n",
      "424385 2015-02-17 00:00:00      0.0  \n",
      "424541 2015-02-18 00:24:00      0.0  \n",
      "424789 2015-02-20 00:35:00      0.0  \n",
      "424926 2015-02-16 00:13:00      0.0  \n",
      "425152 2015-02-17 00:25:00      0.0  \n",
      "425184 2015-02-17 00:04:00      0.0  \n",
      "425376 2015-02-19 00:29:00      0.0  \n",
      "425647 2015-02-19 00:35:00      0.0  \n",
      "426060 2015-02-19 00:30:00      0.0  \n",
      "426118 2015-02-19 00:36:00      0.0  \n",
      "426274 2015-02-19 00:13:00      0.0  \n",
      "426406 2015-02-21 00:12:00      0.0  \n",
      "426570 2015-02-16 00:34:00      0.0  \n",
      "426793 2015-02-18 00:07:00      0.0  \n",
      "426795 2015-02-18 00:29:00      0.0  \n",
      "427405 2015-02-18 00:20:00      0.0  \n",
      "427675 2015-02-20 00:12:00      0.0  \n",
      "427910 2015-02-21 00:24:00      0.0  \n",
      "427936 2015-02-21 00:17:00      0.0  \n",
      "428140 2015-02-21 00:02:00      0.0  \n",
      "\n",
      "[1337 rows x 18 columns]) (1337, 18)\n"
     ]
    }
   ],
   "source": [
    "# We have created a groupby object. That object behaves like a list.\n",
    "# Each element of that list is a (key, dataframe) tuple.\n",
    "# You can think of the key as the group's name. The dataframe\n",
    "# contains all the rows in the original dataframe that correspond \n",
    "# to that key: Here, group '0.0' contains all rows from flights \n",
    "# that departed on hour 0.\n",
    "\n",
    "print(type(by_hour))\n",
    "print(list(by_hour)[10])\n",
    "print(list(by_hour)[0], list(by_hour)[0][1].shape)"
   ]
  },
  {
   "cell_type": "markdown",
   "metadata": {},
   "source": [
    "### Everything looks ok! let's plot this thing!"
   ]
  },
  {
   "cell_type": "code",
   "execution_count": 139,
   "metadata": {},
   "outputs": [
    {
     "name": "stderr",
     "output_type": "stream",
     "text": [
      "/home/dsc/anaconda3/lib/python3.6/site-packages/numpy/core/fromnumeric.py:52: FutureWarning: reshape is deprecated and will raise in a subsequent release. Please use .values.reshape(...) instead\n",
      "  return getattr(obj, method)(*args, **kwds)\n"
     ]
    },
    {
     "data": {
      "image/png": "[encoded data removed]",
      "text/plain": [
       "<Figure size 720x432 with 1 Axes>"
      ]
     },
     "metadata": {},
     "output_type": "display_data"
    }
   ],
   "source": [
    "fig, ax1 = plt.subplots(figsize=(10, 6))\n",
    "\n",
    "ax1.set_ylim(-20, 240)\n",
    "\n",
    "bp = plt.boxplot(groups)\n",
    "\n",
    "labels = plt.setp(ax1, xticklabels=hours)"
   ]
  },
  {
   "cell_type": "code",
   "execution_count": null,
   "metadata": {},
   "outputs": [],
   "source": []
  }
 ],
 "metadata": {
  "kernelspec": {
   "display_name": "Python 3",
   "language": "python",
   "name": "python3"
  },
  "language_info": {
   "codemirror_mode": {
    "name": "ipython",
    "version": 3
   },
   "file_extension": ".py",
   "mimetype": "text/x-python",
   "name": "python",
   "nbconvert_exporter": "python",
   "pygments_lexer": "ipython3",
   "version": "3.6.4"
  }
 },
 "nbformat": 4,
 "nbformat_minor": 1
}
